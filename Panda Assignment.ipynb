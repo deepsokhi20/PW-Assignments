{
 "cells": [
  {
   "cell_type": "code",
   "execution_count": 3,
   "id": "6ea4aa6b-3c7b-40ba-924d-dad129f40a55",
   "metadata": {},
   "outputs": [
    {
     "name": "stdout",
     "output_type": "stream",
     "text": [
      "Requirement already satisfied: pandas in /opt/conda/lib/python3.10/site-packages (1.5.2)\n",
      "Requirement already satisfied: python-dateutil>=2.8.1 in /opt/conda/lib/python3.10/site-packages (from pandas) (2.8.2)\n",
      "Requirement already satisfied: pytz>=2020.1 in /opt/conda/lib/python3.10/site-packages (from pandas) (2022.6)\n",
      "Requirement already satisfied: numpy>=1.21.0 in /opt/conda/lib/python3.10/site-packages (from pandas) (1.23.5)\n",
      "Requirement already satisfied: six>=1.5 in /opt/conda/lib/python3.10/site-packages (from python-dateutil>=2.8.1->pandas) (1.16.0)\n",
      "Note: you may need to restart the kernel to use updated packages.\n"
     ]
    }
   ],
   "source": [
    "pip install pandas"
   ]
  },
  {
   "cell_type": "code",
   "execution_count": 2,
   "id": "c56724ea-3494-4192-8314-165010953650",
   "metadata": {},
   "outputs": [],
   "source": [
    "#Q1 \n",
    "import pandas as pd"
   ]
  },
  {
   "cell_type": "code",
   "execution_count": 11,
   "id": "c57dac60-1a31-4f58-8a3a-b2d1e0109008",
   "metadata": {},
   "outputs": [
    {
     "name": "stdout",
     "output_type": "stream",
     "text": [
      "0     4\n",
      "1     8\n",
      "2    15\n",
      "3    16\n",
      "4    23\n",
      "5    42\n",
      "dtype: int64\n"
     ]
    }
   ],
   "source": [
    "ser = pd.Series([4,8,15,16,23,42])\n",
    "print(ser)"
   ]
  },
  {
   "cell_type": "code",
   "execution_count": 12,
   "id": "4b028f53-aa08-4df2-a4bf-356c5aaba1bd",
   "metadata": {},
   "outputs": [
    {
     "name": "stdout",
     "output_type": "stream",
     "text": [
      "0     1\n",
      "1     2\n",
      "2     3\n",
      "3     4\n",
      "4     5\n",
      "5     6\n",
      "6     7\n",
      "7     8\n",
      "8     9\n",
      "9    10\n",
      "dtype: int64\n"
     ]
    }
   ],
   "source": [
    "#Q2\n",
    "list1 = [1,2,3,4,5,6,7,8,9,10]\n",
    "ser1 = pd.Series(list1)\n",
    "print(ser1)"
   ]
  },
  {
   "cell_type": "code",
   "execution_count": 15,
   "id": "870f6e8e-7890-4712-8848-2c1fb885ef34",
   "metadata": {},
   "outputs": [
    {
     "name": "stdout",
     "output_type": "stream",
     "text": [
      "     Name  Age  Gender\n",
      "0   Alice   25  Female\n",
      "1     Bob   30    Male\n",
      "2  Claire   27  Female\n"
     ]
    }
   ],
   "source": [
    "#Q3\n",
    "data = {\n",
    "\"Name\" : [\"Alice\", \"Bob\", \"Claire\"],\n",
    "\"Age\": [25, 30, 27],\n",
    "\"Gender\" : [\"Female\", \"Male\", \"Female\"]}\n",
    "df = pd.DataFrame(data)\n",
    "print(df)"
   ]
  },
  {
   "cell_type": "markdown",
   "id": "0c23337c-e851-4840-bf0a-ed3a4045f669",
   "metadata": {},
   "source": [
    "#Q4\n",
    "A pandas DataFrame is a two-dimensional data structure that can be thought of as a spreadsheet. It can also be thought of as a collection of two or more series with common indices\n",
    "\n",
    "whereas a pandas series is a one-dimensional data structure that comprises of key_value pair, where keys are indices and values are the values stored on that index. It is similar to python dictionary, except it provides more freedom to manipulate and edit the data.\n"
   ]
  },
  {
   "cell_type": "code",
   "execution_count": 3,
   "id": "db5bd2f0-4aed-455d-92ff-becb236e5c14",
   "metadata": {},
   "outputs": [
    {
     "name": "stdout",
     "output_type": "stream",
     "text": [
      "a    25\n",
      "b    26\n",
      "c    27\n",
      "d    28\n",
      "dtype: int64\n"
     ]
    }
   ],
   "source": [
    "#example of series\n",
    "data1= {'a': 25, 'b': 26, 'c': 27, 'd':28 }\n",
    "ser2 = pd.Series(data1)    \n",
    "print(ser2)"
   ]
  },
  {
   "cell_type": "code",
   "execution_count": 6,
   "id": "310720c5-9a04-44c4-b80e-4be256af46e1",
   "metadata": {},
   "outputs": [
    {
     "name": "stdout",
     "output_type": "stream",
     "text": [
      "   Jacks's        John's\n",
      "a   apples        orange\n",
      "b    mango        cherry\n",
      "c  bananas  strawberries\n"
     ]
    }
   ],
   "source": [
    "#example of dataframe\n",
    "fruits_jack = [\"apples\", \"mango\", \"bananas\"]\n",
    "fruits_john = [\"orange\", \"cherry\", \"strawberries\"]\n",
    "index = [\"a\", \"b\", \"c\"]\n",
    "all_fruits= {\"Jacks's\": fruits_jack, \"John's\": fruits_john}\n",
    "new_fruits  = pd.DataFrame(all_fruits, index = index)\n",
    "print(new_fruits)"
   ]
  },
  {
   "cell_type": "markdown",
   "id": "9646f143-a546-489c-b255-7c4baf990c10",
   "metadata": {},
   "source": [
    "#Q5\n",
    "There are many many funtions which are used to manipulate data\n",
    "\n",
    "1.read data- We can read data in pandas data frame as read_csv(). Two most used data read formats are csv and excel. If we are reading data in excel format, we can also give sheet names as follows. There are other less used options of other file types too\n",
    "#example- df = pd.read_csv(\"heart_failure.csv\")\n",
    "\n",
    "2.Head and tail- To see the data frame we can use df.head(). Head returns the first rows, if no input is given it will always show above 5 rows. In contrast to see below rows, we can use df.tail().\n",
    "example- df.head() or df.tail()\n",
    "\n",
    "3.size, shape and info- Two most basic functions after reading data is to know the number of rows and columns, and to know the datatype of variables. We can use df.shape, it gives a total number of rows and then columns. df.size() returns the number of rows times number of columns in the data frame. We can also use df.info(), from that we get different information such as rows from RangeIndex, Data columns and then data type of each column. It also includes the information of non-null counts.\n",
    "example = df.shape(), df.size(), df.info()\n",
    "\n",
    "4.describe - to understand basic statistics of variables we can use df.describe(). It will give you count, mean, standard deviation, and also 5 number summary.\n",
    "\n",
    "5.columns- to know the names of the columns we use df.columns"
   ]
  },
  {
   "cell_type": "markdown",
   "id": "ed2365e4-e438-46fc-a05b-5dec531c3ef6",
   "metadata": {},
   "source": [
    "#Q6\n",
    "\n",
    "series - Immutable, \n",
    "\n",
    "Data Frame - Mutable, \n",
    "\n",
    "panel - Mutable"
   ]
  },
  {
   "cell_type": "code",
   "execution_count": 8,
   "id": "938b1b14-2bbb-4b7b-ba00-4aeb0a57b329",
   "metadata": {},
   "outputs": [
    {
     "name": "stdout",
     "output_type": "stream",
     "text": [
      "   column1 column2  column3\n",
      "0        1       a     True\n",
      "1        2       b    False\n",
      "2        3       c     True\n",
      "3        4       d    False\n",
      "4        5       e     True\n"
     ]
    }
   ],
   "source": [
    "#Q7\n",
    "s1 = pd.Series([1,2,3,4,5])\n",
    "s2 = pd.Series([\"a\", \"b\", \"c\", \"d\", \"e\"])\n",
    "s3 = pd.Series([True, False, True, False, True])\n",
    "\n",
    "df = pd.DataFrame({\"column1\": s1 , \"column2\": s2, \"column3\": s3})\n",
    "print(df)"
   ]
  },
  {
   "cell_type": "code",
   "execution_count": null,
   "id": "2c930997-8238-49fc-8bf9-e0875827e110",
   "metadata": {},
   "outputs": [],
   "source": []
  }
 ],
 "metadata": {
  "kernelspec": {
   "display_name": "Python 3 (ipykernel)",
   "language": "python",
   "name": "python3"
  },
  "language_info": {
   "codemirror_mode": {
    "name": "ipython",
    "version": 3
   },
   "file_extension": ".py",
   "mimetype": "text/x-python",
   "name": "python",
   "nbconvert_exporter": "python",
   "pygments_lexer": "ipython3",
   "version": "3.10.8"
  }
 },
 "nbformat": 4,
 "nbformat_minor": 5
}
