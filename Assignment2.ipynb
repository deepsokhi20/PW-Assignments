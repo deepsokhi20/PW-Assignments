{
 "cells": [
  {
   "cell_type": "markdown",
   "id": "df40d773-3207-4002-97b9-07248d048479",
   "metadata": {},
   "source": [
    "#Q1\n",
    "comments are the statements which are ignored by the compiler. It increases the understanding of code. We can write comments by using hashtag(#).\n",
    "the different types of comments are- single line comments and multiline comments. single line comments are written using hashtag and multi line comments are written with triple quotes."
   ]
  },
  {
   "cell_type": "markdown",
   "id": "59430f9a-2daa-44ab-9c85-828d5871730d",
   "metadata": {},
   "source": [
    "#q2\n",
    "variables are the locations of a memory which can store the value of any data type. variables are nothing but just a name of a data. We can declare the values to variables by\n",
    "a = 2\n",
    "b=3"
   ]
  },
  {
   "cell_type": "code",
   "execution_count": 7,
   "id": "a841aca1-4edb-4a18-a4f0-9c9676aa1ef3",
   "metadata": {},
   "outputs": [
    {
     "data": {
      "text/plain": [
       "[67, 21, 23, 43, 45, 78]"
      ]
     },
     "execution_count": 7,
     "metadata": {},
     "output_type": "execute_result"
    }
   ],
   "source": [
    "#Q3 to convert any data type we simply use name as a function. for example:\n",
    "set1 = {23, 45, 67, 78, 21, 43}\n",
    "list(set1)"
   ]
  },
  {
   "cell_type": "markdown",
   "id": "26a453a3-beb1-4263-b99a-c362f3009608",
   "metadata": {},
   "source": [
    "#Q4 To run a Python script store in a ‘.py’ file in command line, we have to write ‘python’ keyword before the file name in the command prompt.\n",
    "python hello.py"
   ]
  },
  {
   "cell_type": "code",
   "execution_count": 9,
   "id": "0fb342dc-7d66-491f-a19a-ebda3a34d87a",
   "metadata": {},
   "outputs": [
    {
     "data": {
      "text/plain": [
       "[2, 3]"
      ]
     },
     "execution_count": 9,
     "metadata": {},
     "output_type": "execute_result"
    }
   ],
   "source": [
    "#Q5 \n",
    "my_list = [1,2,3,4,5]\n",
    "my_list[1:3]"
   ]
  },
  {
   "cell_type": "markdown",
   "id": "e1076bc3-fd98-4839-805a-f2a4dbf1971d",
   "metadata": {},
   "source": [
    "#Q6\n",
    "complex number is the imaginary number in mathematics. it is represented by \"i\" but in python it is represented by \"j\""
   ]
  },
  {
   "cell_type": "code",
   "execution_count": 10,
   "id": "d54e50ef-fca5-4ca6-8101-4cdb2fadf26d",
   "metadata": {},
   "outputs": [],
   "source": [
    "#Q7 \n",
    "age = 25"
   ]
  },
  {
   "cell_type": "code",
   "execution_count": 11,
   "id": "5552710f-44b0-42af-b7e9-1a532eb7a8b3",
   "metadata": {},
   "outputs": [
    {
     "data": {
      "text/plain": [
       "float"
      ]
     },
     "execution_count": 11,
     "metadata": {},
     "output_type": "execute_result"
    }
   ],
   "source": [
    "#Q8\n",
    "price = 9.99\n",
    "type(price)"
   ]
  },
  {
   "cell_type": "code",
   "execution_count": 13,
   "id": "265b66b6-01bf-4c7d-a621-d54a0931a50b",
   "metadata": {},
   "outputs": [
    {
     "data": {
      "text/plain": [
       "'Navdeep Kaur Sokhi'"
      ]
     },
     "execution_count": 13,
     "metadata": {},
     "output_type": "execute_result"
    }
   ],
   "source": [
    "#Q9 \n",
    "name = \"Navdeep Kaur Sokhi\"\n",
    "#we can print this variable either by using print() function or by just calling the variable\n",
    "name"
   ]
  },
  {
   "cell_type": "code",
   "execution_count": 14,
   "id": "453cf461-6d98-4317-95ac-fde6aa7e26ea",
   "metadata": {},
   "outputs": [
    {
     "name": "stdout",
     "output_type": "stream",
     "text": [
      "Navdeep Kaur Sokhi\n"
     ]
    }
   ],
   "source": [
    "print(name)"
   ]
  },
  {
   "cell_type": "code",
   "execution_count": 15,
   "id": "0ba6bf0e-23a2-45c9-9f4f-ac346746d8ed",
   "metadata": {},
   "outputs": [
    {
     "data": {
      "text/plain": [
       "'World'"
      ]
     },
     "execution_count": 15,
     "metadata": {},
     "output_type": "execute_result"
    }
   ],
   "source": [
    "#Q10\n",
    "s = \"Hello World!\"\n",
    "s[6:11]"
   ]
  },
  {
   "cell_type": "code",
   "execution_count": 16,
   "id": "00627fb9-bc5a-4ad4-9b1e-febb646b6bfd",
   "metadata": {},
   "outputs": [],
   "source": [
    "is_student = True"
   ]
  },
  {
   "cell_type": "code",
   "execution_count": null,
   "id": "f589531a-58e5-473d-9b0c-7bf178f248cc",
   "metadata": {},
   "outputs": [],
   "source": []
  }
 ],
 "metadata": {
  "kernelspec": {
   "display_name": "Python 3 (ipykernel)",
   "language": "python",
   "name": "python3"
  },
  "language_info": {
   "codemirror_mode": {
    "name": "ipython",
    "version": 3
   },
   "file_extension": ".py",
   "mimetype": "text/x-python",
   "name": "python",
   "nbconvert_exporter": "python",
   "pygments_lexer": "ipython3",
   "version": "3.10.8"
  }
 },
 "nbformat": 4,
 "nbformat_minor": 5
}
