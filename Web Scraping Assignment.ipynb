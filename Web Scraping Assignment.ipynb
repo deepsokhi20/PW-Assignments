{
 "cells": [
  {
   "cell_type": "markdown",
   "id": "2bbb30cc-b034-4091-87fc-e706fb690cd1",
   "metadata": {},
   "source": [
    "#Q1 \n",
    "Suppose if you have to a new phone then you will go to the any e-commerce website like amazon, flipkart etc to check the reviews and specifications but if you want to know about so many phones in small interval of time then web scraping is used. To extract the large amount of content from a website is called web scrapping. It is used to do large amount of fork in a short period and it also gives better access to the data. It is used in e-commerce websites like Amazon, Flipkart, eBay etc for extracting data."
   ]
  },
  {
   "cell_type": "markdown",
   "id": "979910ce-4f20-4de3-ac6a-fc288519046d",
   "metadata": {},
   "source": [
    "#Q2 different methods for web scrapping are\n",
    "\n",
    "human copy and paste- Manually copying and pasting data from a web page into a text file or spreadsheet is the most basic form of web scraping. Even the best web-scraping technology cannot always replace a human’s manual examination and copy-and-paste, and this may be the only viable option when the websites for scraping explicitly prohibit machine automation.\n",
    "\n",
    "HTML Parsing - Many websites contain large collections of pages that are dynamically generated from an underlying structured source, such as a database. A common script or template is typically used to encode data from the same category into similar pages. A wrapper is a program in data mining that detects such templates in a specific information source, extracts its content, and converts it to a relational form.\n",
    "\n",
    "DOM Parsing - DOM parsing allows you to parse HTML or XML documents into their corresponding Document Object Model (DOM) representation. DOM Parser is part of the W3C standard that provides methods to navigate the DOM tree and extract desired information from it, such as text or attributes."
   ]
  },
  {
   "cell_type": "markdown",
   "id": "357e2d8d-96ab-4c37-bf38-bec939c198f0",
   "metadata": {},
   "source": [
    "#Q3 \n",
    "\n",
    "BeautifulSoup is a python library that makes it easy to extract information from web pages.It allows us to parse HTML and XML pages. It is used to parse the unwanted data and helps to organize and format the messy web data by fixing bad HTML and present to us in an easily transversible XML structures"
   ]
  },
  {
   "cell_type": "markdown",
   "id": "4f132e5a-6071-4ad3-a6ef-3898ded6a139",
   "metadata": {},
   "source": [
    "#Q4 \n",
    "\n",
    "Flask is an API of python that allows us to build up web_applications. Flask has a light weight framework that offers hassle free development. It also gives us flexibility to do experiment with our models. and it is suitable for small projects. And as flask is an API we can easily use HTML codes to access the data and combine it with the python codes."
   ]
  },
  {
   "cell_type": "markdown",
   "id": "1ab0e67e-ae1f-4a51-ad82-58d7dfb0791d",
   "metadata": {},
   "source": [
    "#Q5\n",
    "\n",
    "AWS Beanstalk - AWS Beanstalk was created to help developers manage website infrastructure. It’s difficult for developers to switch from development to maintenance at the drop of a hat. Yet, AWS Beanstalk offers autoscaling to ensure automatic updates of new software. And, this service runs automatically.\n",
    "\n",
    "AWS CodePipeline - AWS CodePipeline is a fully managed continuous delivery service that helps you automate your release pipeline. It allows users to build, test and deploy code into a test or production environment"
   ]
  },
  {
   "cell_type": "code",
   "execution_count": null,
   "id": "54676fb7-86e3-4b7e-8e72-3f88b97ff56c",
   "metadata": {},
   "outputs": [],
   "source": []
  }
 ],
 "metadata": {
  "kernelspec": {
   "display_name": "Python 3 (ipykernel)",
   "language": "python",
   "name": "python3"
  },
  "language_info": {
   "codemirror_mode": {
    "name": "ipython",
    "version": 3
   },
   "file_extension": ".py",
   "mimetype": "text/x-python",
   "name": "python",
   "nbconvert_exporter": "python",
   "pygments_lexer": "ipython3",
   "version": "3.10.8"
  }
 },
 "nbformat": 4,
 "nbformat_minor": 5
}
