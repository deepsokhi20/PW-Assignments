{
 "cells": [
  {
   "cell_type": "markdown",
   "id": "ac8b76d8-37f3-4451-988a-edd4ae232129",
   "metadata": {},
   "source": [
    "#Q1\n",
    "abstraction is the blueprint of the class and other classes can inherit that blueprint and write their own functions according to its requirement"
   ]
  },
  {
   "cell_type": "code",
   "execution_count": 1,
   "id": "8fd299e7-6252-4bc7-ad78-a26d74633856",
   "metadata": {},
   "outputs": [],
   "source": [
    "import abc\n",
    "class pwskills:\n",
    "    \n",
    "    @abc.abstractmethod\n",
    "    def student_details(self):\n",
    "        pass\n",
    "    \n",
    "    @abc.abstractmethod\n",
    "    def student_assignment(self):\n",
    "        pass\n",
    "    \n",
    "    @abc.abstractmethod\n",
    "    def student_marks(self):\n",
    "        pass"
   ]
  },
  {
   "cell_type": "code",
   "execution_count": 12,
   "id": "ffcdd4ef-4a10-4b3f-9662-55289fb4618d",
   "metadata": {},
   "outputs": [],
   "source": [
    "class data_science_masters(pwskills):\n",
    "    \n",
    "    def student_details(self):\n",
    "        return \"this method will give you student details\"\n",
    "    \n",
    "    def student_assignment(self):\n",
    "        return \"this method will give you details of student's assignment\"\n",
    "    \n",
    "    def student_marks(self):\n",
    "        return \"marks is just a number :)\""
   ]
  },
  {
   "cell_type": "code",
   "execution_count": 13,
   "id": "d57c1395-f174-4dcd-95dd-ac136de73d39",
   "metadata": {},
   "outputs": [],
   "source": [
    "dsa = data_science_masters()"
   ]
  },
  {
   "cell_type": "code",
   "execution_count": 7,
   "id": "fd67899c-11c4-4426-a965-aee80d300248",
   "metadata": {},
   "outputs": [
    {
     "data": {
      "text/plain": [
       "\"this method will give you details of student's assignment\""
      ]
     },
     "execution_count": 7,
     "metadata": {},
     "output_type": "execute_result"
    }
   ],
   "source": [
    "dsa.student_assignment()"
   ]
  },
  {
   "cell_type": "code",
   "execution_count": 8,
   "id": "bfb116af-09c5-4edb-982c-308cde039074",
   "metadata": {},
   "outputs": [
    {
     "data": {
      "text/plain": [
       "'this method will give you student details'"
      ]
     },
     "execution_count": 8,
     "metadata": {},
     "output_type": "execute_result"
    }
   ],
   "source": [
    "dsa.student_details()"
   ]
  },
  {
   "cell_type": "code",
   "execution_count": 14,
   "id": "85b14d40-ea3f-465d-acd4-ccfa73266fa0",
   "metadata": {},
   "outputs": [
    {
     "data": {
      "text/plain": [
       "'marks is just a number :)'"
      ]
     },
     "execution_count": 14,
     "metadata": {},
     "output_type": "execute_result"
    }
   ],
   "source": [
    "dsa.student_marks()"
   ]
  },
  {
   "cell_type": "markdown",
   "id": "d3829598-4f61-4d75-bfe8-da95114fff59",
   "metadata": {},
   "source": [
    "#Q2 Abstraction is a blueprint of a class and other classes can inherit that blueprint and write their own funtions according to it. In abstraction we can use only that functions which are useful for our work and hide the unnecessary details. Encapsulation means hiding the sensitive data from users. So hiding and protecting data from the users is called Encapsulation"
   ]
  },
  {
   "cell_type": "code",
   "execution_count": 15,
   "id": "e1d14976-6540-44b9-be6b-ed3a42b0dbb3",
   "metadata": {},
   "outputs": [],
   "source": [
    "#example of abstraction \n",
    "class lakshaya_batch(pwskills):\n",
    "    \n",
    "    def student_details(self):\n",
    "        return \"this method will give you student details of lakshaya batch\"\n",
    "    \n",
    "    def student_assignment(self):\n",
    "        return \"this method will give you details of student's assignments of lakshaya batch\"\n",
    "    \n",
    "    def student_marks(self):\n",
    "        return \"marks is just a number :)\""
   ]
  },
  {
   "cell_type": "code",
   "execution_count": 16,
   "id": "94810b45-940c-4b9b-98dc-9ca910e84e22",
   "metadata": {},
   "outputs": [],
   "source": [
    "lb = lakshaya_batch()"
   ]
  },
  {
   "cell_type": "code",
   "execution_count": 18,
   "id": "f3bd499e-c29a-4d3c-854a-10b3cd6b1693",
   "metadata": {},
   "outputs": [
    {
     "data": {
      "text/plain": [
       "\"this method will give you details of student's assignments of lakshaya batch\""
      ]
     },
     "execution_count": 18,
     "metadata": {},
     "output_type": "execute_result"
    }
   ],
   "source": [
    "lb.student_assignment()"
   ]
  },
  {
   "cell_type": "code",
   "execution_count": 19,
   "id": "c6015ddd-783d-4aff-80e7-77c0892423a8",
   "metadata": {},
   "outputs": [
    {
     "data": {
      "text/plain": [
       "'marks is just a number :)'"
      ]
     },
     "execution_count": 19,
     "metadata": {},
     "output_type": "execute_result"
    }
   ],
   "source": [
    "lb.student_marks()"
   ]
  },
  {
   "cell_type": "code",
   "execution_count": 23,
   "id": "ad7952d2-32b5-489f-89ae-656c4b5388ab",
   "metadata": {},
   "outputs": [],
   "source": [
    "#exaample of encapsulation\n",
    "\n",
    "class car:\n",
    "    def __init__(self, year, make, model, speed):\n",
    "        self.__year = year\n",
    "        self.__make= make\n",
    "        self.__model= model\n",
    "        self.speed = 0"
   ]
  },
  {
   "cell_type": "code",
   "execution_count": 25,
   "id": "34624978-3dac-479c-9dc7-063d5527fa13",
   "metadata": {},
   "outputs": [],
   "source": [
    "c = car(2021, \"Toyota\", \"Innova\", 12)"
   ]
  },
  {
   "cell_type": "code",
   "execution_count": 26,
   "id": "429c1dc3-88e7-433f-83d0-764df75b9e04",
   "metadata": {},
   "outputs": [
    {
     "ename": "AttributeError",
     "evalue": "'car' object has no attribute 'year'",
     "output_type": "error",
     "traceback": [
      "\u001b[0;31m---------------------------------------------------------------------------\u001b[0m",
      "\u001b[0;31mAttributeError\u001b[0m                            Traceback (most recent call last)",
      "Cell \u001b[0;32mIn[26], line 1\u001b[0m\n\u001b[0;32m----> 1\u001b[0m \u001b[43mc\u001b[49m\u001b[38;5;241;43m.\u001b[39;49m\u001b[43myear\u001b[49m()\n",
      "\u001b[0;31mAttributeError\u001b[0m: 'car' object has no attribute 'year'"
     ]
    }
   ],
   "source": [
    "c.year() #this not show the year"
   ]
  },
  {
   "cell_type": "code",
   "execution_count": 29,
   "id": "9b25b2e4-42c2-4e0a-b7b8-492f0d804435",
   "metadata": {},
   "outputs": [
    {
     "data": {
      "text/plain": [
       "2021"
      ]
     },
     "execution_count": 29,
     "metadata": {},
     "output_type": "execute_result"
    }
   ],
   "source": [
    "c._car__year #but this will show"
   ]
  },
  {
   "cell_type": "markdown",
   "id": "1bed4350-c580-4732-828a-2f725ed0cac0",
   "metadata": {},
   "source": [
    "#Q3 \n",
    "An abc module stands for abstract base class. It is used to make blueprint of the other classes. In larger projects it is impossible to remember class details. Therefore abc is module is used in python."
   ]
  },
  {
   "cell_type": "markdown",
   "id": "8cab40b4-e673-4db9-82f7-90b359377d41",
   "metadata": {},
   "source": [
    "#Q4 To achieve data abstraction we have to first create an abstract class in which we will create the blueprint of the class. Later we can create other classes which will inherit the blueprint of the abstract class and only use the required functions and hide the unnecessary funtions"
   ]
  },
  {
   "cell_type": "markdown",
   "id": "ba946daa-2ee8-4b03-bd4b-1d73247c3030",
   "metadata": {},
   "source": [
    "#Q5 No we cannot create the instance of an abstract class because abstract class is the blueprint of a class and contains abstract methods without any implementation. We can create its instance only by creating subclasses which will inherit functions from the abstract class"
   ]
  },
  {
   "cell_type": "code",
   "execution_count": null,
   "id": "a79af65e-2518-4f9b-8506-b6ff947d4907",
   "metadata": {},
   "outputs": [],
   "source": []
  }
 ],
 "metadata": {
  "kernelspec": {
   "display_name": "Python 3 (ipykernel)",
   "language": "python",
   "name": "python3"
  },
  "language_info": {
   "codemirror_mode": {
    "name": "ipython",
    "version": 3
   },
   "file_extension": ".py",
   "mimetype": "text/x-python",
   "name": "python",
   "nbconvert_exporter": "python",
   "pygments_lexer": "ipython3",
   "version": "3.10.8"
  }
 },
 "nbformat": 4,
 "nbformat_minor": 5
}
