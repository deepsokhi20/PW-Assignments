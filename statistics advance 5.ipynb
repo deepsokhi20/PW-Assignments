{
 "cells": [
  {
   "cell_type": "code",
   "execution_count": 1,
   "id": "06ecf787-1ee6-495e-8686-460e2cc4cfac",
   "metadata": {},
   "outputs": [
    {
     "name": "stdout",
     "output_type": "stream",
     "text": [
      "95% Confidence Interval: (49.01, 50.99)\n"
     ]
    }
   ],
   "source": [
    "#Q1\n",
    "\n",
    "import scipy.stats as stats\n",
    "\n",
    "# Sample data\n",
    "sample_mean = 50\n",
    "sample_std = 5\n",
    "sample_size = 100\n",
    "\n",
    "# Calculate the standard error\n",
    "standard_error = sample_std / (sample_size**0.5)\n",
    "\n",
    "# Define the confidence level and degrees of freedom\n",
    "confidence_level = 0.95\n",
    "degrees_of_freedom = sample_size - 1\n",
    "\n",
    "# Calculate the margin of error (z-value for a 95% confidence interval)\n",
    "margin_of_error = stats.t.ppf((1 + confidence_level) / 2, df=degrees_of_freedom) * standard_error\n",
    "\n",
    "# Calculate the confidence interval\n",
    "lower_bound = sample_mean - margin_of_error\n",
    "upper_bound = sample_mean + margin_of_error\n",
    "\n",
    "# Print the results\n",
    "print(f\"95% Confidence Interval: ({lower_bound:.2f}, {upper_bound:.2f})\")\n"
   ]
  },
  {
   "cell_type": "code",
   "execution_count": 1,
   "id": "ad67b710-0205-4416-bb42-4a7532867824",
   "metadata": {},
   "outputs": [
    {
     "name": "stdout",
     "output_type": "stream",
     "text": [
      "Fail to reject the null hypothesis: The distribution matches the expected distribution.\n"
     ]
    }
   ],
   "source": [
    "#Q2\n",
    "\n",
    "import numpy as np\n",
    "from scipy import stats\n",
    "\n",
    "observed = np.array([25, 15, 30, 10, 12, 18])  \n",
    "\n",
    "\n",
    "expected = np.array([0.20, 0.20, 0.20, 0.10, 0.10, 0.20]) * np.sum(observed)\n",
    "\n",
    "chi_square_statistic, p_value = stats.chisquare(observed, expected)\n",
    "\n",
    "alpha = 0.05\n",
    "\n",
    "if p_value < alpha:\n",
    "    print(\"Reject the null hypothesis: The distribution does not match the expected distribution.\")\n",
    "else:\n",
    "    print(\"Fail to reject the null hypothesis: The distribution matches the expected distribution.\")\n"
   ]
  },
  {
   "cell_type": "code",
   "execution_count": 3,
   "id": "d96dccdf-b1d8-44bd-bd43-24af1e795871",
   "metadata": {},
   "outputs": [
    {
     "name": "stdout",
     "output_type": "stream",
     "text": [
      "chi-square statistics:5.833333333333334\n",
      "P-Value:0.05411376622282158\n",
      "Degrees of freedom:2\n",
      "Expected frequencies:\n",
      "[[15. 20.]\n",
      " [15. 20.]\n",
      " [15. 20.]]\n"
     ]
    }
   ],
   "source": [
    "#Q3\n",
    "\n",
    "import numpy as np\n",
    "from scipy.stats import chi2_contingency\n",
    "\n",
    "observed = np.array([[20,15],[10,25],[15,20]])\n",
    "\n",
    "chi2, p, dof, expected = chi2_contingency(observed)\n",
    "\n",
    "print(f\"chi-square statistics:{chi2}\")\n",
    "print(f\"P-Value:{p}\")\n",
    "print(f\"Degrees of freedom:{dof}\")\n",
    "print(\"Expected frequencies:\")\n",
    "print(expected)"
   ]
  },
  {
   "cell_type": "code",
   "execution_count": 10,
   "id": "9f392873-33c5-4f04-92e1-fb5c6d8d6170",
   "metadata": {},
   "outputs": [
    {
     "name": "stdout",
     "output_type": "stream",
     "text": [
      "95% Confidence Interval for the Proportion of Smokers: (0.09151638887130707, 0.1484836111286929)\n"
     ]
    }
   ],
   "source": [
    "#Q4\n",
    "\n",
    "import scipy.stats as stats\n",
    "import math\n",
    "total_population = 500\n",
    "sample_proportion = smokers / total_population\n",
    "\n",
    "std_error = math.sqrt((sample_proportion * (1 - sample_proportion)) / total_population)\n",
    "confidence_level = 0.95\n",
    "alpha = 1 - confidence_level\n",
    "z_critical = stats.norm.ppf(1 - alpha / 2)\n",
    "\n",
    "margin_of_error = z_critical * std_error\n",
    "\n",
    "confidence_interval = (sample_proportion - margin_of_error, sample_proportion + margin_of_error)\n",
    "\n",
    "print(f\"95% Confidence Interval for the Proportion of Smokers: {confidence_interval}\")\n"
   ]
  },
  {
   "cell_type": "code",
   "execution_count": 7,
   "id": "265da4ff-c09f-4469-b31b-67366ab3992d",
   "metadata": {},
   "outputs": [
    {
     "name": "stdout",
     "output_type": "stream",
     "text": [
      "90% confidence interval: (72.15479878877537,77.84520121122463)\n"
     ]
    }
   ],
   "source": [
    "#Q5\n",
    "\n",
    "import scipy.stats as stats\n",
    "sample_mean = 75\n",
    "sample_std_dev = 12\n",
    "#let \n",
    "sample_size = 50\n",
    "confidence_level = 0.90\n",
    "standard_error = sample_std_dev / (sample_size**0.5)\n",
    "dof = sample_size - 1\n",
    "margin_of_error = stats.t.ppf((1+confidence_level)/2, dof)*(standard_error)\n",
    "\n",
    "lower_bound = sample_mean - margin_of_error\n",
    "upper_bound = sample_mean + margin_of_error\n",
    "\n",
    "print(f\"90% confidence interval: ({lower_bound},{upper_bound})\")"
   ]
  },
  {
   "cell_type": "code",
   "execution_count": 9,
   "id": "dcd01281-c54c-4c42-9020-0d18cbc38572",
   "metadata": {},
   "outputs": [
    {
     "data": {
      "text/plain": [
       "<matplotlib.collections.PolyCollection at 0x7fd51aeac550>"
      ]
     },
     "execution_count": 9,
     "metadata": {},
     "output_type": "execute_result"
    },
    {
     "data": {
      "image/png": "[encoded data removed]",
      "text/plain": [
       "<Figure size 800x400 with 1 Axes>"
      ]
     },
     "metadata": {},
     "output_type": "display_data"
    }
   ],
   "source": [
    "#Q6\n",
    "import numpy as np\n",
    "import matplotlib.pyplot as plt\n",
    "import scipy.stats as stats\n",
    "\n",
    "df = 10\n",
    "\n",
    "x= np.linspace(0,30,500)\n",
    "pdf = stats.chi2.pdf(x,df)\n",
    "plt.figure(figsize = (8,4))\n",
    "plt.plot(x,pdf, label = f\"chi-square distribution df = {10}\", color = 'blue')\n",
    "x_shaded = np.linspace(0,15,500)\n",
    "pdf_shaded = stats.chi2.pdf(x_shaded,df)\n",
    "plt.fill_between(x_shaded,pdf_shaded, color = \"gray\", alpha = 0.6, label = \"shaded area(x^2 = 15)\")"
   ]
  },
  {
   "cell_type": "code",
   "execution_count": 10,
   "id": "a58d8122-aacd-4dce-9e59-ebc4cf7f8901",
   "metadata": {},
   "outputs": [
    {
     "name": "stdout",
     "output_type": "stream",
     "text": [
      "99% Confidence Interval for the Proportion of People Preferring Coke: (0.4793, 0.5607)\n"
     ]
    }
   ],
   "source": [
    "#Q7\n",
    "import math\n",
    "\n",
    "# Sample size and sample proportion\n",
    "n = 1000\n",
    "sample_proportion = 520 / n\n",
    "\n",
    "# Confidence level\n",
    "confidence_level = 0.99\n",
    "\n",
    "# Calculate the critical value (z-score)\n",
    "critical_value = 2.576  # From a standard normal distribution table for 99% confidence\n",
    "\n",
    "# Calculate the margin of error\n",
    "margin_of_error = critical_value * math.sqrt((sample_proportion * (1 - sample_proportion)) / n)\n",
    "\n",
    "# Calculate the confidence interval\n",
    "lower_bound = sample_proportion - margin_of_error\n",
    "upper_bound = sample_proportion + margin_of_error\n",
    "\n",
    "# Display the results\n",
    "print(f\"99% Confidence Interval for the Proportion of People Preferring Coke: ({lower_bound:.4f}, {upper_bound:.4f})\")\n"
   ]
  },
  {
   "cell_type": "code",
   "execution_count": 14,
   "id": "ac67674a-93f0-4cf3-8bfa-5509922bf33f",
   "metadata": {},
   "outputs": [
    {
     "name": "stdout",
     "output_type": "stream",
     "text": [
      "fail to reject the null hypothesis\n",
      "chi-square statistics: 1.0\n",
      "critical_ Value: 3.841458820694124\n"
     ]
    }
   ],
   "source": [
    "#Q8\n",
    "import scipy.stats as stats\n",
    "\n",
    "observed_tails = 45\n",
    "observed_heads = 55\n",
    "\n",
    "expected_tails = 50\n",
    "expected_heads = 50\n",
    "\n",
    "chi_squared = ((observed_tails - expected_tails)**2/expected_tails) + ((observed_heads - expected_heads)**2/expected_heads)\n",
    "df = 1\n",
    "alpha = 0.05\n",
    "critical_value = stats.chi2.ppf(1 - alpha, df)\n",
    "if chi_squared > critical_value:\n",
    "    print(\"reject the null hypothesis\")\n",
    "else:\n",
    "    print(\"fail to reject the null hypothesis\")\n",
    "    \n",
    "print(\"chi-square statistics:\", chi_squared)\n",
    "print(\"critical_ Value:\", critical_value)"
   ]
  },
  {
   "cell_type": "code",
   "execution_count": 16,
   "id": "fea65f48-7331-432e-8832-f789720dbe71",
   "metadata": {},
   "outputs": [
    {
     "name": "stdout",
     "output_type": "stream",
     "text": [
      "reject the null hypothesis\n",
      "chi-square statistic 12.903225806451612\n",
      "critical_value 3.841458820694124\n"
     ]
    }
   ],
   "source": [
    "#Q9\n",
    "\n",
    "import numpy as np\n",
    "import scipy.stats as stats\n",
    "\n",
    "observed = np.array([[60,140],[30,170]])\n",
    "expected = np.outer(np.sum(observed, axis = 1), np.sum(observed, axis = 0))/np.sum(observed)\n",
    "chi_squared = np.sum((observed - expected)**2/expected)\n",
    "df = (observed.shape[0]-1)* (observed.shape[1] - 1)\n",
    "alpha = 0.05\n",
    "critical_value = stats.chi2.ppf(1-alpha, df)\n",
    "if chi_squared > critical_value:\n",
    "    print(\"reject the null hypothesis\")\n",
    "else:\n",
    "    print(\"fail to reject the null hypothesis\")\n",
    "\n",
    "print(\"chi-square statistic\", chi_squared)\n",
    "print(\"critical_value\", critical_value)"
   ]
  },
  {
   "cell_type": "code",
   "execution_count": 19,
   "id": "417b68f4-5749-45de-9f49-280d10f761c5",
   "metadata": {},
   "outputs": [
    {
     "name": "stdout",
     "output_type": "stream",
     "text": [
      "reject the null hypothesis\n",
      "chi-square statistics: 13.393665158371041\n",
      "critical_value: 9.21034037197618\n"
     ]
    }
   ],
   "source": [
    "#Q10\n",
    "\n",
    "import numpy as np\n",
    "import scipy.stats as stats\n",
    "\n",
    "observed = np.array([[200,150,150],[225,175,100]])\n",
    "expected = np.outer(np.sum(observed, axis = 1), np.sum(observed, axis = 0)/np.sum(observed))\n",
    "chi_squared = np.sum((observed - expected)**2/expected)\n",
    "df = (observed.shape[0]-1)*(observed.shape[1]-1)\n",
    "alpha = 0.01\n",
    "\n",
    "critical_value = stats.chi2.ppf(1-alpha, df)\n",
    "\n",
    "if chi_squared > critical_value:\n",
    "    print(\"reject the null hypothesis\")\n",
    "else:\n",
    "    print(\"fail to reject the null hypothesis\")\n",
    "    \n",
    "print(\"chi-square statistics:\", chi_squared)\n",
    "print(\"critical_value:\", critical_value)"
   ]
  },
  {
   "cell_type": "code",
   "execution_count": 24,
   "id": "0883c5d8-33fc-4f10-9558-3de7d4dd7f75",
   "metadata": {},
   "outputs": [
    {
     "name": "stdout",
     "output_type": "stream",
     "text": [
      "reject the null hypothesis\n",
      "t-statistics 1.0954451150103321\n",
      "critical_value at alpha/2=-2.0452296421327034 , 1-alpha/2=2.045229642132703\n"
     ]
    }
   ],
   "source": [
    "#Q11\n",
    "import scipy.stats as stats\n",
    "\n",
    "sample_mean = 72\n",
    "sample_std_dev = 10\n",
    "sample_size = 30\n",
    "population_mean = 70\n",
    "alpha = 0.05\n",
    "t_statistic = (sample_mean - population_mean)/ (sample_std_dev/(sample_size)**0.5)\n",
    "df = sample_size - 1\n",
    "critical_value_left = stats.t.ppf(alpha/2, df)\n",
    "critical_value_right = stats.t.ppf(1-alpha/2, df)\n",
    "\n",
    "if t_statistic < critical_value_right or t_statistic > critical_value_right:\n",
    "    print(\"reject the null hypothesis\")\n",
    "else:\n",
    "    print(\"fail to reject the null hypothesis\")\n",
    "print(\"t-statistics\", t_statistic)\n",
    "print(f\"critical_value at alpha/2={critical_value_left} , 1-alpha/2={critical_value_right}\")"
   ]
  },
  {
   "cell_type": "code",
   "execution_count": null,
   "id": "28173a13-02a6-4ff6-b65e-40ac8f075311",
   "metadata": {},
   "outputs": [],
   "source": []
  }
 ],
 "metadata": {
  "kernelspec": {
   "display_name": "Python 3 (ipykernel)",
   "language": "python",
   "name": "python3"
  },
  "language_info": {
   "codemirror_mode": {
    "name": "ipython",
    "version": 3
   },
   "file_extension": ".py",
   "mimetype": "text/x-python",
   "name": "python",
   "nbconvert_exporter": "python",
   "pygments_lexer": "ipython3",
   "version": "3.10.8"
  }
 },
 "nbformat": 4,
 "nbformat_minor": 5
}
