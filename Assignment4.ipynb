{
 "cells": [
  {
   "cell_type": "code",
   "execution_count": 55,
   "id": "4fe62a11-eb9c-4005-8509-fe1fdab5a998",
   "metadata": {},
   "outputs": [
    {
     "name": "stdout",
     "output_type": "stream",
     "text": [
      "[('Virat Kohli', 24936), ('Jack Kallis', 25534), ('Ricky Painting', 27483), ('Sachin Tendulkar', 34357)]\n"
     ]
    }
   ],
   "source": [
    "#Q1\n",
    "l = [(\"Sachin Tendulkar\",34357), (\"Ricky Painting\",27483),(\"Jack Kallis\", 25534),(\"Virat Kohli\", 24936)]\n",
    "sorted_list= sorted(l, key = lambda x:x[1])\n",
    "print(sorted_list)"
   ]
  },
  {
   "cell_type": "code",
   "execution_count": 20,
   "id": "2061566c-4885-45a3-b415-34b688ff935e",
   "metadata": {},
   "outputs": [],
   "source": [
    "#Q2\n",
    "l1= [1,2,3,4,5,6,7,8,9,10]"
   ]
  },
  {
   "cell_type": "code",
   "execution_count": 21,
   "id": "4eb33762-8b6e-4ace-9cef-271d0d565373",
   "metadata": {},
   "outputs": [
    {
     "data": {
      "text/plain": [
       "[1, 4, 9, 16, 25, 36, 49, 64, 81, 100]"
      ]
     },
     "execution_count": 21,
     "metadata": {},
     "output_type": "execute_result"
    }
   ],
   "source": [
    "list(map(lambda x: x**2, l1))"
   ]
  },
  {
   "cell_type": "code",
   "execution_count": 22,
   "id": "7be03960-4d80-4eb3-84db-f6e96c54d8be",
   "metadata": {},
   "outputs": [
    {
     "data": {
      "text/plain": [
       "('1', '2', '3', '4', '5', '6', '7', '8', '9', '10')"
      ]
     },
     "execution_count": 22,
     "metadata": {},
     "output_type": "execute_result"
    }
   ],
   "source": [
    "#Q3\n",
    "l1= [1,2,3,4,5,6,7,8,9,10]\n",
    "tuple(map(lambda x : str(x),l1))"
   ]
  },
  {
   "cell_type": "code",
   "execution_count": 29,
   "id": "e3f56592-7138-410d-9394-9d66f206e6a0",
   "metadata": {},
   "outputs": [],
   "source": [
    "#Q4\n",
    "l2=list(range(1,26))"
   ]
  },
  {
   "cell_type": "code",
   "execution_count": 30,
   "id": "249705ac-dc0d-42b8-9c87-e6819a6db5f8",
   "metadata": {},
   "outputs": [
    {
     "data": {
      "text/plain": [
       "[1,\n",
       " 2,\n",
       " 3,\n",
       " 4,\n",
       " 5,\n",
       " 6,\n",
       " 7,\n",
       " 8,\n",
       " 9,\n",
       " 10,\n",
       " 11,\n",
       " 12,\n",
       " 13,\n",
       " 14,\n",
       " 15,\n",
       " 16,\n",
       " 17,\n",
       " 18,\n",
       " 19,\n",
       " 20,\n",
       " 21,\n",
       " 22,\n",
       " 23,\n",
       " 24,\n",
       " 25]"
      ]
     },
     "execution_count": 30,
     "metadata": {},
     "output_type": "execute_result"
    }
   ],
   "source": [
    "l2"
   ]
  },
  {
   "cell_type": "code",
   "execution_count": 26,
   "id": "e78dbf87-36fa-4e82-bf60-60c603d94e51",
   "metadata": {},
   "outputs": [],
   "source": [
    "from functools import reduce"
   ]
  },
  {
   "cell_type": "code",
   "execution_count": 31,
   "id": "f275d607-9178-4923-b2e2-bb9fb8cc29f3",
   "metadata": {},
   "outputs": [
    {
     "data": {
      "text/plain": [
       "15511210043330985984000000"
      ]
     },
     "execution_count": 31,
     "metadata": {},
     "output_type": "execute_result"
    }
   ],
   "source": [
    "reduce(lambda x,y: x*y, l2 )"
   ]
  },
  {
   "cell_type": "code",
   "execution_count": 43,
   "id": "945cc856-8060-4fd8-95ba-12548cf3fd81",
   "metadata": {},
   "outputs": [],
   "source": [
    "#Q5\n",
    "l3= [2,3,6,9,27,60,90,120,55,46]"
   ]
  },
  {
   "cell_type": "code",
   "execution_count": 44,
   "id": "4d4b8f78-8f5c-4add-85e0-ff616b439a47",
   "metadata": {},
   "outputs": [
    {
     "name": "stdout",
     "output_type": "stream",
     "text": [
      "[2, 6, 60, 90, 120, 46]\n"
     ]
    }
   ],
   "source": [
    "divisible_by_2= list(filter(lambda x: x%2==0, l3))\n",
    "print(divisible_by_2)"
   ]
  },
  {
   "cell_type": "code",
   "execution_count": 45,
   "id": "c0214cff-19b7-4a9f-93e3-c4960f6992b2",
   "metadata": {},
   "outputs": [
    {
     "name": "stdout",
     "output_type": "stream",
     "text": [
      "[3, 6, 9, 27, 60, 90, 120]\n"
     ]
    }
   ],
   "source": [
    "divisible_by_3=list(filter(lambda x: x%3==0, l3))\n",
    "print(divisible_by_3)"
   ]
  },
  {
   "cell_type": "code",
   "execution_count": 46,
   "id": "b46a1214-863e-411c-9ef2-26e14d5b4e78",
   "metadata": {},
   "outputs": [],
   "source": [
    "#Q6\n",
    "l4 = ['python', 'php','aba','radar','level']"
   ]
  },
  {
   "cell_type": "code",
   "execution_count": 51,
   "id": "e02bbf36-f7c4-47bd-b044-f49d0e37604e",
   "metadata": {},
   "outputs": [
    {
     "data": {
      "text/plain": [
       "['php', 'aba', 'radar', 'level']"
      ]
     },
     "execution_count": 51,
     "metadata": {},
     "output_type": "execute_result"
    }
   ],
   "source": [
    "list(filter(lambda x: x== \"\".join(reversed(x)) , l4))"
   ]
  }
 ],
 "metadata": {
  "kernelspec": {
   "display_name": "Python 3 (ipykernel)",
   "language": "python",
   "name": "python3"
  },
  "language_info": {
   "codemirror_mode": {
    "name": "ipython",
    "version": 3
   },
   "file_extension": ".py",
   "mimetype": "text/x-python",
   "name": "python",
   "nbconvert_exporter": "python",
   "pygments_lexer": "ipython3",
   "version": "3.10.8"
  }
 },
 "nbformat": 4,
 "nbformat_minor": 5
}
