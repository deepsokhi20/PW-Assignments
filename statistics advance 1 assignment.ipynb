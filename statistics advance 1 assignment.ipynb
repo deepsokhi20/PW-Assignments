{
 "cells": [
  {
   "cell_type": "markdown",
   "id": "2e478193-34e5-4965-b8b6-aa7014e2e8ff",
   "metadata": {},
   "source": [
    "#Q1\n",
    "\n",
    "In statistics a probabibility density function is a mathametical function tha describes the likelihood of a continuous random variable taking on a particular value within a given range. it is commonly used to model and analyze continuous probability distributions. \n",
    "\n",
    "Continuous Random Variables: PDFs are primarily used for continuous random variables, which are variables that can take on an infinite number of values within a specified range. Examples of continuous random variables include height, weight, and time.\n",
    "\n",
    "Non-Negative Values: A PDF is always non-negative; that is, it assigns a probability density greater than or equal to zero for all possible values of the random variable.\n",
    "\n",
    "Total Area under the Curve: The area under the PDF curve over its entire range equals 1. This reflects the fact that the probability of the random variable taking any value within its range must sum to 1.\n",
    "\n",
    "Probability within an Interval: To find the probability that a continuous random variable falls within a specific interval, you can integrate the PDF over that interval. The integral of the PDF over an interval represents the probability that the random variable falls within that interval.\n",
    "\n",
    "Continuous Distribution Shapes: Different probability density functions can represent various shapes of continuous probability distributions, such as the normal distribution, uniform distribution, exponential distribution, and many others. Each distribution has its own PDF that characterizes its behavior.\n",
    "\n"
   ]
  },
  {
   "cell_type": "markdown",
   "id": "4063d130-41bc-4405-8798-651171b56be3",
   "metadata": {},
   "source": [
    "#Q2\n",
    "\n",
    "Discrete Probability Distributions:\n",
    "\n",
    "Bernoulli Distribution: Models a binary outcome, where there are only two possible outcomes, typically denoted as success and failure.\n",
    "\n",
    "Binomial Distribution: Describes the number of successes (usually denoted as \"k\") in a fixed number of independent Bernoulli trials.\n",
    "\n",
    "Poisson Distribution: Models the number of events occurring in a fixed interval of time or space, given a known average rate of occurrence.\n",
    "\n",
    "Continuous Probability Distributions:\n",
    "\n",
    "Normal Distribution (Gaussian Distribution): Known for its bell-shaped curve and is used to model many natural phenomena due to the central limit theorem.\n",
    "\n",
    "Uniform Distribution: All outcomes within a specified range are equally likely."
   ]
  },
  {
   "cell_type": "code",
   "execution_count": 2,
   "id": "27c044d0-bc95-492e-8226-f81325ca549c",
   "metadata": {},
   "outputs": [
    {
     "name": "stdout",
     "output_type": "stream",
     "text": [
      "The pdf at x= 1.5 is 0.1295\n"
     ]
    }
   ],
   "source": [
    "#Q3\n",
    "\n",
    "import numpy as np\n",
    "from scipy.stats import norm\n",
    "\n",
    "def calculate_normal_pdf(x, mean, std_dev):\n",
    "    pdf_value = norm.pdf(x, loc=mean,scale=std_dev)\n",
    "    return pdf_value\n",
    "\n",
    "mean = 0\n",
    "std_dev = 1\n",
    "x_value= 1.5\n",
    "\n",
    "pdf = calculate_normal_pdf(x_value, mean, std_dev)\n",
    "print(f\"The pdf at x= {x_value} is {pdf:.4f}\")"
   ]
  },
  {
   "cell_type": "markdown",
   "id": "557bcaa6-06ed-4663-aa97-63e27db67b52",
   "metadata": {},
   "source": [
    "#Q4\n",
    "\n",
    "The binomial distribution is a discrete probability distribution that models the number of successes (usually denoted as \"k\") in a fixed number of independent Bernoulli trials, where each trial has two possible outcomes: success (usually denoted as \"S\") or failure (usually denoted as \"F\"). The binomial distribution has several key properties:\n",
    "\n",
    "Fixed Number of Trials (n): The distribution is defined for a fixed number of trials, denoted as \"n.\" Each trial is independent of the others.\n",
    "\n",
    "Two Possible Outcomes: Each trial results in one of two outcomes: success (S) or failure (F).\n",
    "\n",
    "Constant Probability of Success (p): The probability of success (P(S)) is constant for each trial and is denoted as \"p.\" The probability of failure (P(F)) is equal to 1 - p.\n",
    "\n",
    "Independence: The trials are assumed to be independent, meaning the outcome of one trial does not affect the outcome of another.\n",
    "\n",
    "Discrete Values: The random variable X representing the number of successes can only take on discrete integer values from 0 to n.\n",
    "\n",
    "Probability Mass Function (PMF): The probability mass function of the binomial distribution gives the probability of getting exactly k successes in n trials.\n",
    "\n",
    "wo examples of events where the binomial distribution can be applied are:\n",
    "\n",
    "Coin Tosses: Suppose you flip a fair coin (where p = 0.5) 10 times (n = 10) and want to calculate the probability of getting exactly 3 heads (k = 3). This situation follows a binomial distribution because each coin flip is independent and has two possible outcomes (heads or tails).\n",
    "\n",
    "Quality Control: In a manufacturing process, you are inspecting a batch of products, and each product has a probability p of being defective. You randomly select 20 products (n = 20) and want to find the probability that exactly 5 of them are defective (k = 5). This scenario can be modeled using a binomial distribution because each product's quality is independent, and you are interested in the count of defective items among a fixed number of trials."
   ]
  },
  {
   "cell_type": "code",
   "execution_count": 8,
   "id": "ad8071ef-325d-4894-9141-58a4d4a7adc2",
   "metadata": {},
   "outputs": [
    {
     "data": {
      "image/png": "[encoded data removed]",
      "text/plain": [
       "<Figure size 640x480 with 1 Axes>"
      ]
     },
     "metadata": {},
     "output_type": "display_data"
    }
   ],
   "source": [
    "#Q5\n",
    "\n",
    "import numpy as np\n",
    "import matplotlib.pyplot as plt\n",
    "\n",
    "n= 1000\n",
    "p = 0.4\n",
    "\n",
    "random_sample = np.random.binomial(n= 1, p= p, size = n)\n",
    "\n",
    "plt.hist(random_sample, bins= 2, rwidth = 0.8, align = \"left\", color = \"blue\", alpha = 0.7)\n",
    "plt.title(\"Binomial Distribution (n = 1000, p = 0.4)\")\n",
    "plt.xlabel(\"number of successess\")\n",
    "plt.ylabel(\"Frequency\")\n",
    "plt.xticks([0,1],[\"Failure\", \"Success\"])\n",
    "plt.show()"
   ]
  },
  {
   "cell_type": "code",
   "execution_count": 9,
   "id": "e47e673c-c01d-465a-a12d-b7583882651d",
   "metadata": {},
   "outputs": [
    {
     "name": "stdout",
     "output_type": "stream",
     "text": [
      "The CDF at x = 2 is 0.4232\n"
     ]
    }
   ],
   "source": [
    "#Q6\n",
    "\n",
    "from scipy.stats import poisson\n",
    "def calculate_poisson_cdf(x, mean):\n",
    "    cdf_value = poisson.cdf(x, mu=mean)\n",
    "    return cdf_value\n",
    "mean = 3\n",
    "x_value = 2\n",
    "cdf = calculate_poisson_cdf(x_value, mean)\n",
    "print(f\"The CDF at x = {x_value} is {cdf:.4f}\")"
   ]
  },
  {
   "cell_type": "markdown",
   "id": "a9e78082-90ff-403f-b017-361598a75893",
   "metadata": {},
   "source": [
    "#Q7\n",
    "\n",
    "The Binomial distribution and the Poisson distribution are both probability distributions used in statistics to model the number of events or successes in a sequence of trials or observations. While they share some similarities, they differ in several key ways:\n",
    "\n",
    "Number of Trials:\n",
    "\n",
    "Binomial Distribution: It is used to model the number of successes (or failures) in a fixed number of independent Bernoulli trials. The number of trials, denoted as \"n,\" is fixed and known in advance.\n",
    "\n",
    "Poisson Distribution: It is used to model the number of events that occur in a fixed interval of time or space, but the number of trials or observations is not fixed in advance. Instead, the Poisson distribution is often applied to situations where events occur randomly and independently over time or space.\n",
    "\n",
    "Nature of Trials:\n",
    "\n",
    "Binomial Distribution: Each trial in a Binomial distribution is binary, with only two possible outcomes: success and failure. These outcomes are typically denoted as \"S\" and \"F.\"\n",
    "\n",
    "Poisson Distribution: The Poisson distribution is not restricted to binary outcomes. It is used to count the number of events or occurrences of a specific type within a fixed interval, and the events can be non-binary, such as the number of phone calls received in a call center in an hour.\n",
    "\n",
    "Parameters:\n",
    "\n",
    "Binomial Distribution: It is characterized by two parameters: the probability of success in a single trial, denoted as \"p,\" and the number of trials, denoted as \"n.\"\n",
    "\n",
    "Poisson Distribution: It is characterized by a single parameter, denoted as \"λ\" (lambda), which represents the average rate of occurrence of events in the given interval.\n",
    "\n",
    "Probability Mass Function (PMF) and Probability Density Function (PDF):\n",
    "\n",
    "Binomial Distribution: The Binomial distribution has a PMF (Probability Mass Function) because it deals with a discrete number of successes in a fixed number of trials. The PMF gives the probability of getting a specific number of successes.\n",
    "\n",
    "Poisson Distribution: The Poisson distribution has a PMF as well, as it also deals with discrete events. The PMF gives the probability of a specific count of events occurring in the interval.\n",
    "\n",
    "Shape of Distribution:\n",
    "\n",
    "Binomial Distribution: The shape of the Binomial distribution depends on both \"n\" and \"p.\" As \"n\" increases and/or \"p\" gets closer to 0.5, the Binomial distribution approaches a normal distribution.\n",
    "\n",
    "Poisson Distribution: The Poisson distribution is often used when the number of events is relatively rare, and as \"λ\" increases, it approaches a normal distribution."
   ]
  },
  {
   "cell_type": "code",
   "execution_count": 11,
   "id": "f72d597e-1faf-44aa-90e4-fb5da9e924bf",
   "metadata": {},
   "outputs": [
    {
     "name": "stdout",
     "output_type": "stream",
     "text": [
      "Sample Mean: 4.9720\n",
      "Samle Variance: 4.9852\n"
     ]
    }
   ],
   "source": [
    "#Q8\n",
    "\n",
    "import numpy as np\n",
    "mean = 5\n",
    "sample_size= 1000\n",
    "random_sample = np.random.poisson(mean, size = sample_size)\n",
    "\n",
    "sample_mean = np.mean(random_sample)\n",
    "sample_variance = np.var(random_sample, ddof = 0)\n",
    "print(f\"Sample Mean: {sample_mean:.4f}\")\n",
    "print(f\"Samle Variance: {sample_variance:.4f}\")"
   ]
  },
  {
   "cell_type": "markdown",
   "id": "300fde99-5478-4721-859f-f3ee38574b19",
   "metadata": {},
   "source": [
    "#Q9\n",
    "\n",
    "In both the Binomial distribution and the Poisson distribution, there is a relationship between the mean (average) and the variance of the distribution. However, the nature of this relationship differs between the two distributions.\n",
    "\n",
    "Binomial Distribution:\n",
    "In a Binomial distribution with parameters n (the number of trials) and p (the probability of success in a single trial), the mean and variance are related as follows:\n",
    "\n",
    "Mean (μ): The mean of a Binomial distribution is given by μ = np, where n is the number of trials and p is the probability of success in a single trial.\n",
    "\n",
    "Variance (σ^2): The variance of a Binomial distribution is given by σ^2 = np(1 - p), where n is the number of trials, and p is the probability of success in a single trial.\n",
    "\n",
    "The relationship between mean and variance in a Binomial distribution is linear and depends on both the number of trials (n) and the probability of success (p). As you change n and/or p, it directly affects both the mean and the variance.\n",
    "\n",
    "Poisson Distribution:\n",
    "In a Poisson distribution with parameter λ (lambda), which represents the average rate of events occurring in a fixed interval of time or space, the relationship between the mean and variance is as follows:\n",
    "\n",
    "Mean (μ): The mean of a Poisson distribution is equal to λ, which is the average rate of events.\n",
    "\n",
    "Variance (σ^2): The variance of a Poisson distribution is also equal to λ.\n",
    "\n",
    "In the Poisson distribution, the mean and variance are equal and are both determined solely by the parameter λ. Unlike the Binomial distribution, there is no dependence on the number of trials or a probability of success/failure. The Poisson distribution is often used to model situations where rare events occur independently over time or space, and the variance is expected to be approximately equal to the mean.\n",
    "\n",
    "In summary, the relationship between mean and variance differs between the Binomial distribution and the Poisson distribution. In the Binomial distribution, the mean and variance depend on both n and p, while in the Poisson distribution, the mean and variance are both equal to λ and do not depend on the number of trials or probabilities of success/failure.\n",
    "\n"
   ]
  },
  {
   "cell_type": "markdown",
   "id": "f40d525a-65cb-4b15-81a2-003dbfd70aa3",
   "metadata": {},
   "source": [
    "#Q10\n",
    "\n",
    "In a normal distribution (also known as a Gaussian distribution), the least frequent data points appear in the tails of the distribution, farthest away from the mean. Specifically:\n",
    "\n",
    "1. **Least Frequent Data on the Left Tail:** The data values in the left tail, which are smaller than the mean, occur less frequently. These are the values that are significantly below the mean and are considered \"outliers\" in the left tail. They represent the lower extreme values of the distribution.\n",
    "\n",
    "2. **Least Frequent Data on the Right Tail:** Similarly, the data values in the right tail, which are larger than the mean, also occur less frequently. These are the values that are significantly above the mean and are considered \"outliers\" in the right tail. They represent the upper extreme values of the distribution.\n",
    "\n",
    "The normal distribution is symmetric, so the tails on both sides of the mean are mirror images of each other. As you move farther away from the mean in either direction, the probability of observing data points in those extreme regions decreases rapidly. Most of the data points are concentrated around the mean, and the frequency decreases as you move toward the tails.\n",
    "\n",
    "In standard normal distributions (where the mean is 0 and the standard deviation is 1), approximately 68% of the data falls within one standard deviation of the mean, about 95% falls within two standard deviations, and approximately 99.7% falls within three standard deviations. This leaves only a small percentage (0.3%) in the tails, which contains the least frequent data points.\n",
    "\n",
    "Outliers in the tails of a normal distribution can be of particular interest in statistical analysis, as they may represent rare or unusual events, anomalies, or extreme observations. They are sometimes subject to further investigation to understand their significance or potential impact on a dataset or process."
   ]
  },
  {
   "cell_type": "code",
   "execution_count": null,
   "id": "09f2a19c-27f3-4f45-a1ad-10ae1e91499b",
   "metadata": {},
   "outputs": [],
   "source": []
  }
 ],
 "metadata": {
  "kernelspec": {
   "display_name": "Python 3 (ipykernel)",
   "language": "python",
   "name": "python3"
  },
  "language_info": {
   "codemirror_mode": {
    "name": "ipython",
    "version": 3
   },
   "file_extension": ".py",
   "mimetype": "text/x-python",
   "name": "python",
   "nbconvert_exporter": "python",
   "pygments_lexer": "ipython3",
   "version": "3.10.8"
  }
 },
 "nbformat": 4,
 "nbformat_minor": 5
}
