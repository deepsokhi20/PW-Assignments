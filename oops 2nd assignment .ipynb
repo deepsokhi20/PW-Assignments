{
 "cells": [
  {
   "cell_type": "markdown",
   "id": "a6f558ec-0962-4873-ba19-c84c31654283",
   "metadata": {},
   "source": [
    "#Q1 \n",
    "A class is a blueprint in which objects are made. It can have lots of data and function. it is basically a data structure which has its own data members and mermber functions. \n",
    "An object is a copy of class. A class contains all the information but an object is the one we use actually. The object contains the behaviour and attributes of the class"
   ]
  },
  {
   "cell_type": "code",
   "execution_count": 6,
   "id": "3181026e-1f97-45e8-8e28-fe79a832b982",
   "metadata": {},
   "outputs": [],
   "source": [
    "class pwskills:\n",
    "    def __init__(self, name, email, phone_number):\n",
    "        self.name = name\n",
    "        self.email = email\n",
    "        self.phone_number = phone_number\n",
    "    def return_student_details(self):\n",
    "        return self.name, self.email, self.phone_number"
   ]
  },
  {
   "cell_type": "code",
   "execution_count": 8,
   "id": "80682a60-2acd-462e-bca1-b09fb7a2e7ee",
   "metadata": {},
   "outputs": [],
   "source": [
    "pw = pwskills(\"Steve Rogers\", \"steve@gmail.com\", 123445678 )"
   ]
  },
  {
   "cell_type": "code",
   "execution_count": 9,
   "id": "a8eab171-a341-42cf-81a9-c1b87140f787",
   "metadata": {},
   "outputs": [
    {
     "data": {
      "text/plain": [
       "'Steve Rogers'"
      ]
     },
     "execution_count": 9,
     "metadata": {},
     "output_type": "execute_result"
    }
   ],
   "source": [
    "pw.name"
   ]
  },
  {
   "cell_type": "code",
   "execution_count": 10,
   "id": "df3281c3-fefe-4a12-9148-4f59d21df89d",
   "metadata": {},
   "outputs": [
    {
     "data": {
      "text/plain": [
       "'steve@gmail.com'"
      ]
     },
     "execution_count": 10,
     "metadata": {},
     "output_type": "execute_result"
    }
   ],
   "source": [
    "pw.email"
   ]
  },
  {
   "cell_type": "code",
   "execution_count": 11,
   "id": "9c9d5c01-39a9-44f1-aa2e-920deac34347",
   "metadata": {},
   "outputs": [
    {
     "data": {
      "text/plain": [
       "123445678"
      ]
     },
     "execution_count": 11,
     "metadata": {},
     "output_type": "execute_result"
    }
   ],
   "source": [
    "pw.phone_number"
   ]
  },
  {
   "cell_type": "markdown",
   "id": "c473e428-89b6-450d-8259-2d9b5f944f04",
   "metadata": {},
   "source": [
    "#Q2\n",
    "The four pillars of oops are Abstraction, Encapsulation, Inheritance, Polymorphism"
   ]
  },
  {
   "cell_type": "markdown",
   "id": "d2c66a0b-c603-40c7-a573-f0c0f381649b",
   "metadata": {},
   "source": [
    "#Q3\n",
    " __init__ method is used to assign values of object to the class. It is a constructor function."
   ]
  },
  {
   "cell_type": "markdown",
   "id": "053e05e0-1071-4880-97da-68a09472e4e1",
   "metadata": {},
   "source": [
    "#Q4\n",
    "the self is used in a class to represent the instance of the class. It binds all the attributes and functions to the class."
   ]
  },
  {
   "cell_type": "markdown",
   "id": "bf725e0f-e608-444f-8a13-a3df90fc0209",
   "metadata": {},
   "source": [
    "#Q5\n",
    "Inheritance is a concept in which one class inherits the property of other class. The types of inheritance we have studied yet is single inheritance and multiple inheritance."
   ]
  },
  {
   "cell_type": "code",
   "execution_count": 13,
   "id": "214679e0-bc16-4d86-9c8b-97a7bddc923a",
   "metadata": {},
   "outputs": [],
   "source": [
    "#single inheritance\n",
    "\n",
    "class test():\n",
    "    def test_meth(self):\n",
    "        print(\"I am parent class\")"
   ]
  },
  {
   "cell_type": "code",
   "execution_count": 14,
   "id": "461ad38b-c464-4b95-ade9-285a12b5c301",
   "metadata": {},
   "outputs": [],
   "source": [
    "class child_test(test):\n",
    "    pass"
   ]
  },
  {
   "cell_type": "code",
   "execution_count": 15,
   "id": "10f3026f-215f-49f1-8cb2-a0a427fe2bfb",
   "metadata": {},
   "outputs": [],
   "source": [
    "child_obj = child_test()"
   ]
  },
  {
   "cell_type": "code",
   "execution_count": 16,
   "id": "ca1db4d3-2c54-402b-8c53-769131fb8cbc",
   "metadata": {},
   "outputs": [
    {
     "name": "stdout",
     "output_type": "stream",
     "text": [
      "I am parent class\n"
     ]
    }
   ],
   "source": [
    "child_obj.test_meth()"
   ]
  },
  {
   "cell_type": "code",
   "execution_count": 17,
   "id": "ff1643b9-ff04-46ac-90e7-591b164a744d",
   "metadata": {},
   "outputs": [],
   "source": [
    "#multiple inheritance\n",
    "class class1():\n",
    "    def test_class1(self):\n",
    "        print(\"this is a method from class1\")"
   ]
  },
  {
   "cell_type": "code",
   "execution_count": 18,
   "id": "13b49ac6-61bc-42fb-ac3d-1ef1e91ab101",
   "metadata": {},
   "outputs": [],
   "source": [
    "class class2(class1):\n",
    "    def test_class2(self):\n",
    "        print(\"this is a method from class2\")"
   ]
  },
  {
   "cell_type": "code",
   "execution_count": 26,
   "id": "5c47152d-24ca-4224-80a6-1bb4dbe8e378",
   "metadata": {},
   "outputs": [],
   "source": [
    "class class3(class2):\n",
    "    def test_class3(self):\n",
    "        print(\"this is a method from class 3\")"
   ]
  },
  {
   "cell_type": "code",
   "execution_count": 28,
   "id": "c76ee7bc-b975-4151-81e7-47e532ec34c3",
   "metadata": {},
   "outputs": [],
   "source": [
    "obj_class3 = class3()"
   ]
  },
  {
   "cell_type": "code",
   "execution_count": 29,
   "id": "afdbd492-c3df-4ba4-915e-ca96692b5a69",
   "metadata": {},
   "outputs": [
    {
     "name": "stdout",
     "output_type": "stream",
     "text": [
      "this is a method from class1\n"
     ]
    }
   ],
   "source": [
    "obj_class3.test_class1()"
   ]
  },
  {
   "cell_type": "code",
   "execution_count": 30,
   "id": "69b7afba-88b2-4c6e-b048-ace45b09a034",
   "metadata": {},
   "outputs": [
    {
     "name": "stdout",
     "output_type": "stream",
     "text": [
      "this is a method from class2\n"
     ]
    }
   ],
   "source": [
    "obj_class3.test_class2()"
   ]
  },
  {
   "cell_type": "code",
   "execution_count": 31,
   "id": "5980e08a-61e5-47a9-8d0b-a52911389df2",
   "metadata": {},
   "outputs": [
    {
     "name": "stdout",
     "output_type": "stream",
     "text": [
      "this is a method from class 3\n"
     ]
    }
   ],
   "source": [
    "obj_class3.test_class3()"
   ]
  },
  {
   "cell_type": "code",
   "execution_count": null,
   "id": "34296934-5ea6-4c6f-970c-07b70de2c84d",
   "metadata": {},
   "outputs": [],
   "source": []
  }
 ],
 "metadata": {
  "kernelspec": {
   "display_name": "Python 3 (ipykernel)",
   "language": "python",
   "name": "python3"
  },
  "language_info": {
   "codemirror_mode": {
    "name": "ipython",
    "version": 3
   },
   "file_extension": ".py",
   "mimetype": "text/x-python",
   "name": "python",
   "nbconvert_exporter": "python",
   "pygments_lexer": "ipython3",
   "version": "3.10.8"
  }
 },
 "nbformat": 4,
 "nbformat_minor": 5
}
