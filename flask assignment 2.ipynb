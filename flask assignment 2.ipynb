{
 "cells": [
  {
   "cell_type": "markdown",
   "id": "9225e0d9-fc31-4905-9d46-bba75f4fbd71",
   "metadata": {},
   "source": [
    "#Q1 \n",
    "\n",
    "In GET method we cannot send large amount of data because data is sent through URL. Therefore, we can send limited data only. This method is less secure because the data is exposed in the URL. Request which are made through GET method are stored in browser history. We can also save the URL we get from GET method as the bookmark in the browser. As it is a  less secured method therefore data can be easily stolen by attackers and only ASCII characters are allowed in this method\n",
    "\n",
    "In POST method we can send large amount of data because the data is sent through the body. This method is comparitively more secure because the data is not exposed in the URL. Request made through POST method is not stored in browser history. POST method request can not be saved as a bookmark. Data passed through this method cannot be easily stolen by attackers. And all  types of data is allowed in this method"
   ]
  },
  {
   "cell_type": "markdown",
   "id": "6f4fc7b3-5f02-47eb-9f5c-4504b6ce71c7",
   "metadata": {},
   "source": [
    "#Q2 \n",
    " In flask we have our own webpage client and a server. The sever should process the data. The request in flask is an object that contains all the data sent from the client to server. This data can be recovered using GET/POST methods."
   ]
  },
  {
   "cell_type": "markdown",
   "id": "a6cf9c47-cf0f-4e0d-8c39-538ac1be2f81",
   "metadata": {},
   "source": [
    "#Q3\n",
    "A redirect is used in flask to send the user to a particular URL with the status code. the syntax of redirect is flask.redirect(location, code=302)\n",
    "the location is in string format which URL directs to. code is in integer format, the default code is only temporary that means tht move is only temporary"
   ]
  },
  {
   "cell_type": "markdown",
   "id": "0d7d7ca0-583f-44b6-971b-48819f5153af",
   "metadata": {},
   "source": [
    "#Q4\n",
    "templates are files that contain static data as well as placeholders for dynamic data. A template is rendered with specific data to produce a final document. Render_template() function is used to generate output from a template file that is found in the application's templates folder"
   ]
  },
  {
   "cell_type": "code",
   "execution_count": null,
   "id": "0ecc6003-81b9-47c9-bed5-925ccd3a3ec8",
   "metadata": {},
   "outputs": [],
   "source": []
  }
 ],
 "metadata": {
  "kernelspec": {
   "display_name": "Python 3 (ipykernel)",
   "language": "python",
   "name": "python3"
  },
  "language_info": {
   "codemirror_mode": {
    "name": "ipython",
    "version": 3
   },
   "file_extension": ".py",
   "mimetype": "text/x-python",
   "name": "python",
   "nbconvert_exporter": "python",
   "pygments_lexer": "ipython3",
   "version": "3.10.8"
  }
 },
 "nbformat": 4,
 "nbformat_minor": 5
}
