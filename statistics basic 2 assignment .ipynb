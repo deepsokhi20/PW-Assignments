{
 "cells": [
  {
   "cell_type": "markdown",
   "id": "03b1f8d5-214f-4972-8d06-c8bc59e417ff",
   "metadata": {},
   "source": [
    "#Q1 and #Q2\n",
    "\n",
    "the three measures of central tendency are :-\n",
    "\n",
    "1.Mean- the mean is the average of set of values. it can be measured by adding of all the values in the dataset and dividing it by the sum of the number of observations.\n",
    "\n",
    "2.Meadian- the median is the middle value of the dataset when the values are arranged in aescending order. Its easy to find a median in odd number of values but incase of even values the median is the average of the two middle values. it is less affected by thr extreme values compared to the mean.\n",
    "\n",
    "3.Mode - the mlde is the value that appears most frequently in a dataset. A data can have one mode, multimode or no mode at all. unlike the mean and the median the mode can be used with both numerical and categorical data"
   ]
  },
  {
   "cell_type": "code",
   "execution_count": 1,
   "id": "54710aae-4a27-49f5-bfdd-00d9c16fc9da",
   "metadata": {},
   "outputs": [],
   "source": [
    "#Q3\n",
    "l = [178,177,176,177,178.2,178,175,179,180,175,178.9,176.2,177,172.5,178,176.5]"
   ]
  },
  {
   "cell_type": "code",
   "execution_count": 6,
   "id": "9ef0ddc8-8b7e-4b44-81cf-f290f36f610f",
   "metadata": {},
   "outputs": [],
   "source": [
    "import numpy as np\n",
    "from scipy import stats"
   ]
  },
  {
   "cell_type": "code",
   "execution_count": 3,
   "id": "9cde570d-e926-4410-87f4-186461fc228a",
   "metadata": {},
   "outputs": [
    {
     "data": {
      "text/plain": [
       "177.01875"
      ]
     },
     "execution_count": 3,
     "metadata": {},
     "output_type": "execute_result"
    }
   ],
   "source": [
    "np.mean(l)"
   ]
  },
  {
   "cell_type": "code",
   "execution_count": 5,
   "id": "15f2fe51-fc8b-4420-8531-443f78d6d3b8",
   "metadata": {},
   "outputs": [
    {
     "data": {
      "text/plain": [
       "177.0"
      ]
     },
     "execution_count": 5,
     "metadata": {},
     "output_type": "execute_result"
    }
   ],
   "source": [
    "np.median(l)"
   ]
  },
  {
   "cell_type": "code",
   "execution_count": 7,
   "id": "41495c26-af8d-4a86-94ba-56563ed144a2",
   "metadata": {},
   "outputs": [
    {
     "name": "stderr",
     "output_type": "stream",
     "text": [
      "/tmp/ipykernel_95/2919890712.py:1: FutureWarning: Unlike other reduction functions (e.g. `skew`, `kurtosis`), the default behavior of `mode` typically preserves the axis it acts along. In SciPy 1.11.0, this behavior will change: the default value of `keepdims` will become False, the `axis` over which the statistic is taken will be eliminated, and the value None will no longer be accepted. Set `keepdims` to True or False to avoid this warning.\n",
      "  stats.mode(l)\n"
     ]
    },
    {
     "data": {
      "text/plain": [
       "ModeResult(mode=array([177.]), count=array([3]))"
      ]
     },
     "execution_count": 7,
     "metadata": {},
     "output_type": "execute_result"
    }
   ],
   "source": [
    "stats.mode(l)"
   ]
  },
  {
   "cell_type": "code",
   "execution_count": 8,
   "id": "6e00ef6e-86b0-434e-bd3f-b8f0772cc18e",
   "metadata": {},
   "outputs": [
    {
     "data": {
      "text/plain": [
       "1.7885814036548633"
      ]
     },
     "execution_count": 8,
     "metadata": {},
     "output_type": "execute_result"
    }
   ],
   "source": [
    "#Q4\n",
    "np.std(l)"
   ]
  },
  {
   "cell_type": "markdown",
   "id": "7b54d77e-dc12-4af6-85e8-608c0cdf8679",
   "metadata": {},
   "source": [
    "#Q5\n",
    "\n",
    "Measures of dispersion, such as range, variance, and standard deviation, provide information about how spread out or dispersed the values in a dataset are. They help quantify the variability or deviation of individual data points from the central tendency (mean, median, mode). Here's how these measures are used to describe the spread of a dataset:\n",
    "\n",
    "1. Range: The range is the simplest measure of dispersion and is calculated by subtracting the minimum value from the maximum value in the dataset. It gives an idea of the total spread between the extreme values. However, it doesn't account for the distribution of values in between.\n",
    "\n",
    "2. Variance: Variance measures how much the individual data points deviate from the mean of the dataset. It's calculated by averaging the squared differences between each data point and the mean. A higher variance indicates greater spread or variability of data points from the mean.\n",
    "\n",
    "3. Standard Deviation: The standard deviation is the square root of the variance. It provides a more easily interpretable measure of dispersion in the same units as the original data. A higher standard deviation indicates more spread-out data points from the mean.\n",
    "\n",
    "Let's look at an example:\n",
    "\n",
    "Suppose we have two datasets representing the scores of two groups of students on a test:\n",
    "\n",
    "Group A: [85, 90, 88, 92, 87]\n",
    "Group B: [60, 65, 70, 75, 80]\n",
    "\n",
    "For Group A:\n",
    "\n",
    "Mean: (85 + 90 + 88 + 92 + 87) / 5 = 88.4\n",
    "\n",
    "Variance: ((85-88.4)^2 + (90-88.4)^2 + (88-88.4)^2 + (92-88.4)^2 + (87-88.4)^2) / 4 ≈ 6.3\n",
    "\n",
    "Standard Deviation: √(Variance) ≈ 2.51\n",
    "\n",
    "For Group B:\n",
    "\n",
    "Mean: (60 + 65 + 70 + 75 + 80) / 5 = 70\n",
    "\n",
    "Variance: ((60-70)^2 + (65-70)^2 + (70-70)^2 + (75-70)^2 + (80-70)^2) / 4 = 125\n",
    "\n",
    "Standard Deviation: √(Variance) = √125 ≈ 11.18\n",
    "\n",
    "In this example, Group A has a higher mean, lower variance, and lower standard deviation compared to Group B. This indicates that the scores in Group A are more tightly clustered around the mean, whereas the scores in Group B are more spread out. The measures of dispersion provide valuable insight into the distribution and variability of the data, which is crucial for understanding the characteristics of the dataset.\n",
    "\n",
    "\n",
    "\n",
    "\n"
   ]
  },
  {
   "cell_type": "markdown",
   "id": "1874c06d-fc2e-432e-ab8f-57b5064536b3",
   "metadata": {},
   "source": [
    "#Q6\n",
    "A Venn diagram is a graphical representation that shows the relationships between different sets of items or groups. It consists of overlapping circles or other shapes, with each circle representing a separate set or category. The areas where the circles overlap indicate the elements that are common to both sets, and the areas outside the circles represent the elements that are unique to each set."
   ]
  },
  {
   "cell_type": "markdown",
   "id": "5b2316e7-d968-4f9e-b66c-bd7b6da2f0a5",
   "metadata": {},
   "source": [
    "#Q7\n",
    "\n",
    "(i) {2,6}\n",
    "\n",
    "(ii) {0,2,3,4,5,6,7,8,10}"
   ]
  },
  {
   "cell_type": "markdown",
   "id": "7f2b95a8-1f1e-4055-b990-b72beaf65fa4",
   "metadata": {},
   "source": [
    "#Q8\n",
    "Skewness is a statistical term that refers to the asymmetry or lack of symmetry in the distribution of data points in a dataset. In other words, it describes the extent to which the data deviates from being symmetrically distributed around the mean. Skewness provides insights into the shape of the data distribution and the direction in which it is skewed."
   ]
  },
  {
   "cell_type": "markdown",
   "id": "d3dc2497-a124-40bc-94dd-5fb500031181",
   "metadata": {},
   "source": [
    "#Q8\n",
    "If a dataset is right-skewed (positively skewed), the distribution has a longer tail on the right side and is pulled towards higher values. In such a distribution, there are relatively few extreme high values that can significantly affect the mean, pulling it towards the higher end of the data range.\n",
    "\n",
    "In terms of the position of the median with respect to the mean in a right-skewed distribution:\n",
    "\n",
    "Median: The median is the middle value when the data is arranged in ascending order. Since the tail of a right-skewed distribution is stretched out to the right, the median tends to be less influenced by these extreme high values. Therefore, the median is usually closer to the center of the bulk of the data, which is located on the left side of the distribution.\n",
    "\n",
    "Mean: The mean is greatly affected by extreme values, and in a right-skewed distribution, the presence of high outliers can push the mean higher. The mean will be pulled towards the longer tail on the right side of the distribution due to these high values.\n",
    "\n",
    "The median is typically closer to the main cluster of data on the left side.\n",
    "The mean is usually pulled towards the tail on the right side due to the influence of extreme high values.\n",
    "This relationship between the median and mean in right-skewed data highlights how these two measures respond differently to the presence of extreme values and asymmetry in the distribution."
   ]
  },
  {
   "cell_type": "markdown",
   "id": "8875fa71-a7d4-46f0-a685-2a7c2b42388c",
   "metadata": {},
   "source": [
    "#Q10\n",
    "\n",
    "Covariance and correlation are both measures used to quantify the relationship between two variables in statistical analysis. However, they serve slightly different purposes and have different interpretations:\n",
    "\n",
    "Covariance:\n",
    "\n",
    "Covariance measures the degree to which two variables change together. It indicates the direction of the linear relationship between variables, whether they tend to increase or decrease together.\n",
    "It is calculated as the average of the product of the deviations of each variable from their respective means.\n",
    "Covariance can take positive, negative, or zero values. A positive covariance indicates that as one variable increases, the other tends to increase as well, and vice versa. A negative covariance indicates an inverse relationship, where one variable tends to decrease as the other increases.\n",
    "However, the magnitude of the covariance doesn't provide a standardized measure of the strength of the relationship, making it less interpretable on its own.\n",
    "\n",
    "\n",
    "Correlation:\n",
    "\n",
    "Correlation is a standardized measure that not only indicates the direction of the linear relationship between variables but also provides information about the strength and magnitude of that relationship.\n",
    "Pearson correlation coefficient is the most common measure of correlation. It is calculated by dividing the covariance of the two variables by the product of their standard deviations. The coefficient ranges from -1 (perfect negative correlation) to 1 (perfect positive correlation), with 0 indicating no linear correlation.\n",
    "Correlation takes into account the scales of the variables and allows for comparison of relationships across different datasets.\n",
    "It's important to note that correlation does not imply causation. Two variables can be strongly correlated without one causing the other.\n",
    "\n",
    "In statistical analysis:\n",
    "\n",
    "Covariance is often used to understand the general direction of the relationship between two variables and whether they tend to move together or in opposite directions. However, due to its lack of standardized scale, it's not as useful for comparing relationships across different datasets.\n",
    "Correlation, on the other hand, is widely used to measure both the strength and direction of the linear relationship between variables. It allows for better comparison between different relationships and is more interpretable.\n"
   ]
  },
  {
   "cell_type": "markdown",
   "id": "cf63f10e-4eb0-4224-bd11-7f8ab1779427",
   "metadata": {},
   "source": [
    "#Q11\n",
    "\n",
    "The formula for calculating the sample mean (average) of a dataset is:\n",
    "\n",
    "Sample Mean = (Sum of all data values) / (Number of data values)\n",
    "\n",
    "Mathematically, this can be expressed as:\n",
    "\n",
    "Sample Mean (x̄) = Σx / n\n",
    "\n",
    "Where:\n",
    "\n",
    "x̄ is the sample mean.\n",
    "Σx represents the sum of all individual data values.\n",
    "n is the number of data values in the dataset.\n",
    "\n",
    "Suppose we have a dataset of exam scores: [75, 80, 85, 90, 95]\n",
    "\n",
    "Add up all the data values: 75 + 80 + 85 + 90 + 95 = 425\n",
    "Count the number of data values: n = 5\n",
    "Now plug the values into the formula:\n",
    "\n",
    "Sample Mean = 425 / 5 = 85\n",
    "\n",
    "So, the sample mean of the exam scores is 85.\n",
    "\n",
    "\n"
   ]
  },
  {
   "cell_type": "markdown",
   "id": "50007cef-82cc-4de2-8f5c-ebaac25b37a2",
   "metadata": {},
   "source": [
    "#Q12\n",
    "In a perfectly symmetrical and true normal distribution, the measures of central tendency (mean, median, and mode) are all equal and located at the same point. This is one of the defining characteristics of a normal distribution."
   ]
  },
  {
   "cell_type": "markdown",
   "id": "b8ef4323-944b-460b-b489-1feecf5f2499",
   "metadata": {},
   "source": [
    "#Q13\n",
    "Covariance and correlation are both measures used to understand the relationship between two variables in statistics, but they have different properties and interpretations:\n",
    "\n",
    "Covariance:\n",
    "\n",
    "Definition: Covariance measures how two variables change together. It indicates whether the variables tend to increase or decrease together.\n",
    "\n",
    "Range of Values: Covariance can take any value, positive, negative, or zero.\n",
    "\n",
    "Interpretation: A positive covariance indicates that as one variable increases, the other tends to increase as well, and vice versa. A negative covariance indicates an inverse relationship, where one variable tends to decrease as the other increases. A covariance near zero suggests that there's little linear relationship between the variables.\n",
    "\n",
    "Scale Dependence: Covariance is not standardized and depends on the scales of the variables. As a result, it might be difficult to compare covariances between different datasets.\n",
    "\n",
    "Correlation:\n",
    "    \n",
    "Definition: Correlation measures the strength and direction of the linear relationship between two variables. It provides insights into how much the variables' values tend to change together in a linear fashion.\n",
    "\n",
    "Range of Values: Correlation coefficients range from -1 (perfect negative correlation) to 1 (perfect positive correlation), with 0 indicating no linear correlation.\n",
    "\n",
    "Interpretation: A positive correlation coefficient indicates a positive linear relationship, where higher values of one variable correspond to higher values of the other. A negative correlation coefficient indicates a negative linear relationship. A correlation coefficient near 0 suggests a weak or no linear relationship.\n",
    "\n",
    "Scale Independence: Correlation is standardized and isn't affected by the scales of the variables. This makes it easier to compare correlations across different datasets."
   ]
  },
  {
   "cell_type": "markdown",
   "id": "f0835c56-bc46-4d37-9223-b5ca4a3c36fb",
   "metadata": {},
   "source": [
    "#Q14\n",
    "Outliers are data points that significantly differ from the rest of the dataset. They can have a notable impact on measures of central tendency (mean, median, mode) and measures of dispersion (variance, standard deviation, range). The extent of the impact depends on the position and number of outliers.\n",
    "\n",
    "Measures of Central Tendency:\n",
    "\n",
    "Mean: Outliers can disproportionately affect the mean. A single extreme outlier can pull the mean towards it, potentially distorting its representation of the central location.\n",
    "\n",
    "Median: The median is less affected by outliers. Even if there are extreme values, the median will remain relatively close to the center of the bulk of the data.\n",
    "\n",
    "Mode: The mode is less sensitive to outliers as well. Outliers do not necessarily impact the mode since it represents the most frequently occurring value.\n",
    "\n",
    "Measures of Dispersion:\n",
    "\n",
    "Variance and Standard Deviation: Outliers can significantly increase the variance and standard deviation, as these measures consider the squared differences between each data point and the mean. The presence of outliers leads to larger squared differences, resulting in larger values for variance and standard deviation.\n",
    "\n",
    "Range: The range is directly impacted by outliers. A single outlier that is much larger or smaller than the rest of the data can cause the range to increase significantly.\n",
    "\n",
    "Consider a dataset of exam scores: [80, 85, 88, 90, 92, 95, 100, 105]\n",
    "\n",
    "Original Mean: (80 + 85 + 88 + 90 + 92 + 95 + 100 + 105) / 8 = 91.875\n",
    "\n",
    "Mean with Outlier: (80 + 85 + 88 + 90 + 92 + 95 + 100 + 105 + 1000) / 9 = 215.444\n",
    "\n",
    "Original Standard Deviation: Approximately 8.47\n",
    "\n",
    "Standard Deviation with Outlier: Approximately 221.68\n",
    "\n",
    "in this example, the outlier (1000) significantly affected both the mean and the standard deviation, pulling them towards the extreme value. The median would still remain relatively close to the center, and the mode wouldn't be affected by the outlier.\n",
    "\n",
    " outliers can distort the interpretation of a dataset by influencing measures of central tendency and dispersion. It's important to carefully analyze the presence and impact of outliers, considering whether they are valid data points or errors, and deciding whether to include, transform, or remove them based on the context of the analysis.\n",
    "    "
   ]
  },
  {
   "cell_type": "code",
   "execution_count": null,
   "id": "f339368d-c1ac-4880-a1e7-4d8e9aa3cff6",
   "metadata": {},
   "outputs": [],
   "source": []
  }
 ],
 "metadata": {
  "kernelspec": {
   "display_name": "Python 3 (ipykernel)",
   "language": "python",
   "name": "python3"
  },
  "language_info": {
   "codemirror_mode": {
    "name": "ipython",
    "version": 3
   },
   "file_extension": ".py",
   "mimetype": "text/x-python",
   "name": "python",
   "nbconvert_exporter": "python",
   "pygments_lexer": "ipython3",
   "version": "3.10.8"
  }
 },
 "nbformat": 4,
 "nbformat_minor": 5
}
