{
 "cells": [
  {
   "cell_type": "code",
   "execution_count": 2,
   "id": "55bcc508-55ec-4618-bd88-eaecca7539fe",
   "metadata": {},
   "outputs": [],
   "source": [
    "import pandas as pd"
   ]
  },
  {
   "cell_type": "code",
   "execution_count": 2,
   "id": "b75e6d0c-31e9-4f00-b2b3-8ad4b0f7c4d2",
   "metadata": {},
   "outputs": [],
   "source": [
    "#Q1\n",
    "course_name = ['Data Science', 'Machine Learning', 'Big Data', 'Data Engineer']\n",
    "duration = [2,3,6,4]\n",
    "df = pd.DataFrame(data = {'course_name': course_name,'duration':duration})"
   ]
  },
  {
   "cell_type": "code",
   "execution_count": 3,
   "id": "d3830a6a-d278-441a-95ac-b6218796da42",
   "metadata": {},
   "outputs": [
    {
     "data": {
      "text/html": [
       "<div>\n",
       "<style scoped>\n",
       "    .dataframe tbody tr th:only-of-type {\n",
       "        vertical-align: middle;\n",
       "    }\n",
       "\n",
       "    .dataframe tbody tr th {\n",
       "        vertical-align: top;\n",
       "    }\n",
       "\n",
       "    .dataframe thead th {\n",
       "        text-align: right;\n",
       "    }\n",
       "</style>\n",
       "<table border=\"1\" class=\"dataframe\">\n",
       "  <thead>\n",
       "    <tr style=\"text-align: right;\">\n",
       "      <th></th>\n",
       "      <th>course_name</th>\n",
       "      <th>duration</th>\n",
       "    </tr>\n",
       "  </thead>\n",
       "  <tbody>\n",
       "    <tr>\n",
       "      <th>0</th>\n",
       "      <td>Data Science</td>\n",
       "      <td>2</td>\n",
       "    </tr>\n",
       "    <tr>\n",
       "      <th>1</th>\n",
       "      <td>Machine Learning</td>\n",
       "      <td>3</td>\n",
       "    </tr>\n",
       "    <tr>\n",
       "      <th>2</th>\n",
       "      <td>Big Data</td>\n",
       "      <td>6</td>\n",
       "    </tr>\n",
       "    <tr>\n",
       "      <th>3</th>\n",
       "      <td>Data Engineer</td>\n",
       "      <td>4</td>\n",
       "    </tr>\n",
       "  </tbody>\n",
       "</table>\n",
       "</div>"
      ],
      "text/plain": [
       "        course_name  duration\n",
       "0      Data Science         2\n",
       "1  Machine Learning         3\n",
       "2          Big Data         6\n",
       "3     Data Engineer         4"
      ]
     },
     "execution_count": 3,
     "metadata": {},
     "output_type": "execute_result"
    }
   ],
   "source": [
    "df"
   ]
  },
  {
   "cell_type": "code",
   "execution_count": 4,
   "id": "1477aaef-70fb-4ad5-83f0-411bdd991f69",
   "metadata": {},
   "outputs": [
    {
     "name": "stdout",
     "output_type": "stream",
     "text": [
      "course_name    Machine Learning\n",
      "duration                      3\n",
      "Name: 1, dtype: object\n"
     ]
    }
   ],
   "source": [
    "print(df.iloc[1])"
   ]
  },
  {
   "cell_type": "markdown",
   "id": "be51e8a8-5d56-42be-bde2-5e2cd8cc06a6",
   "metadata": {},
   "source": [
    "#Q2\n",
    "The loc and iloc functions in pandas.DataFrame are used to access data in a DataFrame, but they differ in the way they handle indexing.\n",
    "\n",
    "loc is primarily label-based, meaning that you can access data using labels (row and column names). It accepts a label or a list of labels as input. For example, df.loc[0] returns the first row of the DataFrame, and df.loc[:, 'Name'] returns the 'Name' column.\n",
    "\n",
    "iloc is primarily integer-based, meaning that you can access data using integer indices. It accepts an integer or a list of integers as input. For example, df.iloc[0] returns the first row of the DataFrame, and df.iloc[:, 0] returns the first column.\n",
    "\n",
    "It's important to note that loc and iloc are inclusive of the endpoints when using slicing. For example, df.loc[1:3] returns rows 1, 2, and 3, while df.iloc[1:3] returns rows 1 and 2.\n",
    "\n",
    "In summary, the main difference between loc and iloc is the way they handle indexing. loc uses labels, while iloc uses integer indices."
   ]
  },
  {
   "cell_type": "code",
   "execution_count": 5,
   "id": "99fb1a6e-dfe3-4e4c-8dd8-d862b2a72931",
   "metadata": {},
   "outputs": [
    {
     "name": "stdout",
     "output_type": "stream",
     "text": [
      "        course_name  duration\n",
      "3     Data Engineer         4\n",
      "0      Data Science         2\n",
      "1  Machine Learning         3\n",
      "2          Big Data         6\n",
      "course_name    Big Data\n",
      "duration              6\n",
      "Name: 2, dtype: object\n",
      "course_name    Machine Learning\n",
      "duration                      3\n",
      "Name: 1, dtype: object\n"
     ]
    }
   ],
   "source": [
    "#Q3\n",
    "reindex = [3,0,1,2]\n",
    "new_df = df.reindex(reindex)\n",
    "print(new_df)\n",
    "print(new_df.loc[2])\n",
    "print(new_df.iloc[2])"
   ]
  },
  {
   "cell_type": "markdown",
   "id": "57d32605-e7ca-492f-8bda-4c252e18cd0d",
   "metadata": {},
   "source": [
    "the diifference in the output is that when we used loc funtion it returned the row named 2 in the index. and when we used iloc funtion it returned the row 1 which is row 2 according to the index."
   ]
  },
  {
   "cell_type": "code",
   "execution_count": 6,
   "id": "82ff86a3-407c-40c4-bca6-395ee256ebda",
   "metadata": {},
   "outputs": [],
   "source": [
    "import pandas as pd\n",
    "import numpy as np\n",
    "columns = ['column_1', 'column_2', 'column_3', 'column_4', 'column_5', 'column_6']\n",
    "indices = [1,2,3,4,5,6]\n",
    "#creating a dataframe\n",
    "df1 = pd.DataFrame(np.random.rand(6,6), columns = columns, index = indices)"
   ]
  },
  {
   "cell_type": "code",
   "execution_count": 7,
   "id": "c8643e44-e743-49d6-99a6-65650bbf1884",
   "metadata": {},
   "outputs": [
    {
     "data": {
      "text/html": [
       "<div>\n",
       "<style scoped>\n",
       "    .dataframe tbody tr th:only-of-type {\n",
       "        vertical-align: middle;\n",
       "    }\n",
       "\n",
       "    .dataframe tbody tr th {\n",
       "        vertical-align: top;\n",
       "    }\n",
       "\n",
       "    .dataframe thead th {\n",
       "        text-align: right;\n",
       "    }\n",
       "</style>\n",
       "<table border=\"1\" class=\"dataframe\">\n",
       "  <thead>\n",
       "    <tr style=\"text-align: right;\">\n",
       "      <th></th>\n",
       "      <th>column_1</th>\n",
       "      <th>column_2</th>\n",
       "      <th>column_3</th>\n",
       "      <th>column_4</th>\n",
       "      <th>column_5</th>\n",
       "      <th>column_6</th>\n",
       "    </tr>\n",
       "  </thead>\n",
       "  <tbody>\n",
       "    <tr>\n",
       "      <th>1</th>\n",
       "      <td>0.567381</td>\n",
       "      <td>0.916038</td>\n",
       "      <td>0.615681</td>\n",
       "      <td>0.922660</td>\n",
       "      <td>0.342910</td>\n",
       "      <td>0.514895</td>\n",
       "    </tr>\n",
       "    <tr>\n",
       "      <th>2</th>\n",
       "      <td>0.062805</td>\n",
       "      <td>0.915086</td>\n",
       "      <td>0.159038</td>\n",
       "      <td>0.421526</td>\n",
       "      <td>0.101220</td>\n",
       "      <td>0.120831</td>\n",
       "    </tr>\n",
       "    <tr>\n",
       "      <th>3</th>\n",
       "      <td>0.975534</td>\n",
       "      <td>0.028961</td>\n",
       "      <td>0.655359</td>\n",
       "      <td>0.135590</td>\n",
       "      <td>0.537263</td>\n",
       "      <td>0.250661</td>\n",
       "    </tr>\n",
       "    <tr>\n",
       "      <th>4</th>\n",
       "      <td>0.514210</td>\n",
       "      <td>0.198790</td>\n",
       "      <td>0.219304</td>\n",
       "      <td>0.458769</td>\n",
       "      <td>0.988129</td>\n",
       "      <td>0.868997</td>\n",
       "    </tr>\n",
       "    <tr>\n",
       "      <th>5</th>\n",
       "      <td>0.670462</td>\n",
       "      <td>0.872169</td>\n",
       "      <td>0.595480</td>\n",
       "      <td>0.509255</td>\n",
       "      <td>0.276826</td>\n",
       "      <td>0.943315</td>\n",
       "    </tr>\n",
       "    <tr>\n",
       "      <th>6</th>\n",
       "      <td>0.006958</td>\n",
       "      <td>0.565062</td>\n",
       "      <td>0.152441</td>\n",
       "      <td>0.347412</td>\n",
       "      <td>0.403940</td>\n",
       "      <td>0.735790</td>\n",
       "    </tr>\n",
       "  </tbody>\n",
       "</table>\n",
       "</div>"
      ],
      "text/plain": [
       "   column_1  column_2  column_3  column_4  column_5  column_6\n",
       "1  0.567381  0.916038  0.615681  0.922660  0.342910  0.514895\n",
       "2  0.062805  0.915086  0.159038  0.421526  0.101220  0.120831\n",
       "3  0.975534  0.028961  0.655359  0.135590  0.537263  0.250661\n",
       "4  0.514210  0.198790  0.219304  0.458769  0.988129  0.868997\n",
       "5  0.670462  0.872169  0.595480  0.509255  0.276826  0.943315\n",
       "6  0.006958  0.565062  0.152441  0.347412  0.403940  0.735790"
      ]
     },
     "execution_count": 7,
     "metadata": {},
     "output_type": "execute_result"
    }
   ],
   "source": [
    "df1"
   ]
  },
  {
   "cell_type": "code",
   "execution_count": 8,
   "id": "05d1e5ef-6985-4bf4-b74f-8628370f2df2",
   "metadata": {},
   "outputs": [
    {
     "name": "stdout",
     "output_type": "stream",
     "text": [
      "column_1    0.466225\n",
      "column_2    0.582684\n",
      "column_3    0.399551\n",
      "column_4    0.465869\n",
      "column_5    0.441715\n",
      "column_6    0.572415\n",
      "dtype: float64\n"
     ]
    }
   ],
   "source": [
    "#Q4 (i)\n",
    "column_means = df1.mean()\n",
    "print(column_means)"
   ]
  },
  {
   "cell_type": "code",
   "execution_count": 9,
   "id": "4010c98e-3a28-4ec1-9d1f-be168f5ee89b",
   "metadata": {},
   "outputs": [
    {
     "data": {
      "text/plain": [
       "0.3897978026451919"
      ]
     },
     "execution_count": 9,
     "metadata": {},
     "output_type": "execute_result"
    }
   ],
   "source": [
    "#(ii)\n",
    "df1[\"column_2\"].std()"
   ]
  },
  {
   "cell_type": "code",
   "execution_count": 10,
   "id": "b695debe-1225-40b6-ab28-a269774e53a6",
   "metadata": {},
   "outputs": [],
   "source": [
    "#Q5\n",
    "df1.loc[2, 'column_2'] = \"Captain America\""
   ]
  },
  {
   "cell_type": "code",
   "execution_count": 11,
   "id": "e1163502-70ce-4580-9475-41af9d30021c",
   "metadata": {},
   "outputs": [
    {
     "data": {
      "text/html": [
       "<div>\n",
       "<style scoped>\n",
       "    .dataframe tbody tr th:only-of-type {\n",
       "        vertical-align: middle;\n",
       "    }\n",
       "\n",
       "    .dataframe tbody tr th {\n",
       "        vertical-align: top;\n",
       "    }\n",
       "\n",
       "    .dataframe thead th {\n",
       "        text-align: right;\n",
       "    }\n",
       "</style>\n",
       "<table border=\"1\" class=\"dataframe\">\n",
       "  <thead>\n",
       "    <tr style=\"text-align: right;\">\n",
       "      <th></th>\n",
       "      <th>column_1</th>\n",
       "      <th>column_2</th>\n",
       "      <th>column_3</th>\n",
       "      <th>column_4</th>\n",
       "      <th>column_5</th>\n",
       "      <th>column_6</th>\n",
       "    </tr>\n",
       "  </thead>\n",
       "  <tbody>\n",
       "    <tr>\n",
       "      <th>1</th>\n",
       "      <td>0.567381</td>\n",
       "      <td>0.916038</td>\n",
       "      <td>0.615681</td>\n",
       "      <td>0.922660</td>\n",
       "      <td>0.342910</td>\n",
       "      <td>0.514895</td>\n",
       "    </tr>\n",
       "    <tr>\n",
       "      <th>2</th>\n",
       "      <td>0.062805</td>\n",
       "      <td>Captain America</td>\n",
       "      <td>0.159038</td>\n",
       "      <td>0.421526</td>\n",
       "      <td>0.101220</td>\n",
       "      <td>0.120831</td>\n",
       "    </tr>\n",
       "    <tr>\n",
       "      <th>3</th>\n",
       "      <td>0.975534</td>\n",
       "      <td>0.028961</td>\n",
       "      <td>0.655359</td>\n",
       "      <td>0.135590</td>\n",
       "      <td>0.537263</td>\n",
       "      <td>0.250661</td>\n",
       "    </tr>\n",
       "    <tr>\n",
       "      <th>4</th>\n",
       "      <td>0.514210</td>\n",
       "      <td>0.19879</td>\n",
       "      <td>0.219304</td>\n",
       "      <td>0.458769</td>\n",
       "      <td>0.988129</td>\n",
       "      <td>0.868997</td>\n",
       "    </tr>\n",
       "    <tr>\n",
       "      <th>5</th>\n",
       "      <td>0.670462</td>\n",
       "      <td>0.872169</td>\n",
       "      <td>0.595480</td>\n",
       "      <td>0.509255</td>\n",
       "      <td>0.276826</td>\n",
       "      <td>0.943315</td>\n",
       "    </tr>\n",
       "    <tr>\n",
       "      <th>6</th>\n",
       "      <td>0.006958</td>\n",
       "      <td>0.565062</td>\n",
       "      <td>0.152441</td>\n",
       "      <td>0.347412</td>\n",
       "      <td>0.403940</td>\n",
       "      <td>0.735790</td>\n",
       "    </tr>\n",
       "  </tbody>\n",
       "</table>\n",
       "</div>"
      ],
      "text/plain": [
       "   column_1         column_2  column_3  column_4  column_5  column_6\n",
       "1  0.567381         0.916038  0.615681  0.922660  0.342910  0.514895\n",
       "2  0.062805  Captain America  0.159038  0.421526  0.101220  0.120831\n",
       "3  0.975534         0.028961  0.655359  0.135590  0.537263  0.250661\n",
       "4  0.514210          0.19879  0.219304  0.458769  0.988129  0.868997\n",
       "5  0.670462         0.872169  0.595480  0.509255  0.276826  0.943315\n",
       "6  0.006958         0.565062  0.152441  0.347412  0.403940  0.735790"
      ]
     },
     "execution_count": 11,
     "metadata": {},
     "output_type": "execute_result"
    }
   ],
   "source": [
    "df1"
   ]
  },
  {
   "cell_type": "markdown",
   "id": "cd267fac-f337-4f74-a752-6834ab3eb838",
   "metadata": {},
   "source": [
    "#Q6\n",
    "window function allow us to perform an operation with a given row's data and data from another row that is a specified number of rows away, this nnumber of rows away value is called the window\n",
    "for working with numerical data, pandas provide few variants like rolling, expanding and exponentially moving wights for window statistics. Among these are sum, mean, median, variance, covariance, correlation etc\n",
    "1. rolling() function- this function can be applied on a series of data. specify the window = n argument and apply the appropriate statistical function on top of it\n",
    "2. expanding() function- the function can be applied on serires of data. Specify the min_periods = n argument and apply the appropriate statistical function on top of it.\n",
    "3. ewm() function - ewm is applied on series of data specify any of the com, span, halflife argument and apply the appropriate statistical function on top of it . it assigns wights exponentially"
   ]
  },
  {
   "cell_type": "code",
   "execution_count": 12,
   "id": "70fd0b3f-71a7-4656-868a-a058f828bc64",
   "metadata": {},
   "outputs": [
    {
     "name": "stdout",
     "output_type": "stream",
     "text": [
      "current month 8\n",
      "current year 2023\n"
     ]
    },
    {
     "name": "stderr",
     "output_type": "stream",
     "text": [
      "/tmp/ipykernel_102/1922986964.py:2: FutureWarning: The pandas.datetime class is deprecated and will be removed from pandas in a future version. Import from datetime module instead.\n",
      "  current_date = pd.datetime.now()\n"
     ]
    }
   ],
   "source": [
    "#Q7\n",
    "current_date = pd.datetime.now()\n",
    "current_month = current_date.month\n",
    "current_year = current_date.year\n",
    "print(\"current month\",current_month)\n",
    "print(\"current year\", current_year)"
   ]
  },
  {
   "cell_type": "code",
   "execution_count": 13,
   "id": "1a344827-8ba3-46ff-b7ae-aeb7caf5a03a",
   "metadata": {},
   "outputs": [
    {
     "name": "stdin",
     "output_type": "stream",
     "text": [
      "enter the first date(YYYY-MM-DD): 2023-08-01\n",
      "enter the second date(YYYY-MM-DD): 2023-08-02\n"
     ]
    },
    {
     "name": "stdout",
     "output_type": "stream",
     "text": [
      "difference between both the dates:\n",
      "1 days, 0 hours, 0.0 minutes\n"
     ]
    }
   ],
   "source": [
    "#Q8\n",
    "date1 = input(\"enter the first date(YYYY-MM-DD):\")\n",
    "date2 = input(\"enter the second date(YYYY-MM-DD):\")\n",
    "\n",
    "date1 = pd.to_datetime(date1)\n",
    "date2 = pd.to_datetime(date2)\n",
    "diff = date2- date1\n",
    "days = diff.days\n",
    "hours = diff.seconds//3600\n",
    "minutes = (diff.seconds%3600)/60\n",
    "\n",
    "print(\"difference between both the dates:\")\n",
    "print(f\"{days} days, {hours} hours, {minutes} minutes\")"
   ]
  },
  {
   "cell_type": "code",
   "execution_count": 24,
   "id": "f6882d5a-be45-4e99-83ea-6d6f101fcb15",
   "metadata": {},
   "outputs": [
    {
     "name": "stdin",
     "output_type": "stream",
     "text": [
      "enter the file path: data.csv\n",
      "enter the column name: phone_number\n",
      "enter the category order(comma-separated):  1,0\n"
     ]
    },
    {
     "name": "stdout",
     "output_type": "stream",
     "text": [
      "    name         email_id phone_number\n",
      "0   sudh   sudh@gmail.com          NaN\n",
      "1  krish  krish@gmail.com          NaN\n"
     ]
    }
   ],
   "source": [
    "#Q9\n",
    "file_path = input(\"enter the file path:\")\n",
    "data = pd.read_csv(file_path)\n",
    "column_name = input(\"enter the column name:\")\n",
    "category_order = input(\"enter the category order(comma-separated): \").split(\",\")\n",
    "data[column_name]= pd.Categorical(data[column_name], categories = category_order, ordered = True)\n",
    "sorted_data = data.sort_values(column_name)\n",
    "print(sorted_data)"
   ]
  },
  {
   "cell_type": "code",
   "execution_count": 5,
   "id": "2fa36df2-6c85-45f6-8386-ccb9f7456918",
   "metadata": {},
   "outputs": [
    {
     "name": "stdin",
     "output_type": "stream",
     "text": [
      "enter the file path 100 Sales Records.csv\n"
     ]
    },
    {
     "name": "stderr",
     "output_type": "stream",
     "text": [
      "/tmp/ipykernel_95/3515386834.py:4: FutureWarning: The default value of numeric_only in DataFrameGroupBy.sum is deprecated. In a future version, numeric_only will default to False. Either specify numeric_only or select only columns which should be valid for the function.\n",
      "  sales_data = data.groupby([\"Item Type\"]).sum()\n"
     ]
    },
    {
     "ename": "NameError",
     "evalue": "name 'plot' is not defined",
     "output_type": "error",
     "traceback": [
      "\u001b[0;31m---------------------------------------------------------------------------\u001b[0m",
      "\u001b[0;31mNameError\u001b[0m                                 Traceback (most recent call last)",
      "Cell \u001b[0;32mIn[5], line 6\u001b[0m\n\u001b[1;32m      4\u001b[0m sales_data \u001b[38;5;241m=\u001b[39m data\u001b[38;5;241m.\u001b[39mgroupby([\u001b[38;5;124m\"\u001b[39m\u001b[38;5;124mItem Type\u001b[39m\u001b[38;5;124m\"\u001b[39m])\u001b[38;5;241m.\u001b[39msum()\n\u001b[1;32m      5\u001b[0m sales_data\u001b[38;5;241m.\u001b[39mplot(kind \u001b[38;5;241m=\u001b[39m \u001b[38;5;124m'\u001b[39m\u001b[38;5;124mbar\u001b[39m\u001b[38;5;124m'\u001b[39m, stacked \u001b[38;5;241m=\u001b[39m \u001b[38;5;28;01mTrue\u001b[39;00m)\n\u001b[0;32m----> 6\u001b[0m \u001b[43mplot\u001b[49m\u001b[38;5;241m.\u001b[39mtitle(\u001b[38;5;124m\"\u001b[39m\u001b[38;5;124mSales data by product category\u001b[39m\u001b[38;5;124m\"\u001b[39m)\n\u001b[1;32m      7\u001b[0m plot\u001b[38;5;241m.\u001b[39mxlabel(\u001b[38;5;124m\"\u001b[39m\u001b[38;5;124mTime\u001b[39m\u001b[38;5;124m\"\u001b[39m)\n\u001b[1;32m      8\u001b[0m plot\u001b[38;5;241m.\u001b[39mylabel(\u001b[38;5;124m\"\u001b[39m\u001b[38;5;124mSales\u001b[39m\u001b[38;5;124m\"\u001b[39m)\n",
      "\u001b[0;31mNameError\u001b[0m: name 'plot' is not defined"
     ]
    },
    {
     "data": {
      "image/png": "[encoded data removed]",
      "text/plain": [
       "<Figure size 640x480 with 1 Axes>"
      ]
     },
     "metadata": {},
     "output_type": "display_data"
    }
   ],
   "source": [
    "#Q10\n",
    "file_path = input(\"enter the file path\")\n",
    "data = pd.read_csv(file_path)\n",
    "sales_data = data.groupby([\"Item Type\"]).sum()\n",
    "sales_data.plot(kind = 'bar', stacked = True)\n",
    "plot.title(\"Sales data by product category\")\n",
    "plot.xlabel(\"Time\")\n",
    "plot.ylabel(\"Sales\")\n",
    "\n",
    "plot.show()"
   ]
  },
  {
   "cell_type": "code",
   "execution_count": 6,
   "id": "1a2e0b80-f8a4-4193-a613-fe8a00adbfa4",
   "metadata": {},
   "outputs": [
    {
     "name": "stdin",
     "output_type": "stream",
     "text": [
      "enter your csv file student_data.csv.csv\n"
     ]
    },
    {
     "data": {
      "text/html": [
       "<div>\n",
       "<style scoped>\n",
       "    .dataframe tbody tr th:only-of-type {\n",
       "        vertical-align: middle;\n",
       "    }\n",
       "\n",
       "    .dataframe tbody tr th {\n",
       "        vertical-align: top;\n",
       "    }\n",
       "\n",
       "    .dataframe thead th {\n",
       "        text-align: right;\n",
       "    }\n",
       "</style>\n",
       "<table border=\"1\" class=\"dataframe\">\n",
       "  <thead>\n",
       "    <tr style=\"text-align: right;\">\n",
       "      <th></th>\n",
       "      <th>Student Id</th>\n",
       "      <th>Test Score</th>\n",
       "    </tr>\n",
       "  </thead>\n",
       "  <tbody>\n",
       "    <tr>\n",
       "      <th>0</th>\n",
       "      <td>1</td>\n",
       "      <td>85</td>\n",
       "    </tr>\n",
       "    <tr>\n",
       "      <th>1</th>\n",
       "      <td>2</td>\n",
       "      <td>90</td>\n",
       "    </tr>\n",
       "    <tr>\n",
       "      <th>2</th>\n",
       "      <td>3</td>\n",
       "      <td>80</td>\n",
       "    </tr>\n",
       "    <tr>\n",
       "      <th>3</th>\n",
       "      <td>4</td>\n",
       "      <td>75</td>\n",
       "    </tr>\n",
       "    <tr>\n",
       "      <th>4</th>\n",
       "      <td>5</td>\n",
       "      <td>85</td>\n",
       "    </tr>\n",
       "    <tr>\n",
       "      <th>5</th>\n",
       "      <td>6</td>\n",
       "      <td>82</td>\n",
       "    </tr>\n",
       "    <tr>\n",
       "      <th>6</th>\n",
       "      <td>7</td>\n",
       "      <td>78</td>\n",
       "    </tr>\n",
       "    <tr>\n",
       "      <th>7</th>\n",
       "      <td>8</td>\n",
       "      <td>85</td>\n",
       "    </tr>\n",
       "    <tr>\n",
       "      <th>8</th>\n",
       "      <td>9</td>\n",
       "      <td>90</td>\n",
       "    </tr>\n",
       "    <tr>\n",
       "      <th>9</th>\n",
       "      <td>10</td>\n",
       "      <td>85</td>\n",
       "    </tr>\n",
       "  </tbody>\n",
       "</table>\n",
       "</div>"
      ],
      "text/plain": [
       "   Student Id  Test Score\n",
       "0           1          85\n",
       "1           2          90\n",
       "2           3          80\n",
       "3           4          75\n",
       "4           5          85\n",
       "5           6          82\n",
       "6           7          78\n",
       "7           8          85\n",
       "8           9          90\n",
       "9          10          85"
      ]
     },
     "execution_count": 6,
     "metadata": {},
     "output_type": "execute_result"
    }
   ],
   "source": [
    "#Q11\n",
    "a = input(\"enter your csv file\")\n",
    "data1 = pd.read_csv(a)\n",
    "data1"
   ]
  },
  {
   "cell_type": "code",
   "execution_count": 9,
   "id": "c735b6dc-f927-4d68-ace8-ba38e2ce6f8f",
   "metadata": {},
   "outputs": [
    {
     "data": {
      "text/plain": [
       "83.5"
      ]
     },
     "execution_count": 9,
     "metadata": {},
     "output_type": "execute_result"
    }
   ],
   "source": [
    "data1[\"Test Score\"].mean()"
   ]
  },
  {
   "cell_type": "code",
   "execution_count": 11,
   "id": "0eec5407-a9d4-466b-932c-5b2ebe634040",
   "metadata": {},
   "outputs": [
    {
     "data": {
      "text/plain": [
       "85.0"
      ]
     },
     "execution_count": 11,
     "metadata": {},
     "output_type": "execute_result"
    }
   ],
   "source": [
    "data1[\"Test Score\"].median()"
   ]
  },
  {
   "cell_type": "code",
   "execution_count": 12,
   "id": "614d49e7-07f7-4f81-9094-9bc8dba61ad9",
   "metadata": {},
   "outputs": [
    {
     "data": {
      "text/plain": [
       "0    85\n",
       "Name: Test Score, dtype: int64"
      ]
     },
     "execution_count": 12,
     "metadata": {},
     "output_type": "execute_result"
    }
   ],
   "source": [
    "data1[\"Test Score\"].mode()"
   ]
  },
  {
   "cell_type": "code",
   "execution_count": 22,
   "id": "f4066f84-f77e-4892-817c-9319997ed209",
   "metadata": {},
   "outputs": [],
   "source": [
    "df= pd.DataFrame({\"Mean\":83.5, \"Median\":85.0, \"Mode\":85}, index = [0])"
   ]
  },
  {
   "cell_type": "code",
   "execution_count": 23,
   "id": "54a125ea-3832-4f6d-8d6f-a727eb19239b",
   "metadata": {},
   "outputs": [
    {
     "data": {
      "text/html": [
       "<div>\n",
       "<style scoped>\n",
       "    .dataframe tbody tr th:only-of-type {\n",
       "        vertical-align: middle;\n",
       "    }\n",
       "\n",
       "    .dataframe tbody tr th {\n",
       "        vertical-align: top;\n",
       "    }\n",
       "\n",
       "    .dataframe thead th {\n",
       "        text-align: right;\n",
       "    }\n",
       "</style>\n",
       "<table border=\"1\" class=\"dataframe\">\n",
       "  <thead>\n",
       "    <tr style=\"text-align: right;\">\n",
       "      <th></th>\n",
       "      <th>Mean</th>\n",
       "      <th>Median</th>\n",
       "      <th>Mode</th>\n",
       "    </tr>\n",
       "  </thead>\n",
       "  <tbody>\n",
       "    <tr>\n",
       "      <th>0</th>\n",
       "      <td>83.5</td>\n",
       "      <td>85.0</td>\n",
       "      <td>85</td>\n",
       "    </tr>\n",
       "  </tbody>\n",
       "</table>\n",
       "</div>"
      ],
      "text/plain": [
       "   Mean  Median  Mode\n",
       "0  83.5    85.0    85"
      ]
     },
     "execution_count": 23,
     "metadata": {},
     "output_type": "execute_result"
    }
   ],
   "source": [
    "df"
   ]
  },
  {
   "cell_type": "code",
   "execution_count": null,
   "id": "19189310-c974-4abb-b948-30a95d7440cf",
   "metadata": {},
   "outputs": [],
   "source": []
  }
 ],
 "metadata": {
  "kernelspec": {
   "display_name": "Python 3 (ipykernel)",
   "language": "python",
   "name": "python3"
  },
  "language_info": {
   "codemirror_mode": {
    "name": "ipython",
    "version": 3
   },
   "file_extension": ".py",
   "mimetype": "text/x-python",
   "name": "python",
   "nbconvert_exporter": "python",
   "pygments_lexer": "ipython3",
   "version": "3.10.8"
  }
 },
 "nbformat": 4,
 "nbformat_minor": 5
}
