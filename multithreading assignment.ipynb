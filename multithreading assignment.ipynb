{
 "cells": [
  {
   "cell_type": "markdown",
   "id": "51018059-a75a-4c90-90a4-367e37f2c586",
   "metadata": {},
   "source": [
    "#Q1 \n",
    "multithreading is a technique which enables multiple tasks to be executed simultaneously is known as multithreading or the ability of a processor to execute multiple threads simultaneously is known as multithreading. Multithreading is used as it provides better communication for more than one user at a time without requiring multiple copies of program running on the computer and multithreading provide faster context switching as the context switching time is less between two threads as compared to two processes. threading module is used to handle threads in python."
   ]
  },
  {
   "cell_type": "markdown",
   "id": "9906ba9c-05fb-401e-9781-aaaf40e72a2d",
   "metadata": {},
   "source": [
    "Q2 Threading module is used for controlling, creating and managing threads in python.\n",
    "activeCount() - It returns the number of threads which are active in python.\n",
    "currentThread() - It returns the reference to the currently executing thread object.\n",
    "enumerate() - it returns the list of all the thread class objects which are currently alive."
   ]
  },
  {
   "cell_type": "markdown",
   "id": "143af62b-c2f9-46a0-b50d-0ad642454583",
   "metadata": {},
   "source": [
    "Q3 \n",
    "run()- it is used to represent the threads activity. It executes any target funtion belonging to a given thread object that is now active.\n",
    "start()- it is used to start a thread's activity. this method calls the run() method internall which then executes the target method.\n",
    "join()- it allows one thread to wait until another thread completes its execution.\n",
    "isAlive()- it is used to check whether a thread is alive or not."
   ]
  },
  {
   "cell_type": "code",
   "execution_count": 9,
   "id": "f2931aa1-ab56-4187-a579-e005b80a7501",
   "metadata": {},
   "outputs": [
    {
     "name": "stdout",
     "output_type": "stream",
     "text": [
      "1\n",
      "4\n",
      "9\n",
      "16\n",
      "25\n",
      "36\n",
      "49\n",
      "64\n",
      "81\n",
      "100\n",
      "1\n",
      "8\n",
      "27\n",
      "64\n",
      "125\n",
      "216\n",
      "343\n",
      "512\n",
      "729\n",
      "1000\n"
     ]
    }
   ],
   "source": [
    "#Q4\n",
    "import threading\n",
    "def print_squares():\n",
    "    squares = [i**2 for i in range(1,11)]\n",
    "    for square in squares:\n",
    "        print(square)\n",
    "def print_cubes():\n",
    "    cubes = [i**3 for i in range(1,11)]\n",
    "    for cube in cubes:\n",
    "        print(cube)\n",
    "\n",
    "thread1 = threading.Thread(target = print_squares)\n",
    "thread2 = threading.Thread(target = print_cubes)\n",
    "\n",
    "thread1.start()\n",
    "thread2.start()\n",
    "thread1.join()\n",
    "thread2.join()"
   ]
  },
  {
   "cell_type": "markdown",
   "id": "aa879cd0-f8ae-4e09-b6d0-94a5ddd4a441",
   "metadata": {},
   "source": [
    "#Q5 \n",
    "advantages- \n",
    "responsiveness - Multithreading in an interactive application enables a program to continue running even if a section is blocked or executing a lengthy process, increasing user responsiveness.\n",
    "resource sharing- by default, threads share the memory and resources of the process they belong to.The advantage of sharing code and data is that it permits an app to execute multiple code threads in the same address spa\n",
    "minimized sysytem resource useage- Threads have a minimal influence on the system's resources. The overhead of creating, maintaining, and managing threads is lower than a general proces\n",
    "disadvantages - \n",
    "It can consume a large space of stocks of blocked threads.\n",
    "It needs support for thread or process.\n",
    "if a parent process has several threads for proper process functioning, the child processes should also be multithreaded because they may be required."
   ]
  },
  {
   "cell_type": "markdown",
   "id": "19c05f61-8f90-4c72-b3d9-6633f8f9d9ed",
   "metadata": {},
   "source": [
    "#Q6 \n",
    "a race condition is a failure case where the behaviour of the program is dependent upon the order of execution by two or more threads. a race condition occurs when two threads use the same variable as a given time,\n",
    "a deadlock is a failure case where a thread or threads wait for a condition that never occurs. the deadlock threads are unable to progress and the program is stuck and must be terminated forcefully."
   ]
  },
  {
   "cell_type": "code",
   "execution_count": null,
   "id": "7d1e79a8-9628-4592-896d-1e8cfe69f988",
   "metadata": {},
   "outputs": [],
   "source": []
  }
 ],
 "metadata": {
  "kernelspec": {
   "display_name": "Python 3 (ipykernel)",
   "language": "python",
   "name": "python3"
  },
  "language_info": {
   "codemirror_mode": {
    "name": "ipython",
    "version": 3
   },
   "file_extension": ".py",
   "mimetype": "text/x-python",
   "name": "python",
   "nbconvert_exporter": "python",
   "pygments_lexer": "ipython3",
   "version": "3.10.8"
  }
 },
 "nbformat": 4,
 "nbformat_minor": 5
}
