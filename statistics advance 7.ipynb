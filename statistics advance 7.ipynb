{
 "cells": [
  {
   "cell_type": "code",
   "execution_count": 5,
   "id": "ec99b0c9-28e2-42ff-a70d-f4f66051b7f8",
   "metadata": {},
   "outputs": [],
   "source": [
    "#Q1\n",
    "\n",
    "import numpy as np \n",
    "import scipy.stats as stats\n",
    "\n",
    "def variance_ratio_test(data1, dat2):\n",
    "    var1 = np.var(data1, ddof = 1)\n",
    "    var2 = np.var(data2, ddof = 1)\n",
    "    \n",
    "    f_value = var1/var2\n",
    "    \n",
    "    df1 = len(data1) - 1\n",
    "    df2 = len(data2) - 1\n",
    "    p_value = 1 - stats.f.cdf(f_value, df1, df2)\n",
    "    return f_value, p_value\n"
   ]
  },
  {
   "cell_type": "code",
   "execution_count": 6,
   "id": "bfdace7a-b773-4e86-93f9-42598e8ecb11",
   "metadata": {},
   "outputs": [
    {
     "name": "stdout",
     "output_type": "stream",
     "text": [
      "f_value: 0.8445945945945946\n",
      "p_value:0.5630373151203969\n"
     ]
    }
   ],
   "source": [
    "data1 = [15,20,25,30,35]\n",
    "data2 = [10,18,22,28,32]\n",
    "\n",
    "f_value, p_value = variance_ratio_test(data1, data2)\n",
    "print(f\"f_value: {f_value}\")\n",
    "print(f\"p_value:{p_value}\")"
   ]
  },
  {
   "cell_type": "code",
   "execution_count": 7,
   "id": "5a5d3c13-1dca-493d-b428-01fa72dd9861",
   "metadata": {},
   "outputs": [],
   "source": [
    "#Q2\n",
    "\n",
    "from scipy import stats\n",
    "\n",
    "def get_critical_f_value(alpha, dfn, dfd):\n",
    "    upper_critical_f_value = stats.f.ppf(1 - alpha / 2, dfn, dfd)\n",
    "    lower_critical_f_value = stats.f.ppf(alpha / 2, dfn, dfd)\n",
    "    return lower_critical_f_value, upper_critical_f_value"
   ]
  },
  {
   "cell_type": "code",
   "execution_count": 8,
   "id": "8b1f1784-a2ae-429d-8d2b-fe3ba0be3f93",
   "metadata": {},
   "outputs": [
    {
     "name": "stdout",
     "output_type": "stream",
     "text": [
      "Lower Critical F-value: 0.07058467426541322\n",
      "Upper Critical F-value: 3.8586986662732143\n"
     ]
    }
   ],
   "source": [
    "alpha = 0.05\n",
    "dfn = 3  \n",
    "dfd = 20 \n",
    "\n",
    "lower_critical_f, upper_critical_f = get_critical_f_value(alpha, dfn, dfd)\n",
    "\n",
    "print(f\"Lower Critical F-value: {lower_critical_f}\")\n",
    "print(f\"Upper Critical F-value: {upper_critical_f}\")"
   ]
  },
  {
   "cell_type": "code",
   "execution_count": 9,
   "id": "0694bbcd-fa3d-44d1-9294-e34f879d6cdc",
   "metadata": {},
   "outputs": [
    {
     "name": "stdout",
     "output_type": "stream",
     "text": [
      "F-statistic: 0.97\n",
      "Degrees of freedom 1: 29\n",
      "Degrees of freedom 2: 29\n",
      "P-value: 0.9257\n",
      "Fail to reject the null hypothesis: Variances are equal.\n"
     ]
    }
   ],
   "source": [
    "#Q3\n",
    "\n",
    "import numpy as np\n",
    "from scipy import stats\n",
    "\n",
    "\n",
    "np.random.seed(0)\n",
    "\n",
    "\n",
    "sample_size1 = 30  \n",
    "sample_size2 = 30  \n",
    "\n",
    "variance1 = 10.0  \n",
    "variance2 = 15.0  \n",
    "\n",
    "data1 = np.random.normal(0, np.sqrt(variance1), sample_size1)\n",
    "data2 = np.random.normal(0, np.sqrt(variance2), sample_size2)\n",
    "\n",
    "\n",
    "f_statistic = np.var(data1, ddof=1) / np.var(data2, ddof=1)\n",
    "df1 = sample_size1 - 1\n",
    "df2 = sample_size2 - 1\n",
    "p_value = 2 * min(stats.f.cdf(f_statistic, df1, df2), 1 - stats.f.cdf(f_statistic, df1, df2))\n",
    "\n",
    "\n",
    "print(f\"F-statistic: {f_statistic:.2f}\")\n",
    "print(f\"Degrees of freedom 1: {df1}\")\n",
    "print(f\"Degrees of freedom 2: {df2}\")\n",
    "print(f\"P-value: {p_value:.4f}\")\n",
    "\n",
    "\n",
    "alpha = 0.05\n",
    "if p_value < alpha:\n",
    "    print(\"Reject the null hypothesis: Variances are not equal.\")\n",
    "else:\n",
    "    print(\"Fail to reject the null hypothesis: Variances are equal.\")\n"
   ]
  },
  {
   "cell_type": "code",
   "execution_count": 10,
   "id": "68b0e10a-8155-4ca5-bdad-d6a7a8281292",
   "metadata": {},
   "outputs": [
    {
     "name": "stdout",
     "output_type": "stream",
     "text": [
      "Fail to reject the null hypothesis: Variances are not significantly different.\n",
      "F-statistic: 0.67\n",
      "Degrees of freedom 1: 11\n",
      "Degrees of freedom 2: 11\n",
      "P-value: 0.5124\n"
     ]
    }
   ],
   "source": [
    "#Q4\n",
    "\n",
    "from scipy import stats\n",
    "\n",
    "# Known population variances\n",
    "variance1 = 10\n",
    "variance2 = 15\n",
    "\n",
    "# Sample sizes\n",
    "n1 = 12\n",
    "n2 = 12\n",
    "\n",
    "# Calculate the F-statistic\n",
    "f_statistic = variance1 / variance2\n",
    "\n",
    "# Degrees of freedom\n",
    "df1 = n1 - 1\n",
    "df2 = n2 - 1\n",
    "\n",
    "# Calculate the p-value for a two-tailed test\n",
    "p_value = 2 * min(stats.f.cdf(f_statistic, df1, df2), 1 - stats.f.cdf(f_statistic, df1, df2))\n",
    "\n",
    "# Significance level\n",
    "alpha = 0.05\n",
    "\n",
    "# Determine if the variances are significantly different\n",
    "if p_value < alpha:\n",
    "    print(\"Reject the null hypothesis: Variances are significantly different.\")\n",
    "else:\n",
    "    print(\"Fail to reject the null hypothesis: Variances are not significantly different.\")\n",
    "\n",
    "# Print the results\n",
    "print(f\"F-statistic: {f_statistic:.2f}\")\n",
    "print(f\"Degrees of freedom 1: {df1}\")\n",
    "print(f\"Degrees of freedom 2: {df2}\")\n",
    "print(f\"P-value: {p_value:.4f}\")\n"
   ]
  },
  {
   "cell_type": "code",
   "execution_count": 11,
   "id": "b75d9dbd-8457-4d74-9eb9-c9a2984b314f",
   "metadata": {},
   "outputs": [
    {
     "name": "stdout",
     "output_type": "stream",
     "text": [
      "Fail to reject the null hypothesis: The sample variance is not significantly different from the claimed population variance.\n",
      "F-statistic: 1.2000\n",
      "Degrees of freedom 1: 24\n",
      "Degrees of freedom 2: 1\n",
      "P-value: 0.7408\n"
     ]
    }
   ],
   "source": [
    "#Q5\n",
    "\n",
    "from scipy import stats\n",
    "\n",
    "# Claimed population variance by the manufacturer\n",
    "claimed_variance = 0.005\n",
    "\n",
    "# Sample variance\n",
    "sample_variance = 0.006\n",
    "\n",
    "# Sample size\n",
    "n = 25\n",
    "\n",
    "# Calculate the F-statistic\n",
    "f_statistic = sample_variance / claimed_variance\n",
    "\n",
    "# Degrees of freedom\n",
    "df1 = n - 1  # Degrees of freedom for the sample variance\n",
    "df2 = 1  # Degrees of freedom for the claimed population variance\n",
    "\n",
    "# Calculate the p-value for a two-tailed test\n",
    "p_value = 2 * min(stats.f.cdf(f_statistic, df1, df2), 1 - stats.f.cdf(f_statistic, df1, df2))\n",
    "\n",
    "# Significance level\n",
    "alpha = 0.01  # 1% significance level\n",
    "\n",
    "# Determine if the claim is justified\n",
    "if p_value < alpha:\n",
    "    print(\"Reject the null hypothesis: The sample variance is significantly different from the claimed population variance.\")\n",
    "else:\n",
    "    print(\"Fail to reject the null hypothesis: The sample variance is not significantly different from the claimed population variance.\")\n",
    "\n",
    "# Print the results\n",
    "print(f\"F-statistic: {f_statistic:.4f}\")\n",
    "print(f\"Degrees of freedom 1: {df1}\")\n",
    "print(f\"Degrees of freedom 2: {df2}\")\n",
    "print(f\"P-value: {p_value:.4f}\")\n"
   ]
  },
  {
   "cell_type": "code",
   "execution_count": 12,
   "id": "cbc3d4f8-3b91-48ca-8547-b022e02a8a1e",
   "metadata": {},
   "outputs": [],
   "source": [
    "#Q6\n",
    "\n",
    "def calculate_f_distribution_mean_and_variance(dfn, dfd):\n",
    "    \n",
    "    mean = dfd / (dfd - 2) if dfd > 2 else float('inf')\n",
    "\n",
    "    if dfd > 4:\n",
    "        variance = (2 * (dfd ** 2) * (dfn + dfd - 2)) / (dfn * (dfd - 2) ** 2 * (dfd - 4))\n",
    "    else:\n",
    "        variance = float('inf')\n",
    "\n",
    "    return mean, variance\n"
   ]
  },
  {
   "cell_type": "code",
   "execution_count": 13,
   "id": "e5084976-a351-4c87-9cf4-caceec52d850",
   "metadata": {},
   "outputs": [
    {
     "name": "stdout",
     "output_type": "stream",
     "text": [
      "Mean of the F-distribution: 1.1111\n",
      "Variance of the F-distribution: 1.0802\n"
     ]
    }
   ],
   "source": [
    "dfn = 3\n",
    "dfd = 20\n",
    "\n",
    "mean, variance = calculate_f_distribution_mean_and_variance(dfn, dfd)\n",
    "print(f\"Mean of the F-distribution: {mean:.4f}\")\n",
    "print(f\"Variance of the F-distribution: {variance:.4f}\")"
   ]
  },
  {
   "cell_type": "code",
   "execution_count": 14,
   "id": "1f55477f-804f-4cee-ad70-5a92e9b5da78",
   "metadata": {},
   "outputs": [
    {
     "name": "stdout",
     "output_type": "stream",
     "text": [
      "Fail to reject the null hypothesis: The variances are not significantly different.\n",
      "F-statistic: 1.2500\n",
      "Degrees of freedom 1: 9\n",
      "Degrees of freedom 2: 14\n",
      "P-value: 0.6832\n"
     ]
    }
   ],
   "source": [
    "#Q7\n",
    "\n",
    "from scipy import stats\n",
    "\n",
    "# Sample variances\n",
    "sample_variance1 = 25\n",
    "sample_variance2 = 20\n",
    "\n",
    "# Sample sizes\n",
    "n1 = 10\n",
    "n2 = 15\n",
    "\n",
    "# Calculate the F-statistic\n",
    "f_statistic = sample_variance1 / sample_variance2\n",
    "\n",
    "# Degrees of freedom\n",
    "df1 = n1 - 1  # Degrees of freedom for the first sample variance\n",
    "df2 = n2 - 1  # Degrees of freedom for the second sample variance\n",
    "\n",
    "# Calculate the p-value for a two-tailed test\n",
    "p_value = 2 * min(stats.f.cdf(f_statistic, df1, df2), 1 - stats.f.cdf(f_statistic, df1, df2))\n",
    "\n",
    "# Significance level\n",
    "alpha = 0.10  # 10% significance level\n",
    "\n",
    "# Determine if the variances are significantly different\n",
    "if p_value < alpha:\n",
    "    print(\"Reject the null hypothesis: The variances are significantly different.\")\n",
    "else:\n",
    "    print(\"Fail to reject the null hypothesis: The variances are not significantly different.\")\n",
    "\n",
    "# Print the results\n",
    "print(f\"F-statistic: {f_statistic:.4f}\")\n",
    "print(f\"Degrees of freedom 1: {df1}\")\n",
    "print(f\"Degrees of freedom 2: {df2}\")\n",
    "print(f\"P-value: {p_value:.4f}\")\n"
   ]
  },
  {
   "cell_type": "code",
   "execution_count": 15,
   "id": "85cd108c-f9b0-4291-a73a-31e5384f9e20",
   "metadata": {},
   "outputs": [
    {
     "name": "stdout",
     "output_type": "stream",
     "text": [
      "Fail to reject the null hypothesis: The variances are not significantly different.\n",
      "F-statistic: 1.4552\n",
      "Degrees of freedom 1: 6\n",
      "Degrees of freedom 2: 5\n",
      "P-value: 0.6975\n"
     ]
    }
   ],
   "source": [
    "#Q8\n",
    "\n",
    "from scipy import stats\n",
    "\n",
    "# Waiting times data for Restaurant A and Restaurant B\n",
    "data_A = [24, 25, 28, 23, 22, 20, 27]\n",
    "data_B = [31, 33, 35, 30, 32, 36]\n",
    "\n",
    "# Sample variances\n",
    "sample_variance_A = sum((x - sum(data_A) / len(data_A)) ** 2 for x in data_A) / (len(data_A) - 1)\n",
    "sample_variance_B = sum((x - sum(data_B) / len(data_B)) ** 2 for x in data_B) / (len(data_B) - 1)\n",
    "\n",
    "# Calculate the F-statistic\n",
    "f_statistic = sample_variance_A / sample_variance_B\n",
    "\n",
    "# Degrees of freedom\n",
    "df1 = len(data_A) - 1  # Degrees of freedom for Restaurant A\n",
    "df2 = len(data_B) - 1  # Degrees of freedom for Restaurant B\n",
    "\n",
    "# Calculate the p-value for a two-tailed test\n",
    "p_value = 2 * min(stats.f.cdf(f_statistic, df1, df2), 1 - stats.f.cdf(f_statistic, df1, df2))\n",
    "\n",
    "# Significance level\n",
    "alpha = 0.05  # 5% significance level\n",
    "\n",
    "# Determine if the variances are significantly different\n",
    "if p_value < alpha:\n",
    "    print(\"Reject the null hypothesis: The variances are significantly different.\")\n",
    "else:\n",
    "    print(\"Fail to reject the null hypothesis: The variances are not significantly different.\")\n",
    "\n",
    "# Print the results\n",
    "print(f\"F-statistic: {f_statistic:.4f}\")\n",
    "print(f\"Degrees of freedom 1: {df1}\")\n",
    "print(f\"Degrees of freedom 2: {df2}\")\n",
    "print(f\"P-value: {p_value:.4f}\")\n",
    "\n"
   ]
  },
  {
   "cell_type": "code",
   "execution_count": 16,
   "id": "1c248077-c824-435e-b1d5-2a4d0bc14fe2",
   "metadata": {},
   "outputs": [
    {
     "name": "stdout",
     "output_type": "stream",
     "text": [
      "Fail to reject the null hypothesis: The variances are not significantly different.\n",
      "F-statistic: 1.9443\n",
      "Degrees of freedom 1: 5\n",
      "Degrees of freedom 2: 5\n",
      "P-value: 0.4831\n"
     ]
    }
   ],
   "source": [
    "#Q9\n",
    "\n",
    "from scipy import stats\n",
    "\n",
    "# Test scores data for Group A and Group B\n",
    "data_A = [80, 85, 90, 92, 87, 83]\n",
    "data_B = [75, 78, 82, 79, 81, 84]\n",
    "\n",
    "# Sample variances\n",
    "sample_variance_A = sum((x - sum(data_A) / len(data_A)) ** 2 for x in data_A) / (len(data_A) - 1)\n",
    "sample_variance_B = sum((x - sum(data_B) / len(data_B)) ** 2 for x in data_B) / (len(data_B) - 1)\n",
    "\n",
    "# Calculate the F-statistic\n",
    "f_statistic = sample_variance_A / sample_variance_B\n",
    "\n",
    "# Degrees of freedom\n",
    "df1 = len(data_A) - 1  # Degrees of freedom for Group A\n",
    "df2 = len(data_B) - 1  # Degrees of freedom for Group B\n",
    "\n",
    "# Calculate the p-value for a two-tailed test\n",
    "p_value = 2 * min(stats.f.cdf(f_statistic, df1, df2), 1 - stats.f.cdf(f_statistic, df1, df2))\n",
    "\n",
    "# Significance level\n",
    "alpha = 0.01  # 1% significance level\n",
    "\n",
    "# Determine if the variances are significantly different\n",
    "if p_value < alpha:\n",
    "    print(\"Reject the null hypothesis: The variances are significantly different.\")\n",
    "else:\n",
    "    print(\"Fail to reject the null hypothesis: The variances are not significantly different.\")\n",
    "\n",
    "# Print the results\n",
    "print(f\"F-statistic: {f_statistic:.4f}\")\n",
    "print(f\"Degrees of freedom 1: {df1}\")\n",
    "print(f\"Degrees of freedom 2: {df2}\")\n",
    "print(f\"P-value: {p_value:.4f}\")\n"
   ]
  },
  {
   "cell_type": "code",
   "execution_count": null,
   "id": "ee9a0c14-0d8f-4495-a2a9-b9f7d2604e51",
   "metadata": {},
   "outputs": [],
   "source": []
  }
 ],
 "metadata": {
  "kernelspec": {
   "display_name": "Python 3 (ipykernel)",
   "language": "python",
   "name": "python3"
  },
  "language_info": {
   "codemirror_mode": {
    "name": "ipython",
    "version": 3
   },
   "file_extension": ".py",
   "mimetype": "text/x-python",
   "name": "python",
   "nbconvert_exporter": "python",
   "pygments_lexer": "ipython3",
   "version": "3.10.8"
  }
 },
 "nbformat": 4,
 "nbformat_minor": 5
}
