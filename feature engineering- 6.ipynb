{
 "cells": [
  {
   "cell_type": "markdown",
   "id": "cce98997-37ee-4a23-9561-fd99d2db2d10",
   "metadata": {},
   "source": [
    "#Q1\n",
    "\n",
    "To calculate the Pearson correlation coefficient (also known as Pearson's r) between the amount of time students spend studying for an exam and their final exam scores, you'll need the following information:\n",
    "\n",
    "1. A dataset of paired values for each student, where one value represents the amount of time spent studying and the other represents the final exam score.\n",
    "\n",
    "2. The means (average) of the time spent studying and the final exam scores.\n",
    "\n",
    "3. The standard deviations of the time spent studying and the final exam scores.\n",
    "\n",
    "4. The number of data points (students) in your dataset.\n",
    "\n",
    "Once you have these values, you can use the following formula to calculate Pearson's r:\n",
    "\n",
    "\\[ r = \\frac{\\sum{(X_i - \\bar{X})(Y_i - \\bar{Y})}}{\\sqrt{\\sum{(X_i - \\bar{X})^2}\\sum{(Y_i - \\bar{Y})^2}}}\\]\n",
    "\n",
    "Where:\n",
    "- \\(X_i\\) and \\(Y_i\\) are the individual data points (amount of time studying and exam scores, respectively).\n",
    "- \\(\\bar{X}\\) and \\(\\bar{Y}\\) are the means of the amount of time spent studying and the final exam scores.\n",
    "- The summations are taken over all data points in your dataset.\n",
    "\n",
    "Interpretation of the result:\n",
    "- If the Pearson correlation coefficient (r) is close to 1, it indicates a strong positive linear relationship. This means that as the amount of time students spend studying increases, their final exam scores tend to increase as well. In other words, more study time is associated with higher exam scores.\n",
    "\n",
    "- If r is close to -1, it indicates a strong negative linear relationship. This implies that as the amount of time spent studying increases, final exam scores tend to decrease. In this scenario, more study time is associated with lower exam scores.\n",
    "\n",
    "- If r is close to 0, it suggests a weak or no linear relationship. This means that there is no clear linear association between the amount of time spent studying and the final exam scores.\n",
    "\n",
    "It's important to note that correlation does not imply causation. A strong correlation does not prove that studying more causes higher exam scores; it only shows that there is a statistical relationship between the two variables.\n",
    "\n",
    "To make a more robust interpretation, you should also consider the context, study design, and other factors that might be influencing the results."
   ]
  },
  {
   "cell_type": "code",
   "execution_count": 3,
   "id": "58fb9952-8c16-48c2-b182-1e79a0ebb3b1",
   "metadata": {},
   "outputs": [
    {
     "name": "stdout",
     "output_type": "stream",
     "text": [
      "pearson Correlation Cofficientr: 1.0\n",
      "P_value:0.0\n",
      "there is a positive linear relationship between time spent studying and exam scores.\n"
     ]
    }
   ],
   "source": [
    "import numpy as np\n",
    "from scipy import stats\n",
    "\n",
    "time_studied = [10,20,30,40,50]\n",
    "exam_scores = [60,70,80,90,100]\n",
    "\n",
    "correlation_coefficient, p_value = stats.pearsonr(time_studied, exam_scores)\n",
    "\n",
    "if correlation_coefficient > 0:\n",
    "    interpretation = \"there is a positive linear relationship between time spent studying and exam scores.\"\n",
    "elif correlation_coefficient < 0:\n",
    "    interpretation = \"There is a negative linear relationship between time spent studying and exam scores\"\n",
    "else:\n",
    "    interpretation = \"There is no linear relationship between time spent studying and exam scores.\"\n",
    "print(f\"pearson Correlation Cofficientr: {correlation_coefficient}\")\n",
    "print(f\"P_value:{p_value}\")\n",
    "print(interpretation)"
   ]
  },
  {
   "cell_type": "code",
   "execution_count": 1,
   "id": "ef5d7f2f-145c-4763-a1b9-ec9efbcd3290",
   "metadata": {},
   "outputs": [
    {
     "name": "stdout",
     "output_type": "stream",
     "text": [
      "Spearman's Rank Correlation : 0.8476574910073985\n",
      "P_value :0.0019524334957064622\n",
      "There is a positive monotonic relationship between the amount of sleep and job satisfaction.\n"
     ]
    }
   ],
   "source": [
    "#Q2\n",
    "\n",
    "from scipy import stats\n",
    "\n",
    "sleep = [7,6,8,6,7,8,6,5,9,7]\n",
    "job_satisfaction = [6,7,9,6,7,8,5,4,9,6]\n",
    "\n",
    "correlation_coefficient, p_value = stats.spearmanr(sleep, job_satisfaction)\n",
    "\n",
    "if correlation_coefficient > 0 :\n",
    "    interpretation = \"There is a positive monotonic relationship between the amount of sleep and job satisfaction.\"\n",
    "elif correlation_coefficient < 0:\n",
    "    interpretation = \"There is a negative monotonic relationship between the amount of sleep and job satisfaction.\"\n",
    "else:\n",
    "    interpretation = \"There is no monotonic relationship between the amount of sleep and job satisfaction.\"\n",
    "print(f\"Spearman's Rank Correlation : {correlation_coefficient}\")\n",
    "print(f\"P_value :{p_value}\")\n",
    "print(interpretation)\n",
    "    "
   ]
  },
  {
   "cell_type": "code",
   "execution_count": 4,
   "id": "f8cb53b4-17a8-4eed-9161-bac49c0fd176",
   "metadata": {},
   "outputs": [
    {
     "name": "stdout",
     "output_type": "stream",
     "text": [
      "pearson correlation coefficient: 0.9501743691866473\n",
      "pearson correlation P-value: 1.9574732055341274e-25\n",
      "Interpretation (pearson): There is a positive linear relationship between exercise hours and BMI.\n",
      "\n",
      "Spearman's Rank Correlation: 0.9538844821623907\n",
      "Spearman's Rank Correlation P-Value: 3.3093470761906774e-26\n",
      "Interpretation (Spearman): There is a positive monotonic relationship between exercise hours and BMI.\n"
     ]
    }
   ],
   "source": [
    "#Q3\n",
    "\n",
    "import numpy as np\n",
    "from scipy import stats\n",
    "\n",
    "exercise_hours = [3, 5, 7, 4, 6, 2, 1, 3, 5, 6, 2, 4, 7, 1, 3, 2, 6, 5, 4, 1, 7, 2, 3, 5, 4, 6, 1, 2, 4, 5, 7, 3, 6, 2, 1, 7, 4, 5, 2, 3, 1, 6, 5, 4, 7, 2, 3, 1, 5]\n",
    "bmi = [25, 27, 29, 28, 30, 24, 22, 26, 27, 29, 23, 28, 31, 22, 26, 24, 30, 28, 27, 22, 31, 23, 26, 28, 29, 30, 21, 23, 27, 28, 31, 25, 30, 23, 21, 30, 28, 27, 22, 26, 24, 32, 29, 28, 31, 24, 26, 22, 28]\n",
    "\n",
    "pearson_corr, pearson_p_value = stats.pearsonr(exercise_hours, bmi)\n",
    "spearman_corr, spearman_p_value = stats.spearmanr(exercise_hours, bmi)\n",
    "\n",
    "print(f\"pearson correlation coefficient: {pearson_corr}\")\n",
    "print(f\"pearson correlation P-value: {pearson_p_value}\")\n",
    "if pearson_corr > 0:\n",
    "    print(\"Interpretation (pearson): There is a positive linear relationship between exercise hours and BMI.\")\n",
    "elif pearson_corr < 0:\n",
    "    print(\"Interpretation (pearson): There is a negative linear relationship between exercise hours and BMI\")\n",
    "else :\n",
    "    print(\"Interpretation (Pearson): There is no linear relationship between exercise hours and BMI.\")\n",
    "    \n",
    "print(f\"\\nSpearman's Rank Correlation: {spearman_corr}\")\n",
    "print(f\"Spearman's Rank Correlation P-Value: {spearman_p_value}\")\n",
    "if spearman_corr > 0:\n",
    "    print(\"Interpretation (Spearman): There is a positive monotonic relationship between exercise hours and BMI.\")\n",
    "elif spearman_corr < 0:\n",
    "    print(\"Interpretation (Spearman): There is a negative monotonic relationship between exercise hours and BMI.\")\n",
    "else:\n",
    "    print(\"Interpretation (Spearman): There is no monotonic relationship between exercise hours and BMI.\")  "
   ]
  },
  {
   "cell_type": "code",
   "execution_count": 7,
   "id": "2adb4bb3-ce8a-489e-8b72-05f5c0f947fc",
   "metadata": {},
   "outputs": [
    {
     "name": "stdout",
     "output_type": "stream",
     "text": [
      "Pearson Correlation Coefficient: -0.0339545881932681\n",
      "P-Value: 0.8149151535987661\n",
      "There is a negative linear relationship between the number of hours watching TV and the level of physical activity.\n"
     ]
    }
   ],
   "source": [
    "import random\n",
    "\n",
    "# Generate example data for hours of TV watching and level of physical activity\n",
    "tv_hours = [random.uniform(0, 5) for _ in range(50)]  # Random values between 0 and 5\n",
    "physical_activity = [random.uniform(1, 10) for _ in range(50)]  # Random values between 1 and 10\n",
    "\n",
    "# Calculate the Pearson correlation coefficient\n",
    "correlation_coefficient, p_value = stats.pearsonr(tv_hours, physical_activity)\n",
    "\n",
    "# Interpret the result\n",
    "if correlation_coefficient > 0:\n",
    "    interpretation = \"There is a positive linear relationship between the number of hours watching TV and the level of physical activity.\"\n",
    "elif correlation_coefficient < 0:\n",
    "    interpretation = \"There is a negative linear relationship between the number of hours watching TV and the level of physical activity.\"\n",
    "else:\n",
    "    interpretation = \"There is no linear relationship between the number of hours watching TV and the level of physical activity.\"\n",
    "\n",
    "print(f\"Pearson Correlation Coefficient: {correlation_coefficient}\")\n",
    "print(f\"P-Value: {p_value}\")\n",
    "print(interpretation)\n"
   ]
  },
  {
   "cell_type": "markdown",
   "id": "dc477717-9c47-44e8-a941-43c0d6924d46",
   "metadata": {},
   "source": [
    "#Q5\n",
    "\n",
    "It seems you've provided a limited dataset showing the ages and soft drink preferences of a few individuals. To examine the relationship between age and preference for a particular brand of soft drink, you would typically need a larger dataset with a more diverse sample of individuals. The dataset you've given includes only a few observations, making it challenging to draw meaningful conclusions about the relationship between age and soft drink preference.\n",
    "\n",
    "To analyze the relationship between age and soft drink preference, you would typically perform statistical tests or analyses on a more extensive dataset. Common methods might include calculating summary statistics, conducting surveys on a larger sample, and using statistical tests to determine if there's a significant relationship between age and soft drink preference.\n",
    "\n",
    "If you have a larger dataset and specific questions or analysis you'd like to perform, please provide more information, and I'd be happy to help you further."
   ]
  },
  {
   "cell_type": "code",
   "execution_count": 8,
   "id": "73f1c35b-7812-4f85-8b39-5332515d4e7f",
   "metadata": {},
   "outputs": [
    {
     "name": "stdout",
     "output_type": "stream",
     "text": [
      "Pearson Correlation Coefficient: 0.9328437458536273\n",
      "P-Value: 6.144764137473217e-14\n",
      "There is a positive linear relationship between the number of sales calls made per day and the number of sales made per week.\n"
     ]
    }
   ],
   "source": [
    "#Q6\n",
    "\n",
    "from scipy import stats\n",
    "\n",
    "# Example data for sales calls per day and sales per week\n",
    "sales_calls_per_day = [10, 15, 12, 8, 14, 11, 9, 13, 16, 12, 10, 15, 14, 12, 9, 11, 8, 13, 16, 10, 15, 12, 8, 14, 11, 9, 13, 16, 12, 10]\n",
    "sales_per_week = [25, 30, 28, 22, 29, 27, 23, 26, 31, 28, 26, 32, 30, 28, 24, 27, 23, 26, 31, 25, 30, 28, 22, 29, 27, 23, 26, 31, 28, 26]\n",
    "\n",
    "# Calculate the Pearson correlation coefficient\n",
    "correlation_coefficient, p_value = stats.pearsonr(sales_calls_per_day, sales_per_week)\n",
    "\n",
    "# Interpret the result\n",
    "if correlation_coefficient > 0:\n",
    "    interpretation = \"There is a positive linear relationship between the number of sales calls made per day and the number of sales made per week.\"\n",
    "elif correlation_coefficient < 0:\n",
    "    interpretation = \"There is a negative linear relationship between the number of sales calls made per day and the number of sales made per week.\"\n",
    "else:\n",
    "    interpretation = \"There is no linear relationship between the number of sales calls made per day and the number of sales made per week.\"\n",
    "\n",
    "print(f\"Pearson Correlation Coefficient: {correlation_coefficient}\")\n",
    "print(f\"P-Value: {p_value}\")\n",
    "print(interpretation)\n"
   ]
  },
  {
   "cell_type": "code",
   "execution_count": null,
   "id": "4ab81f5e-2348-4739-9bf7-977e3440bc9a",
   "metadata": {},
   "outputs": [],
   "source": []
  }
 ],
 "metadata": {
  "kernelspec": {
   "display_name": "Python 3 (ipykernel)",
   "language": "python",
   "name": "python3"
  },
  "language_info": {
   "codemirror_mode": {
    "name": "ipython",
    "version": 3
   },
   "file_extension": ".py",
   "mimetype": "text/x-python",
   "name": "python",
   "nbconvert_exporter": "python",
   "pygments_lexer": "ipython3",
   "version": "3.10.8"
  }
 },
 "nbformat": 4,
 "nbformat_minor": 5
}
