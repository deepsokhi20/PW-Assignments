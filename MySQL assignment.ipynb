{
 "cells": [
  {
   "cell_type": "markdown",
   "id": "0788bc27-cd07-4607-a75f-df2492807d42",
   "metadata": {},
   "source": [
    "#Q1 \n",
    "A database is organized collection data, so that it can be easily accessed and managed. You can organize data into tables, rows, columns and index it to make it easier to find relevant information. The main purpose of database is to operate a large amount of information by storing, retrieving and managing data.\n",
    "\n",
    "SQL databases are called Relational Databases and NoSQL databases are called non- relational or distributed databases.\n",
    "\n",
    "SQL databases define and manipulate data-based structured query language(SQL). Seeing from a side this language is extremely powerful. SQL is one of the widely- used options available which makes it a safe choice, especially for great complex queries. But from another side, it can be restrictive. SQL requires you to use pedefined schemas to determine the structure of your data before you work with it. Also, all of your data must follow the same structure. this can requiree significant up-front prepration which means that a change in the structure would be both difficult diruptive to your whole system.It is not suited for hierarchical data storage. it is good for complex queries\n",
    "\n",
    "A NoSQL database has a dynamic schema for unstructured data.  Data is stored in many ways which means it can be document-oriented, column-oriented, graph-based, or organized as a key-value store. this flexibility means that documents can be ceated without having a defined structure first. Also each document can have its own unique structure. the syntax varies from database to database, and you can add fields as you go. it is used for hierarchical data storage. It is not good for complex queries."
   ]
  },
  {
   "cell_type": "code",
   "execution_count": null,
   "id": "fb5bc1d0-8dc3-45a4-a437-77021c6bff05",
   "metadata": {},
   "outputs": [],
   "source": [
    "#Q2\n",
    "Data Definition Language(DDL) is a subset of SQL and a part of DBMS(Database Management System). DDL consist of Commands to commands like CREATE, ALTER, TRUNCATE and DROP. These commands are used to create or modify the tables in SQL.\n",
    "1. CREATE- this command is used to create a new table in SQL. the user has to give information like table name, column name and thier datatypes.\n",
    "#example\n",
    "CREATE TABLE Student_info\n",
    "(\n",
    "college_id number(2),\n",
    "College_name varchar(30),\n",
    "Branch varchar(10),\n",
    ");\n",
    "\n",
    "2.ALTER - this command is used to add, delete or change columns in the existing table. the user needs to know the exixting table name and can do add, delete or modify tasks easily.\n",
    "#example\n",
    "ALTER TABLE Student_info\n",
    "ADD CGPA number;\n",
    "\n",
    "3. TRUNCATE - This command is used to remove all rows from the table, but the structure of the table still exixts\n",
    "#example \n",
    "TRUNCATE TABLE Student_info;\n",
    "\n",
    "4. DROP- This command is used to remove an exixting table among table along with its structure from the database.\n",
    "#example\n",
    "DROP TABLE Student_info;\n",
    "\n",
    "5. RENAME- it is possible to change name of table with or without data in igt using simple RENAME command. we can rename any table object at any point of time.\n",
    "#example\n",
    "RENAME TABLE Employee To EMP;"
   ]
  },
  {
   "cell_type": "code",
   "execution_count": null,
   "id": "1845df82-08d6-472c-bace-d7c6d6e773fb",
   "metadata": {},
   "outputs": [],
   "source": [
    "#Q3\n",
    " The structured query language commands deal with the manipulation of data present in the database that belons to the data manipulation language(DML). \n",
    "SELECT - Retrieve data from the database.\n",
    "#example\n",
    "SELECT * from Employee;\n",
    "\n",
    "INSERT - Insert data into a table.\n",
    "#example \n",
    "Insert into Employee(Emp_id, Emp_name) values (001, \"Ironman\");\n",
    "Insert into Employee(Emp_id, Emp_name) values (002, \"Captain America\");\n",
    "Insert into Employee(Emp_id, Emp_name) values (003, \"Thor Odinson\");\n",
    "\n",
    "UPDATE - Update existing data within a table\n",
    "#example\n",
    "UPDATE Employee SET Emp_name= Thanos WHERE Emp_id = 001;\n",
    "\n",
    "DELETE - Delete records from database table.\n",
    "#example \n",
    "DELETE from Employee WHERE Emp_id= 001;"
   ]
  },
  {
   "cell_type": "markdown",
   "id": "5030d4f3-9486-49d9-80af-fd5be25a947b",
   "metadata": {},
   "source": [
    "#Q4\n",
    "DQL's full form is  Data Query Language. it is used for performing queries on data within schema objects. DQL is the component of SQL statement that allows getting data from the database and imposing order upon it. it includes the SELECT statement . this command allows getting the data out of the database to perform operations with it. When a SELECT is fired against the table or tables the result is compiled into a further temporary table, which is displayed or perhaps received by the program\n",
    "#example\n",
    "SELECT * from Employee"
   ]
  },
  {
   "cell_type": "markdown",
   "id": "0d534327-298e-4181-a5c9-d2d2eec3f4ad",
   "metadata": {},
   "source": [
    "#Q5\n",
    "A primary key is used to ensure that data in the specific column is unique. A column cannot have null values. it is either an existing table column or a column that is specifically generated by the database according to a defined sequence.\n",
    "A foreign key is a column or group of columns in a relational database table that provides a link between data in two tables. it is a column that references a column, most often the foreign key of another table."
   ]
  },
  {
   "cell_type": "code",
   "execution_count": null,
   "id": "1e454a0b-ce07-4d77-a0b1-144afae9f722",
   "metadata": {},
   "outputs": [],
   "source": [
    "#Q6\n",
    "import mysql.connector\n",
    "\n",
    "mydb = mysql.connector.connect(\n",
    "    host = 'localhost',\n",
    "    user = 'abc',\n",
    "    password = 'password'\n",
    ")\n",
    "mycursor = mydb.cursor()\n",
    "\n",
    "\n",
    "cursor() - A cursor in SQL is a database object stored in temporary memory and used to work in datasets. You can use cursors to manipulate data in a database, one row at a time. A cursor uses a SQL SELECT statement to fetch a rowset from a database and then read and manipulate one row at a time.\n",
    "\n",
    "execute() - This method accepts a MySQL query as parameter and executes the given query."
   ]
  },
  {
   "cell_type": "code",
   "execution_count": null,
   "id": "986600a1-45d2-4b70-af6a-a193d2e79981",
   "metadata": {},
   "outputs": [],
   "source": []
  }
 ],
 "metadata": {
  "kernelspec": {
   "display_name": "Python 3 (ipykernel)",
   "language": "python",
   "name": "python3"
  },
  "language_info": {
   "codemirror_mode": {
    "name": "ipython",
    "version": 3
   },
   "file_extension": ".py",
   "mimetype": "text/x-python",
   "name": "python",
   "nbconvert_exporter": "python",
   "pygments_lexer": "ipython3",
   "version": "3.10.8"
  }
 },
 "nbformat": 4,
 "nbformat_minor": 5
}
