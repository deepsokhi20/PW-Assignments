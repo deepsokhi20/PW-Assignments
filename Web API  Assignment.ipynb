{
 "cells": [
  {
   "cell_type": "markdown",
   "id": "776c96ee-3a0a-4ea6-8794-45a65a6b2496",
   "metadata": {},
   "source": [
    "#Q1\n",
    "API is an abbreviation for Application Programming Interface which is a collection of communication protocols and subroutines used by various programs to communicate between them. A programmer can make use of various API tools to make their program easier and simpler. Also, an API facilitates programmers with an efficient way to develop their software programs. Thus in simpler terms, an API helps two programs or applications to communicate with each other by providing them with the necessary tools and functions. It takes the request from the user and sends it to the service provider and then again sends the result generated from the service provider to the desired user. A developer extensively uses APIs in his software to implement various features by using an API call without writing complex codes for the same. We can create an API for an operating system, database system, hardware system, JavaScript file, or similar object-oriented files. PayPal, google pay are the examples of API"
   ]
  },
  {
   "cell_type": "markdown",
   "id": "61139eff-dd29-4e7d-9f40-051c0462bf0b",
   "metadata": {},
   "source": [
    "#Q2\n",
    "advantages\n",
    "\n",
    "API solutions enable different software systems to communicate with each other, regardless of their programming language or platform. This enhances the interoperability between systems, allowing for the exchange of data and functionality.\n",
    "API driven infrastructures enable developers to reuse code and functionality from existing software systems, saving time and reducing the amount of code that needs to be written from scratch.\n",
    "APIs can enable third-party developers to create applications that integrate with existing software systems, providing a better user experience and increased functionality\n",
    "APIs provide developers with greater flexibility, enabling them to choose the best programming languages and frameworks for their needs.\n",
    "APIs can enable companies to create new revenue streams by providing third-party developers with access to their software systems.\n",
    "\n",
    "Disadvantages\n",
    "\n",
    "APIs can be complex, requiring a significant amount of development effort to implement and maintain.\n",
    "APIs can have compatibility issues between different versions of the same software system or between different systems, which can lead to errors and system failures.\n",
    "APIs rely on third-party developers to create applications that integrate with the software system. This can create dependencies that are outside of the control of the company that owns the software system\n",
    "APIs require proper governance and management to ensure they are being used correctly and consistently across different applications and systems."
   ]
  },
  {
   "cell_type": "markdown",
   "id": "492bd942-013a-4fab-a5e9-5021641f54b5",
   "metadata": {},
   "source": [
    "#Q3 \n",
    "Both APIs and web services are technologies that enable the transfer of data between separate software applications. API is an interface that exposes an applicant's data to outside software, whereas web applications are one type of API with stricter requirements. These requirements include network communication and less accessibility for the public"
   ]
  },
  {
   "cell_type": "markdown",
   "id": "75d05d22-9a62-4966-a6b5-74f148222da8",
   "metadata": {},
   "source": [
    "#Q5\n",
    "SOAP stands for simple object access protocol. since soap is a protocol it follows a strict standard to allow communicaton between the client and the server. It transports data in standard XML format because it is XML based and relies on SOAP and it is designed with large enterprise applications in mind.it works over HTTP, HTTPS, STMP, XMPP\n",
    "Rest stands for representational state transfer. it transports data in JSON format. it is based on uri because rest follows stateless model.REST does not enforces message format as XML or JSON etc it works over HTTP and HTTPS and it is designed with mobile devices in mind\n",
    "disadvantages of Soap protocol are-\n",
    "soap is used only XML format data in web service, whereas the JSON and other lightweith formats are not supported by it.\n",
    "it is slow because it uses XML format, whereas the payload for a simple string message is large and also there are no security features in SOAP specification"
   ]
  },
  {
   "cell_type": "markdown",
   "id": "e5dc3721-ba33-4fae-bcce-9b7e4eb8c68c",
   "metadata": {},
   "source": [
    "#Q4\n",
    "Simple Object Access Protocol(SOAP) is a network protocol for exchanging structured data between nodes. It uses XML format to transfer messages. It works on top of application layer protocols like HTML and SMTP for notations and transmission. SOAP allows processes to communicate throughout platforms, languages and operating systems, since protocols like HTTP are already installed on all platforms.\n",
    "SOAP message transmits some basic information as given below\n",
    "Information about message structure and instructions on processing it.\n",
    "Encoding instructions for application defined data types.\n",
    "Information about Remote Procedure Calls and their responses.\n",
    "The message in XML format contains three parts\n",
    "Envelope:\n",
    "It specifies that the XML message is a SOAP message. A SOAP message can be defined as an XML document containing header and body encapsulated in the envelope. The fault is within the body of the message.\n",
    "Header:\n",
    "This part is not mandatory. But when it is present it can provide crucial information about the applications.\n",
    "Body:\n",
    "It contains the actual message that is being transmitted. Fault is contained within the body tags.\n",
    "Fault:\n",
    "This section contains the status of the application and also contains errors in the application. This section is also optional. It should not appear more than once in a SOAP message.\n",
    "\n",
    "REST stands for Representational State Transfer and API stands for Application Program Interface. REST is a software architectural style that defines the set of rules to be used for creating web services. Web services which follow the REST architectural style are known as RESTful web services. It allows requesting systems to access and manipulate web resources by using a uniform and predefined set of rules. Interaction in REST based systems happen through Internet’s Hypertext Transfer Protocol (HTTP). \n",
    "A Restful system consists of a:\n",
    "\n",
    "client who requests for the resources.\n",
    "server who has the resources\n",
    "REST allows us to achieve the architectural properties of performance, scalability, generality, simplicity, modifiability, and extensibility.\n",
    "REST defines a set of main, general constraints to follow while developing RESTful APIs.\n",
    "Constraints\n",
    "Uniform interface. Specific resources should be identified in the request. Usually, they are described by Uniform Resource Identifier (URI). Moreover, internal implementation is separate from resource representation. Further, representation should provide all information to modify or delete the resource or fetch additional data.\n",
    "Client-server architecture. The client uses URIs to obtain resources. It doesn’t concern how the server process the request. On the other hand, the server process and returns the resources. It doesn’t impact a user interface in any way. Both client and server don’t need to know about other responsibilities. Thus, they can evolve independently. It allows using a single API in many different clients, e.g., web browsers, mobile apps.\n",
    "Statelessness. A RESTful API should be stateless. In simple words, it means that it doesn’t store any information about the user’s session. Therefore, every single request should provide complete data to process it. Thus, it leads to greater availability of the API.\n",
    "Cacheability. The server’s response should provide information on whether it should be cached and for what time or not. Caching the data that updates rarely improves performance and eliminates redundant client-server interactions.\n",
    "Layered system. A REST API can consist of multiple layers, eg., business logic, presentation, data access. Moreover, layers shouldn’t directly impact others. Further, the client shouldn’t know if it’s connected directly to the end server or intermediary. Therefore, we can easily scale the system or provide additional layers such as gateways, proxies, load balancers.\n",
    "Code on demand. This one is an optional constraint. The server can return a part of the code itself instead of the data in JSON format. The point is to provide specific operations on the data that the client can use directly. Although, it’s not a common practice.\n"
   ]
  },
  {
   "cell_type": "code",
   "execution_count": null,
   "id": "f55cdbc2-eb0e-4fc3-aa6b-3d43586f2424",
   "metadata": {},
   "outputs": [],
   "source": []
  }
 ],
 "metadata": {
  "kernelspec": {
   "display_name": "Python 3 (ipykernel)",
   "language": "python",
   "name": "python3"
  },
  "language_info": {
   "codemirror_mode": {
    "name": "ipython",
    "version": 3
   },
   "file_extension": ".py",
   "mimetype": "text/x-python",
   "name": "python",
   "nbconvert_exporter": "python",
   "pygments_lexer": "ipython3",
   "version": "3.10.8"
  }
 },
 "nbformat": 4,
 "nbformat_minor": 5
}
