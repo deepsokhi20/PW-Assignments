{
 "cells": [
  {
   "cell_type": "code",
   "execution_count": 5,
   "id": "63b26c89-bd43-4610-9105-b676627173d1",
   "metadata": {},
   "outputs": [],
   "source": [
    "#Q1 def keyword is used to create a funtion in python\n",
    "l=list(range(26))"
   ]
  },
  {
   "cell_type": "code",
   "execution_count": 6,
   "id": "d06a8d50-e072-4706-8d1d-a85d0e071d40",
   "metadata": {},
   "outputs": [
    {
     "data": {
      "text/plain": [
       "[0,\n",
       " 1,\n",
       " 2,\n",
       " 3,\n",
       " 4,\n",
       " 5,\n",
       " 6,\n",
       " 7,\n",
       " 8,\n",
       " 9,\n",
       " 10,\n",
       " 11,\n",
       " 12,\n",
       " 13,\n",
       " 14,\n",
       " 15,\n",
       " 16,\n",
       " 17,\n",
       " 18,\n",
       " 19,\n",
       " 20,\n",
       " 21,\n",
       " 22,\n",
       " 23,\n",
       " 24,\n",
       " 25]"
      ]
     },
     "execution_count": 6,
     "metadata": {},
     "output_type": "execute_result"
    }
   ],
   "source": [
    "l"
   ]
  },
  {
   "cell_type": "code",
   "execution_count": 13,
   "id": "b61b9ced-edee-4492-ad06-90ee946e7a22",
   "metadata": {},
   "outputs": [],
   "source": [
    "def odd(l):\n",
    "    l1=[]\n",
    "    for i in l:\n",
    "        if i % 2 != 0:\n",
    "            l1.append(i)\n",
    "    return l1        "
   ]
  },
  {
   "cell_type": "code",
   "execution_count": 14,
   "id": "de324688-d7a0-46b3-a276-4dc86bf080f9",
   "metadata": {},
   "outputs": [
    {
     "data": {
      "text/plain": [
       "[1, 3, 5, 7, 9, 11, 13, 15, 17, 19, 21, 23, 25]"
      ]
     },
     "execution_count": 14,
     "metadata": {},
     "output_type": "execute_result"
    }
   ],
   "source": [
    "odd(l)"
   ]
  },
  {
   "cell_type": "code",
   "execution_count": 24,
   "id": "fbb555d6-d030-4241-906f-b2834929f92d",
   "metadata": {},
   "outputs": [],
   "source": [
    "#Q2 *args is a funtion in python which allows you to pass variable number of arguments to a funtion.It receives argument as tuple\n",
    "#funtion of *args\n",
    "def test1(*args, a):\n",
    "    return args, a"
   ]
  },
  {
   "cell_type": "code",
   "execution_count": 25,
   "id": "ab9c5b91-4234-42e1-912f-443a41120841",
   "metadata": {},
   "outputs": [
    {
     "data": {
      "text/plain": [
       "((1, 2, 3, 4), 23)"
      ]
     },
     "execution_count": 25,
     "metadata": {},
     "output_type": "execute_result"
    }
   ],
   "source": [
    "test1(1,2,3,4,a =23)"
   ]
  },
  {
   "cell_type": "code",
   "execution_count": 26,
   "id": "496c3bbf-c625-4129-8dae-d98c11c1f2e3",
   "metadata": {},
   "outputs": [],
   "source": [
    "#**kwargs is used to pass a keyworded, variable-length argument list.double star allows us to pass through keyworded arguments. It receives argument as dictionary\n",
    "#funtiom of **kwargs\n",
    "def fruits(**kwargs):\n",
    "    for key, value in kwargs.items():\n",
    "        print(key, value)"
   ]
  },
  {
   "cell_type": "code",
   "execution_count": 27,
   "id": "1eaf87eb-f9a9-4cc6-98ad-231cde9b1076",
   "metadata": {},
   "outputs": [
    {
     "name": "stdout",
     "output_type": "stream",
     "text": [
      "first apple\n",
      "second mango\n",
      "third banana\n",
      "fourth grapes\n"
     ]
    }
   ],
   "source": [
    "fruits(first = \"apple\", second= \"mango\", third=\"banana\", fourth= \"grapes\")"
   ]
  },
  {
   "cell_type": "markdown",
   "id": "337b7cb1-ee1f-483a-93f5-30bd4e75bf3d",
   "metadata": {},
   "source": [
    "#Q3 An iterator allows you to iterate each value from the collectiom of data such as lists, tuples, dictionaries and sets.using an iterator method we can loop through an object and return its elements. _iter_() and _next_() are used to initialize the iterator object and for loop is ised to iterate over a sequence of elements\n"
   ]
  },
  {
   "cell_type": "markdown",
   "id": "41a8bc22-1794-4fde-a38f-1f9d15b19a28",
   "metadata": {},
   "source": [
    "#Q4 Generator function allows you to declare a funtion that behave like an iterator, providing a faster way to create iterators. yield keyword is similar to return keyword but yield controls the flow of a generator function. the yield statement returns a generator object to the one who calls the funtion which contains yield instead of simply returning the value"
   ]
  },
  {
   "cell_type": "code",
   "execution_count": 17,
   "id": "75d2b83c-4784-45f0-af37-dc816b42292e",
   "metadata": {},
   "outputs": [],
   "source": [
    "def count_test(n):\n",
    "    count = 1\n",
    "    while count <= n:\n",
    "        yield count\n",
    "        count = count + 1\n",
    "        "
   ]
  },
  {
   "cell_type": "code",
   "execution_count": 21,
   "id": "4deadaea-26d1-430b-9c49-a4f6345c9ca9",
   "metadata": {},
   "outputs": [
    {
     "name": "stdout",
     "output_type": "stream",
     "text": [
      "1\n",
      "2\n",
      "3\n",
      "4\n",
      "5\n",
      "6\n",
      "7\n"
     ]
    }
   ],
   "source": [
    "c = count_test(7)\n",
    "for i in c:\n",
    "    print(i)"
   ]
  },
  {
   "cell_type": "code",
   "execution_count": 14,
   "id": "1a291693-4a92-4a4e-8393-7616ad714ca5",
   "metadata": {},
   "outputs": [],
   "source": [
    "#Q5\n",
    "def isprime(num):\n",
    "    for i in range(2, num):\n",
    "        if num % i == 0:\n",
    "            return False\n",
    "    return True\n",
    "def prime_generator(n):\n",
    "    num = 2\n",
    "    while n:\n",
    "        if isprime(num):\n",
    "            yield num \n",
    "            n = n-1\n",
    "        num = num+1\n",
    "    return "
   ]
  },
  {
   "cell_type": "code",
   "execution_count": 21,
   "id": "9e942a9c-d376-4182-9473-de204f56184c",
   "metadata": {},
   "outputs": [
    {
     "name": "stdout",
     "output_type": "stream",
     "text": [
      "2  3  5  7  11  13  17  19  23  29  31  37  41  43  47  53  59  61  67  71  "
     ]
    }
   ],
   "source": [
    "it= prime_generator(20)\n",
    "for e in it:\n",
    "    print(e, end= '  ')"
   ]
  },
  {
   "cell_type": "code",
   "execution_count": 3,
   "id": "c36f3090-2e0c-4300-9fb7-1e2e3a6a5bba",
   "metadata": {},
   "outputs": [],
   "source": [
    "#Q5\n",
    "def test_fib1():\n",
    "    a,b = 0,1\n",
    "    while True:\n",
    "        a,b = b, a+b"
   ]
  },
  {
   "cell_type": "code",
   "execution_count": 1,
   "id": "01109d29-8c82-4f3d-99cd-6f8ee63f43c1",
   "metadata": {},
   "outputs": [
    {
     "data": {
      "text/plain": [
       "range(0, 10)"
      ]
     },
     "execution_count": 1,
     "metadata": {},
     "output_type": "execute_result"
    }
   ],
   "source": [
    "range(10)"
   ]
  },
  {
   "cell_type": "code",
   "execution_count": null,
   "id": "78a37f80-3e56-48b6-8cfb-8ce3a9d16e5b",
   "metadata": {},
   "outputs": [],
   "source": [
    "fib= test_fib1()"
   ]
  },
  {
   "cell_type": "code",
   "execution_count": null,
   "id": "a83e2bd9-7b77-4b6d-b932-a29eca4883d6",
   "metadata": {},
   "outputs": [],
   "source": [
    "for i in range(10):\n",
    "    print(next(fib))"
   ]
  },
  {
   "cell_type": "code",
   "execution_count": 5,
   "id": "76b4c4af-506b-46d2-bbe4-73b592274cbf",
   "metadata": {},
   "outputs": [
    {
     "data": {
      "text/plain": [
       "['p', 'w', 's', 'k', 'i', 'l', 'l', 's']"
      ]
     },
     "execution_count": 5,
     "metadata": {},
     "output_type": "execute_result"
    }
   ],
   "source": [
    "#Q7\n",
    "s = \"pwskills\"\n",
    "list(map(lambda s: s.lower(), s))"
   ]
  },
  {
   "cell_type": "code",
   "execution_count": 9,
   "id": "49d256ce-2d9b-4615-830a-b7dad4e6b83f",
   "metadata": {},
   "outputs": [
    {
     "name": "stdin",
     "output_type": "stream",
     "text": [
      "enter number: 525\n"
     ]
    },
    {
     "name": "stdout",
     "output_type": "stream",
     "text": [
      "palindrome number\n"
     ]
    }
   ],
   "source": [
    "#Q8\n",
    "i= int(input(\"enter number:\"))\n",
    "rev=0\n",
    "x=i\n",
    "while(i>0):\n",
    "    rev= (rev*10)+ i%10\n",
    "    i=i//10\n",
    "if(x==rev):\n",
    "        print(\"palindrome number\")\n",
    "else: \n",
    "        print(\"Not Palindrome\");"
   ]
  },
  {
   "cell_type": "code",
   "execution_count": 17,
   "id": "a81a5d5f-2184-4f35-9610-39ff597b4687",
   "metadata": {},
   "outputs": [],
   "source": [
    "#Q9\n",
    "l = list(range(1, 101))"
   ]
  },
  {
   "cell_type": "code",
   "execution_count": 18,
   "id": "90c0c878-558a-4886-9a31-8c91d1f9bc4d",
   "metadata": {},
   "outputs": [
    {
     "data": {
      "text/plain": [
       "[1,\n",
       " 2,\n",
       " 3,\n",
       " 4,\n",
       " 5,\n",
       " 6,\n",
       " 7,\n",
       " 8,\n",
       " 9,\n",
       " 10,\n",
       " 11,\n",
       " 12,\n",
       " 13,\n",
       " 14,\n",
       " 15,\n",
       " 16,\n",
       " 17,\n",
       " 18,\n",
       " 19,\n",
       " 20,\n",
       " 21,\n",
       " 22,\n",
       " 23,\n",
       " 24,\n",
       " 25,\n",
       " 26,\n",
       " 27,\n",
       " 28,\n",
       " 29,\n",
       " 30,\n",
       " 31,\n",
       " 32,\n",
       " 33,\n",
       " 34,\n",
       " 35,\n",
       " 36,\n",
       " 37,\n",
       " 38,\n",
       " 39,\n",
       " 40,\n",
       " 41,\n",
       " 42,\n",
       " 43,\n",
       " 44,\n",
       " 45,\n",
       " 46,\n",
       " 47,\n",
       " 48,\n",
       " 49,\n",
       " 50,\n",
       " 51,\n",
       " 52,\n",
       " 53,\n",
       " 54,\n",
       " 55,\n",
       " 56,\n",
       " 57,\n",
       " 58,\n",
       " 59,\n",
       " 60,\n",
       " 61,\n",
       " 62,\n",
       " 63,\n",
       " 64,\n",
       " 65,\n",
       " 66,\n",
       " 67,\n",
       " 68,\n",
       " 69,\n",
       " 70,\n",
       " 71,\n",
       " 72,\n",
       " 73,\n",
       " 74,\n",
       " 75,\n",
       " 76,\n",
       " 77,\n",
       " 78,\n",
       " 79,\n",
       " 80,\n",
       " 81,\n",
       " 82,\n",
       " 83,\n",
       " 84,\n",
       " 85,\n",
       " 86,\n",
       " 87,\n",
       " 88,\n",
       " 89,\n",
       " 90,\n",
       " 91,\n",
       " 92,\n",
       " 93,\n",
       " 94,\n",
       " 95,\n",
       " 96,\n",
       " 97,\n",
       " 98,\n",
       " 99,\n",
       " 100]"
      ]
     },
     "execution_count": 18,
     "metadata": {},
     "output_type": "execute_result"
    }
   ],
   "source": [
    "l"
   ]
  },
  {
   "cell_type": "code",
   "execution_count": null,
   "id": "ca9c211d-9d1c-4611-b291-339731b94790",
   "metadata": {},
   "outputs": [],
   "source": [
    "list(filter())"
   ]
  }
 ],
 "metadata": {
  "kernelspec": {
   "display_name": "Python 3 (ipykernel)",
   "language": "python",
   "name": "python3"
  },
  "language_info": {
   "codemirror_mode": {
    "name": "ipython",
    "version": 3
   },
   "file_extension": ".py",
   "mimetype": "text/x-python",
   "name": "python",
   "nbconvert_exporter": "python",
   "pygments_lexer": "ipython3",
   "version": "3.10.8"
  }
 },
 "nbformat": 4,
 "nbformat_minor": 5
}
