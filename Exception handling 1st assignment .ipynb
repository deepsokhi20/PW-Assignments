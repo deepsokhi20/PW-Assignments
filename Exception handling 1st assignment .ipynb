{
 "cells": [
  {
   "cell_type": "markdown",
   "id": "d5d4a6d0-32da-4b12-aaae-b3038882aece",
   "metadata": {},
   "source": [
    "#Q1 \n",
    "In a large program there can be many errors in it and the program will crash because it will not execute after a single error. So, to run your program smoothly even with the errors we use exception which will raise the errors but still execute the rest of the program.\n",
    "A syntax error occurs when the program is not written according to the rules of the programming language and the errors are detected by the compiler or intepreter and prvent the program from running.\n",
    "An exception error is a different event which occurs during the execution of a program. Exceptions are caused when we try to access an undefined variable which does not exist. Exception errors also prevent the program from running if they are not handled "
   ]
  },
  {
   "cell_type": "markdown",
   "id": "9eac92c8-0172-4da8-b89d-c34d0e500590",
   "metadata": {},
   "source": [
    "#Q2 \n",
    "when an exception is not handled the operating system generates a fatal exception message which means that the program must close or the sysytem must shut down as well. exception occurs during a the execution if a program that disrupts the normal flow of program's instructions.\n",
    "also whithout exception the program will crash."
   ]
  },
  {
   "cell_type": "code",
   "execution_count": 2,
   "id": "1c98166c-8439-40ec-82f7-f4e011a4b86a",
   "metadata": {},
   "outputs": [
    {
     "ename": "ZeroDivisionError",
     "evalue": "division by zero",
     "output_type": "error",
     "traceback": [
      "\u001b[0;31m---------------------------------------------------------------------------\u001b[0m",
      "\u001b[0;31mZeroDivisionError\u001b[0m                         Traceback (most recent call last)",
      "Cell \u001b[0;32mIn[2], line 3\u001b[0m\n\u001b[1;32m      1\u001b[0m \u001b[38;5;66;03m#example\u001b[39;00m\n\u001b[1;32m      2\u001b[0m a \u001b[38;5;241m=\u001b[39m \u001b[38;5;241m10\u001b[39m\n\u001b[0;32m----> 3\u001b[0m b \u001b[38;5;241m=\u001b[39m \u001b[43ma\u001b[49m\u001b[38;5;241;43m/\u001b[39;49m\u001b[38;5;241;43m0\u001b[39;49m\n",
      "\u001b[0;31mZeroDivisionError\u001b[0m: division by zero"
     ]
    }
   ],
   "source": [
    "#example\n",
    "a = 10\n",
    "b = a/0"
   ]
  },
  {
   "cell_type": "markdown",
   "id": "74935b2a-427a-4a63-991d-75a51f49adc1",
   "metadata": {},
   "source": [
    "#Q3 Try and except blocks are used to catch and handle exceptions. first we will write try clause and exceptions are raised inside of it. and then we will write except clause under which we will write exceptions "
   ]
  },
  {
   "cell_type": "code",
   "execution_count": 8,
   "id": "083af442-7eaa-4448-bd7e-7cf8c66203b5",
   "metadata": {},
   "outputs": [
    {
     "name": "stdout",
     "output_type": "stream",
     "text": [
      "this is my except block [Errno 2] No such file or directory: 'test9999.txt'\n"
     ]
    }
   ],
   "source": [
    "try:\n",
    "    f = open(\"test9999.txt\", \"r\")\n",
    "except Exception as e:\n",
    "    print(\"this is my except block\", e)"
   ]
  },
  {
   "cell_type": "markdown",
   "id": "0340ceb2-dbe2-41f8-b299-7b74360796bd",
   "metadata": {},
   "source": [
    "#Q4 the try block will allow you to test a set of codes for errors. it will allow you to handle the errors.\n",
    " the else block will excute the code if there will be no exception"
   ]
  },
  {
   "cell_type": "markdown",
   "id": "97ce86b0-f59c-494a-a215-10af7165bb92",
   "metadata": {},
   "source": [
    "finally will always execute the code doesn't matter if the exception is generated or not"
   ]
  },
  {
   "cell_type": "markdown",
   "id": "8bcab721-7103-4c96-8bc1-041f2cded499",
   "metadata": {},
   "source": [
    "when there is an error the raise keyword raises the specific errors when a program met an error."
   ]
  },
  {
   "cell_type": "code",
   "execution_count": 10,
   "id": "9d93a892-2ee6-4368-82b8-0b33138ad359",
   "metadata": {},
   "outputs": [
    {
     "name": "stdout",
     "output_type": "stream",
     "text": [
      "this is my except block [Errno 2] No such file or directory: 'rest.txt'\n"
     ]
    }
   ],
   "source": [
    "#example\n",
    "try:\n",
    "    f = open(\"rest.txt\", \"r\")\n",
    "    f.write(\"this is my file\")\n",
    "except Exception as e:\n",
    "    print(\"this is my except block\", e)\n",
    "else:\n",
    "    f.close()\n",
    "    print(\"this block will execute once your try block will execute without errors\")\n",
    "    "
   ]
  },
  {
   "cell_type": "markdown",
   "id": "7ae647d2-6c63-4b78-83c7-22a336e99f64",
   "metadata": {},
   "source": [
    "#Q5 \n",
    "custom exceptions are the exceptions which are created by the user. it is called the user defined funtions. it is used when the built in exceptions are not enough for the handling a particular scenario.\n",
    "custom exceptions are useful in situations where you want to handle specific errors in program. custom exceptions will add information about project related problems"
   ]
  },
  {
   "cell_type": "code",
   "execution_count": 13,
   "id": "c520c6cf-a296-4cbe-b5f6-1175b7d273f1",
   "metadata": {},
   "outputs": [
    {
     "name": "stdin",
     "output_type": "stream",
     "text": [
      "enter a number:  17\n"
     ]
    },
    {
     "name": "stdout",
     "output_type": "stream",
     "text": [
      "exception occured : invalid age\n"
     ]
    }
   ],
   "source": [
    "#example\n",
    "class invalid_age_exception(Exception):\n",
    "    \"raised when the input value is less than 18 \"\n",
    "    pass\n",
    "number = 18\n",
    "try:\n",
    "    input_num = int(input(\"enter a number: \"))\n",
    "    if input_num < number:\n",
    "        raise invalid_age_exception\n",
    "    else:\n",
    "        print(\"Eligible to vote\")\n",
    "except invalid_age_exception:\n",
    "        print(\"exception occured : invalid age\")"
   ]
  },
  {
   "cell_type": "code",
   "execution_count": 13,
   "id": "95a5247d-54fd-45cc-8742-484b1ab53dc8",
   "metadata": {},
   "outputs": [
    {
     "name": "stdin",
     "output_type": "stream",
     "text": [
      "enter a number:  17\n"
     ]
    },
    {
     "name": "stdout",
     "output_type": "stream",
     "text": [
      "exception occured : invalid age\n"
     ]
    }
   ],
   "source": [
    "#Q6\n",
    "class invalid_age_exception(Exception):\n",
    "    \"raised when the input value is less than 18 \"\n",
    "    pass\n",
    "number = 18\n",
    "try:\n",
    "    input_num = int(input(\"enter a number: \"))\n",
    "    if input_num < number:\n",
    "        raise invalid_age_exception\n",
    "    else:\n",
    "        print(\"Eligible to vote\")\n",
    "except invalid_age_exception:\n",
    "        print(\"exception occured : invalid age\")"
   ]
  },
  {
   "cell_type": "code",
   "execution_count": null,
   "id": "a37695b6-eee5-412e-8430-297f980a1555",
   "metadata": {},
   "outputs": [],
   "source": []
  }
 ],
 "metadata": {
  "kernelspec": {
   "display_name": "Python 3 (ipykernel)",
   "language": "python",
   "name": "python3"
  },
  "language_info": {
   "codemirror_mode": {
    "name": "ipython",
    "version": 3
   },
   "file_extension": ".py",
   "mimetype": "text/x-python",
   "name": "python",
   "nbconvert_exporter": "python",
   "pygments_lexer": "ipython3",
   "version": "3.10.8"
  }
 },
 "nbformat": 4,
 "nbformat_minor": 5
}
