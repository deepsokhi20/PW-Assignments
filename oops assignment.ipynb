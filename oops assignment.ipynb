{
 "cells": [
  {
   "cell_type": "code",
   "execution_count": 1,
   "id": "d66e8184-0ae7-42fc-b43d-d9521cc2a0f4",
   "metadata": {},
   "outputs": [],
   "source": [
    "#Q1\n",
    "class vehicle:\n",
    "    def __init__(self, name_of_vehicle, max_speed, average_of_vehicle):\n",
    "        self.name_of_vehicle = name_of_vehicle\n",
    "        self.max_speed = max_speed\n",
    "        self.average_of_vehicle = average_of_vehicle\n",
    "    def return_vehicle_details(self):\n",
    "        return self.name_of_vehicle, self.max_speed, self.average_speed"
   ]
  },
  {
   "cell_type": "code",
   "execution_count": 24,
   "id": "aaf678fb-5f17-4a2a-96bf-f11e9b29125c",
   "metadata": {},
   "outputs": [],
   "source": [
    "v1 = vehicle(\"Toyota\", 100, \"27kmpl\")"
   ]
  },
  {
   "cell_type": "code",
   "execution_count": 3,
   "id": "14052d00-40e4-4007-a847-d4f56aba7e87",
   "metadata": {},
   "outputs": [],
   "source": [
    "#Q2\n",
    "class child_class:\n",
    "    def seating_capacity(self, capacity):\n",
    "        return f\"the seating capacity of a {self.name_of_vehicle} is {capacity} passangers\""
   ]
  },
  {
   "cell_type": "markdown",
   "id": "b8b17218-4e7e-4895-92ae-b218a921a0ca",
   "metadata": {},
   "source": [
    "#Q3\n",
    "when a child class inherits from more than one class then it is called multiple inheritance"
   ]
  },
  {
   "cell_type": "code",
   "execution_count": 1,
   "id": "c674f711-5c1a-4f69-93d0-f6b440735fa7",
   "metadata": {},
   "outputs": [],
   "source": [
    "class class1:\n",
    "    def test_class1(self):\n",
    "        return \"this is a method from class1\""
   ]
  },
  {
   "cell_type": "code",
   "execution_count": 2,
   "id": "e293f3ef-46ca-4f9e-8d28-44c5dc58659d",
   "metadata": {},
   "outputs": [],
   "source": [
    "class class2(class1):\n",
    "    def test_class2(self):\n",
    "        return \"this is a method from class 2\""
   ]
  },
  {
   "cell_type": "code",
   "execution_count": 3,
   "id": "aa9617c4-ae45-4b14-bd2f-6fea7a4b32bf",
   "metadata": {},
   "outputs": [],
   "source": [
    "class class3(class1, class2):\n",
    "    pass"
   ]
  },
  {
   "cell_type": "code",
   "execution_count": 4,
   "id": "82df624b-6905-4743-8855-23e2f8b4b6c6",
   "metadata": {},
   "outputs": [],
   "source": [
    "obj_class3 = class3()"
   ]
  },
  {
   "cell_type": "code",
   "execution_count": 6,
   "id": "785ab628-699a-43f2-a4bd-a86b21cc1e12",
   "metadata": {},
   "outputs": [
    {
     "data": {
      "text/plain": [
       "'this is a method from class1'"
      ]
     },
     "execution_count": 6,
     "metadata": {},
     "output_type": "execute_result"
    }
   ],
   "source": [
    "obj_class3.test_class1()"
   ]
  },
  {
   "cell_type": "code",
   "execution_count": 7,
   "id": "abbf98fb-a92b-4f7b-8923-95d7ea2c1a18",
   "metadata": {},
   "outputs": [
    {
     "data": {
      "text/plain": [
       "'this is a method from class 2'"
      ]
     },
     "execution_count": 7,
     "metadata": {},
     "output_type": "execute_result"
    }
   ],
   "source": [
    "obj_class3.test_class2()"
   ]
  },
  {
   "cell_type": "markdown",
   "id": "b80278a8-e7fa-4361-ad0b-3c3ff84b33d3",
   "metadata": {},
   "source": [
    "#Q4\n",
    "Getter is the method which allows you to check an attribute im a class whereas\n",
    "setter is a method which allows you to change an attribute in a class"
   ]
  },
  {
   "cell_type": "code",
   "execution_count": 13,
   "id": "0f540123-f7da-44b0-a551-bc23ea316cfc",
   "metadata": {},
   "outputs": [],
   "source": [
    "class car:\n",
    "    def __init__(self, year, make, model, speed):\n",
    "        self.__year = year\n",
    "        self.__make = make\n",
    "        self.__model = model\n",
    "        self.__speed = 0\n",
    "        \n",
    "    def set_speed(self, speed):\n",
    "        self.__speed = 0 if speed < 0 else speed\n",
    "    def get_speed(self):\n",
    "        return self.__speed"
   ]
  },
  {
   "cell_type": "code",
   "execution_count": 14,
   "id": "1cd12424-10b7-4080-b0a5-618815c93c2d",
   "metadata": {},
   "outputs": [],
   "source": [
    "c= car(2021, \"Toyota\", \"Innova\", 13 )"
   ]
  },
  {
   "cell_type": "code",
   "execution_count": 16,
   "id": "6b9ac3a2-f4d4-424b-a5d1-c3316872d5d8",
   "metadata": {},
   "outputs": [],
   "source": [
    "c.set_speed(789.98)"
   ]
  },
  {
   "cell_type": "code",
   "execution_count": 17,
   "id": "eb4fa357-60fd-4b59-bc39-e58e4b7cd530",
   "metadata": {},
   "outputs": [
    {
     "data": {
      "text/plain": [
       "789.98"
      ]
     },
     "execution_count": 17,
     "metadata": {},
     "output_type": "execute_result"
    }
   ],
   "source": [
    "c.get_speed()"
   ]
  },
  {
   "cell_type": "markdown",
   "id": "5c72f9a7-0956-4682-8a1f-c86818e13fa3",
   "metadata": {},
   "source": [
    "#Q5\n",
    "method overriding allow a subclass or child class to provide specific implementation of a method that is already provided by one of its super_classes or parent clases."
   ]
  },
  {
   "cell_type": "code",
   "execution_count": 19,
   "id": "42725b8e-2a55-468b-ab13-20dbf394541b",
   "metadata": {},
   "outputs": [],
   "source": [
    "class parent():\n",
    "    def __init__(self):\n",
    "        self.value = \"Inside parent\"\n",
    "    def show(self):\n",
    "        print(self.value)"
   ]
  },
  {
   "cell_type": "code",
   "execution_count": 20,
   "id": "53d2dd2a-cd35-4cf2-8183-02178d511fa2",
   "metadata": {},
   "outputs": [],
   "source": [
    "class child(parent):\n",
    "    def __init__(self):\n",
    "        self.value = \"Inside child\"\n",
    "    def show(self):\n",
    "        print(self.value)"
   ]
  },
  {
   "cell_type": "code",
   "execution_count": 25,
   "id": "11927bd1-1fbb-4988-86b6-d485c273ec01",
   "metadata": {},
   "outputs": [],
   "source": [
    "Parent = parent()"
   ]
  },
  {
   "cell_type": "code",
   "execution_count": 26,
   "id": "c1044c99-e4a2-437c-bab2-a25900e2d439",
   "metadata": {},
   "outputs": [],
   "source": [
    "Child= child()"
   ]
  },
  {
   "cell_type": "code",
   "execution_count": 27,
   "id": "2bec2643-3ce4-4a41-abf1-40de9081e796",
   "metadata": {},
   "outputs": [
    {
     "name": "stdout",
     "output_type": "stream",
     "text": [
      "Inside parent\n"
     ]
    }
   ],
   "source": [
    "Parent.show()"
   ]
  },
  {
   "cell_type": "code",
   "execution_count": 28,
   "id": "dffa0eda-cb95-4ab8-93f2-bc2905388620",
   "metadata": {},
   "outputs": [
    {
     "name": "stdout",
     "output_type": "stream",
     "text": [
      "Inside child\n"
     ]
    }
   ],
   "source": [
    "Child.show()"
   ]
  }
 ],
 "metadata": {
  "kernelspec": {
   "display_name": "Python 3 (ipykernel)",
   "language": "python",
   "name": "python3"
  },
  "language_info": {
   "codemirror_mode": {
    "name": "ipython",
    "version": 3
   },
   "file_extension": ".py",
   "mimetype": "text/x-python",
   "name": "python",
   "nbconvert_exporter": "python",
   "pygments_lexer": "ipython3",
   "version": "3.10.8"
  }
 },
 "nbformat": 4,
 "nbformat_minor": 5
}
